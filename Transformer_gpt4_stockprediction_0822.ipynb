{
  "cells": [
    {
      "cell_type": "markdown",
      "id": "359697d5",
      "metadata": {
        "id": "359697d5"
      },
      "source": [
        "# LangChain Cookbook 👨‍🍳👩‍🍳"
      ]
    },
    {
      "cell_type": "code",
      "source": [
        "from google.colab import drive\n",
        "drive.mount('/content/drive')"
      ],
      "metadata": {
        "colab": {
          "base_uri": "https://localhost:8080/"
        },
        "id": "S9MXfKIMdzFS",
        "outputId": "d89e8ad9-0e22-40b2-ae06-5aa9b37b6b24"
      },
      "id": "S9MXfKIMdzFS",
      "execution_count": 11,
      "outputs": [
        {
          "output_type": "stream",
          "name": "stdout",
          "text": [
            "Drive already mounted at /content/drive; to attempt to forcibly remount, call drive.mount(\"/content/drive\", force_remount=True).\n"
          ]
        }
      ]
    },
    {
      "cell_type": "code",
      "source": [
        "!pip install quandl"
      ],
      "metadata": {
        "id": "LI7627n-hLuw",
        "outputId": "7e6a7cfc-1dd3-46c2-c8a5-8eb2d44791cb",
        "colab": {
          "base_uri": "https://localhost:8080/"
        }
      },
      "id": "LI7627n-hLuw",
      "execution_count": 12,
      "outputs": [
        {
          "output_type": "stream",
          "name": "stdout",
          "text": [
            "Requirement already satisfied: quandl in /usr/local/lib/python3.10/dist-packages (3.7.0)\n",
            "Requirement already satisfied: pandas>=0.14 in /usr/local/lib/python3.10/dist-packages (from quandl) (1.5.3)\n",
            "Requirement already satisfied: numpy>=1.8 in /usr/local/lib/python3.10/dist-packages (from quandl) (1.23.5)\n",
            "Requirement already satisfied: requests>=2.7.0 in /usr/local/lib/python3.10/dist-packages (from quandl) (2.31.0)\n",
            "Requirement already satisfied: inflection>=0.3.1 in /usr/local/lib/python3.10/dist-packages (from quandl) (0.5.1)\n",
            "Requirement already satisfied: python-dateutil in /usr/local/lib/python3.10/dist-packages (from quandl) (2.8.2)\n",
            "Requirement already satisfied: six in /usr/local/lib/python3.10/dist-packages (from quandl) (1.16.0)\n",
            "Requirement already satisfied: more-itertools in /usr/local/lib/python3.10/dist-packages (from quandl) (10.1.0)\n",
            "Requirement already satisfied: pytz>=2020.1 in /usr/local/lib/python3.10/dist-packages (from pandas>=0.14->quandl) (2023.3)\n",
            "Requirement already satisfied: charset-normalizer<4,>=2 in /usr/local/lib/python3.10/dist-packages (from requests>=2.7.0->quandl) (3.2.0)\n",
            "Requirement already satisfied: idna<4,>=2.5 in /usr/local/lib/python3.10/dist-packages (from requests>=2.7.0->quandl) (3.4)\n",
            "Requirement already satisfied: urllib3<3,>=1.21.1 in /usr/local/lib/python3.10/dist-packages (from requests>=2.7.0->quandl) (2.0.4)\n",
            "Requirement already satisfied: certifi>=2017.4.17 in /usr/local/lib/python3.10/dist-packages (from requests>=2.7.0->quandl) (2023.7.22)\n"
          ]
        }
      ]
    },
    {
      "cell_type": "code",
      "source": [
        "import os\n",
        "os.getcwd()"
      ],
      "metadata": {
        "id": "vvhBGr0llQ_u",
        "outputId": "1a144782-faf6-44f5-e6a0-320c045651b8",
        "colab": {
          "base_uri": "https://localhost:8080/",
          "height": 35
        }
      },
      "id": "vvhBGr0llQ_u",
      "execution_count": 15,
      "outputs": [
        {
          "output_type": "execute_result",
          "data": {
            "text/plain": [
              "'/content/drive/My Drive/trading-momentum-transformer/trading-momentum-transformer'"
            ],
            "application/vnd.google.colaboratory.intrinsic+json": {
              "type": "string"
            }
          },
          "metadata": {},
          "execution_count": 15
        }
      ]
    },
    {
      "cell_type": "code",
      "source": [
        "# 필요한 패키지 설치\n",
        "!pip install git-python==1.0.3"
      ],
      "metadata": {
        "id": "iLFxbmD3lREA",
        "outputId": "21e7e1fe-20c2-48b7-a82c-8e439c3c734a",
        "colab": {
          "base_uri": "https://localhost:8080/"
        }
      },
      "id": "iLFxbmD3lREA",
      "execution_count": 16,
      "outputs": [
        {
          "output_type": "stream",
          "name": "stdout",
          "text": [
            "Requirement already satisfied: git-python==1.0.3 in /usr/local/lib/python3.10/dist-packages (1.0.3)\n",
            "Requirement already satisfied: gitpython in /usr/local/lib/python3.10/dist-packages (from git-python==1.0.3) (3.1.32)\n",
            "Requirement already satisfied: gitdb<5,>=4.0.1 in /usr/local/lib/python3.10/dist-packages (from gitpython->git-python==1.0.3) (4.0.10)\n",
            "Requirement already satisfied: smmap<6,>=3.0.1 in /usr/local/lib/python3.10/dist-packages (from gitdb<5,>=4.0.1->gitpython->git-python==1.0.3) (5.0.0)\n"
          ]
        }
      ]
    },
    {
      "cell_type": "code",
      "source": [
        "# Clone 명령어를 생성하고 실행\n",
        "import git\n",
        "import os\n",
        "\n",
        "repo_url = \"https://github.com/abeliansw/trading-momentum-transformer\"\n",
        "\n",
        "\n",
        "# 가져올 Github Repository의 이름\n",
        "repo_name = repo_url.split(\"/\")[-1]\n",
        "\n",
        "# 가져올 Github Repository의 파일 경로(최상위 경로로 설정)\n",
        "content_path = f'/content/drive/MyDrive/{repo_name}'\n",
        "\n",
        "if os.path.exists(content_path):\n",
        "    print(\"이미 해당 이름으로 구글 드라이브에 저장된 repo가 있습니다.\")\n",
        "else:\n",
        "    # 새로운 directory 생성\n",
        "    os.makedirs(content_path)\n",
        "\n",
        "    # clone Github Repository\n",
        "    git.Git(content_path).clone(repo_url)"
      ],
      "metadata": {
        "id": "At_4WBr9luG7",
        "outputId": "3d780ce0-70e8-426b-bc38-e640798037c6",
        "colab": {
          "base_uri": "https://localhost:8080/"
        }
      },
      "id": "At_4WBr9luG7",
      "execution_count": 18,
      "outputs": [
        {
          "output_type": "stream",
          "name": "stdout",
          "text": [
            "이미 해당 이름으로 구글 드라이브에 저장된 repo가 있습니다.\n"
          ]
        }
      ]
    },
    {
      "cell_type": "code",
      "source": [
        "import os\n",
        "\n",
        "working_directory = content_path + '/' + 'trading-momentum-transformer'\n",
        "os.chdir(working_directory)  # 작업 디렉토리 변경\n",
        "\n",
        "os.getcwd()\n",
        "\n"
      ],
      "metadata": {
        "id": "9qK-hSOxluR3",
        "outputId": "8e2dbdce-922a-4666-d3e6-aa4ffd3f29b4",
        "colab": {
          "base_uri": "https://localhost:8080/",
          "height": 35
        }
      },
      "id": "9qK-hSOxluR3",
      "execution_count": 19,
      "outputs": [
        {
          "output_type": "execute_result",
          "data": {
            "text/plain": [
              "'/content/drive/MyDrive/trading-momentum-transformer/trading-momentum-transformer'"
            ],
            "application/vnd.google.colaboratory.intrinsic+json": {
              "type": "string"
            }
          },
          "metadata": {},
          "execution_count": 19
        }
      ]
    },
    {
      "cell_type": "code",
      "source": [],
      "metadata": {
        "id": "fL64P6AelubY"
      },
      "id": "fL64P6AelubY",
      "execution_count": null,
      "outputs": []
    },
    {
      "cell_type": "code",
      "source": [
        "import quandl\n",
        "from settings.default import ALL_QUANDL_CODES\n",
        "import datetime as dt\n",
        "import argparse\n",
        "import os\n",
        "\n",
        "DEPTH = 1\n",
        "\n",
        "def main():\n",
        "    #quandl.ApiConfig.api_key = api_key\n",
        "    quandl.ApiConfig.api_key = 'jKzo_p2V4287sPcWbVX5'\n",
        "    if not os.path.exists(os.path.join(\"data\", \"quandl\")):\n",
        "        os.mkdir(os.path.join(\"data\", \"quandl\"))\n",
        "\n",
        "    for t in ALL_QUANDL_CODES:\n",
        "        print(t)\n",
        "        try:\n",
        "            data = quandl.get(\n",
        "                f\"{t}{DEPTH}\",\n",
        "                start_date=\"1988-01-01\",\n",
        "            )\n",
        "        except BaseException as ex:\n",
        "            print(ex)\n",
        "        if (\"Settle\" in data.columns) and (data.index.min() <= dt.datetime(2015, 1, 1)):\n",
        "            data[[\"Settle\"]].to_csv(\n",
        "                os.path.join(\"data\", \"quandl\", f\"{t.split('/')[-1]}.csv\")\n",
        "            )\n",
        "\n",
        "\n",
        "main()\n",
        "print('done!')\n",
        "# if __name__ == \"__main__\":\n",
        "\n",
        "#     def get_args():\n",
        "#         \"\"\"Download the Quandl data\"\"\"\n",
        "\n",
        "#         parser = argparse.ArgumentParser(description=\"Download the Quandl data.\")\n",
        "#         parser.add_argument(\n",
        "#             \"api_key\",\n",
        "#             metavar=\"k\",\n",
        "#             type=str,\n",
        "#             nargs=\"?\",\n",
        "#             help=\"quandl API key\",\n",
        "#         )\n",
        "\n",
        "#         args = parser.parse_known_args()[0]\n",
        "\n",
        "#         return (\n",
        "#             args.api_key,\n",
        "#         )\n",
        "\n",
        "#     main(*get_args())"
      ],
      "metadata": {
        "id": "Rm4dPpVihL-g",
        "outputId": "df0914f1-c0cb-41d1-8a7a-fcc5affa4164",
        "colab": {
          "base_uri": "https://localhost:8080/"
        }
      },
      "id": "Rm4dPpVihL-g",
      "execution_count": 20,
      "outputs": [
        {
          "output_type": "stream",
          "name": "stdout",
          "text": [
            "CHRIS/ICE_NJ\n",
            "CHRIS/CME_FI\n",
            "CHRIS/CME_FS\n",
            "CHRIS/CME_TY\n",
            "CHRIS/CME_N1U\n",
            "CHRIS/ASX_XS\n",
            "CHRIS/MX_CGB\n",
            "CHRIS/SGX_JG\n",
            "CHRIS/SGX_JB\n",
            "CHRIS/ASX_TN\n",
            "CHRIS/LIFFE_EON\n",
            "CHRIS/EUREX_FEO1\n",
            "CHRIS/CME_EM\n",
            "CHRIS/CME_TU\n",
            "CHRIS/MX_CGZ\n",
            "CHRIS/CME_FO\n",
            "CHRIS/CME_BOB\n",
            "CHRIS/CME_FF\n",
            "CHRIS/CME_I3\n",
            "CHRIS/ASX_IB\n",
            "CHRIS/MX_ONX\n",
            "CHRIS/MX_LGB\n",
            "CHRIS/CME_US\n",
            "CHRIS/MX_BAX\n",
            "CHRIS/LIFFE_EO3\n",
            "CHRIS/EUREX_FEU3\n",
            "CHRIS/LIFFE_I\n",
            "CHRIS/CME_ED\n",
            "CHRIS/TFX_JBA\n",
            "CHRIS/ASX_OI\n",
            "(Status 404) (Quandl Error QECx02) You have submitted an incorrect Dataset code. Please check your Dataset codes and try again.\n",
            "CHRIS/LIFFE_J\n",
            "CHRIS/ASX_YS\n",
            "CHRIS/ASX_YT\n",
            "CHRIS/ASX_TY\n",
            "CHRIS/CME_SA\n",
            "CHRIS/CME_FV\n",
            "CHRIS/MX_CGF\n",
            "CHRIS/ASX_IR\n",
            "CHRIS/ASX_BB\n",
            "CHRIS/LIFFE_AXF\n",
            "CHRIS/LIFFE_FTI\n",
            "CHRIS/CME_B4\n",
            "CHRIS/SHFE_AL\n",
            "CHRIS/MCX_AL\n",
            "CHRIS/MCX_ALM\n",
            "CHRIS/LIFFE_FMX\n",
            "CHRIS/CME_NEN\n",
            "CHRIS/CME_E5\n",
            "CHRIS/CME_AD\n",
            "CHRIS/ICE_AR\n",
            "CHRIS/ODE_AB\n",
            "(Status 404) (Quandl Error QECx02) You have submitted an incorrect Dataset code. Please check your Dataset codes and try again.\n",
            "CHRIS/ICE_BW\n",
            "CHRIS/LIFFE_BXF\n",
            "CHRIS/CBOE_VXEW\n",
            "CHRIS/CME_BR\n",
            "CHRIS/MCX_B\n",
            "CHRIS/ICE_B\n",
            "CHRIS/CME_BB\n",
            "CHRIS/CME_DB\n",
            "CHRIS/CME_CY\n",
            "CHRIS/CME_BZ\n",
            "CHRIS/CME_BP\n",
            "CHRIS/CME_BY\n",
            "CHRIS/EUREX_FBUT\n",
            "CHRIS/LIFFE_XFC\n",
            "CHRIS/LIFFE_FCE\n",
            "CHRIS/CME_CD\n",
            "CHRIS/CME_WCC\n",
            "CHRIS/ICE_RS\n",
            "CHRIS/MCX_CRDM\n",
            "CHRIS/CME_CB\n",
            "CHRIS/CME_CSC\n",
            "CHRIS/ICE_CER\n",
            "CHRIS/EUREX_F2CR\n",
            "CHRIS/CME_CU\n",
            "CHRIS/CME_5C\n",
            "CHRIS/SGX_CFF\n",
            "CHRIS/CME_CI\n",
            "CHRIS/CME_DA\n",
            "CHRIS/CME_DK\n",
            "CHRIS/CME_QL\n",
            "CHRIS/CME_SSI\n",
            "CHRIS/CME_MTF\n",
            "CHRIS/CME_MFF\n",
            "CHRIS/LIFFE_C\n",
            "CHRIS/ICE_CC\n",
            "CHRIS/LIFFE_RC\n",
            "CHRIS/ICE_KC\n",
            "CHRIS/CME_TC\n",
            "CHRIS/CME_GL\n",
            "CHRIS/CME_5Z\n",
            "CHRIS/EUREX_CONF\n",
            "CHRIS/MCX_CU\n",
            "CHRIS/SHFE_CU\n",
            "CHRIS/CME_HG\n",
            "CHRIS/MCX_CUM\n",
            "CHRIS/CME_C\n",
            "CHRIS/LIFFE_EMA\n",
            "CHRIS/ICE_ICN\n",
            "CHRIS/ODE_YC\n",
            "CHRIS/ODE_C75\n",
            "CHRIS/MCX_CT\n",
            "CHRIS/ICE_CT\n",
            "CHRIS/MCX_CL\n",
            "CHRIS/CBOE_OV\n",
            "CHRIS/CME_WS\n",
            "CHRIS/CME_CPO\n",
            "CHRIS/CME_UB\n",
            "CHRIS/CME_FY\n",
            "CHRIS/EUREX_FDAX\n",
            "CHRIS/EUREX_FTDX\n",
            "CHRIS/CME_PG\n",
            "CHRIS/CME_JR\n",
            "CHRIS/EUREX_FCAG\n",
            "CHRIS/CME_AW\n",
            "CHRIS/EUREX_FCCO\n",
            "CHRIS/EUREX_FCEN\n",
            "CHRIS/EUREX_FCXE\n",
            "CHRIS/EUREX_FCGR\n",
            "CHRIS/EUREX_FCIN\n",
            "CHRIS/EUREX_FCLI\n",
            "CHRIS/EUREX_FCPE\n",
            "CHRIS/EUREX_FCPR\n",
            "CHRIS/EUREX_FCSO\n",
            "CHRIS/CME_DY\n",
            "CHRIS/CME_DC\n",
            "CHRIS/ICE_DW\n",
            "CHRIS/ASX_VC\n",
            "CHRIS/CME_QX\n",
            "CHRIS/CME_EW\n",
            "CHRIS/ICE_ERU\n",
            "CHRIS/ICE_CEU\n",
            "CHRIS/CME_A5\n",
            "CHRIS/CME_M6B\n",
            "CHRIS/CME_M6E\n",
            "CHRIS/CME_MGC\n",
            "CHRIS/CME_XAY\n",
            "CHRIS/CME_XAP\n",
            "CHRIS/CME_QM\n",
            "CHRIS/CME_YM\n",
            "CHRIS/CME_E7\n",
            "CHRIS/CME_XAF\n",
            "CHRIS/CME_J7\n",
            "CHRIS/CME_NQ\n",
            "CHRIS/CME_QG\n",
            "CHRIS/CME_ES\n",
            "CHRIS/CME_XAK\n",
            "CHRIS/CME_XAU\n",
            "CHRIS/ICE_BPB\n",
            "CHRIS/ICE_DPB\n",
            "CHRIS/ICE_DPA\n",
            "CHRIS/ICE_TFM\n",
            "CHRIS/ICE_GER\n",
            "CHRIS/ICE_GNM\n",
            "CHRIS/CME_I6\n",
            "CHRIS/CME_I5\n",
            "CHRIS/CME_O1\n",
            "CHRIS/CME_N1\n",
            "CHRIS/EUREX_FERU\n",
            "CHRIS/CME_EH\n",
            "CHRIS/CME_71\n",
            "CHRIS/CME_Z1\n",
            "CHRIS/ICE_C\n",
            "CHRIS/EUREX_FEAA\n",
            "CHRIS/CME_EC\n",
            "CHRIS/EUREX_FEXF\n",
            "CHRIS/EUREX_FESX\n",
            "CHRIS/EUREX_FEXD\n",
            "CHRIS/EUREX_FEDV\n",
            "CHRIS/CME_RP\n",
            "CHRIS/CME_RY\n",
            "CHRIS/CME_Z\n",
            "CHRIS/CME_RF\n",
            "CHRIS/EUREX_FGBM\n",
            "CHRIS/EUREX_FGBL\n",
            "CHRIS/EUREX_FGBX\n",
            "CHRIS/SGX_ED\n",
            "CHRIS/EUREX_FOAT\n",
            "CHRIS/CME_UV\n",
            "CHRIS/CME_GZ\n",
            "CHRIS/CME_EN\n",
            "CHRIS/CME_UN\n",
            "CHRIS/EUREX_FGBS\n",
            "CHRIS/LIFFE_S\n",
            "CHRIS/SGX_EL\n",
            "CHRIS/SGX_EY\n",
            "CHRIS/CME_EY\n",
            "CHRIS/ASX_UB\n",
            "CHRIS/LIFFE_T\n",
            "CHRIS/CME_FC\n",
            "CHRIS/CME_FP\n",
            "CHRIS/ODE_FS\n",
            "CHRIS/LIFFE_YZ\n",
            "CHRIS/LIFFE_XZ\n",
            "CHRIS/LIFFE_Z\n",
            "CHRIS/LIFFE_Y\n",
            "(Status 404) (Quandl Error QECx02) You have submitted an incorrect Dataset code. Please check your Dataset codes and try again.\n",
            "CHRIS/SGX_CN\n",
            "CHRIS/LIFFE_EPE\n",
            "CHRIS/LIFFE_EPR\n",
            "CHRIS/LIFFE_Q\n",
            "(Status 404) (Quandl Error QECx02) You have submitted an incorrect Dataset code. Please check your Dataset codes and try again.\n",
            "CHRIS/SGX_ST\n",
            "CHRIS/LIFFE_FEO\n",
            "CHRIS/LIFFE_FEF\n",
            "CHRIS/SHFE_FU\n",
            "CHRIS/SGX_FB\n",
            "CHRIS/CME_DJ\n",
            "CHRIS/CME_SP\n",
            "CHRIS/ICE_G\n",
            "CHRIS/CME_WQ\n",
            "CHRIS/CME_RB\n",
            "CHRIS/CME_7H\n",
            "CHRIS/CME_7K\n",
            "CHRIS/ICE_SS\n",
            "CHRIS/ICE_SY\n",
            "CHRIS/SHFE_AU\n",
            "CHRIS/CME_GC\n",
            "CHRIS/MCX_GC\n",
            "CHRIS/MCX_GG\n",
            "CHRIS/MCX_GM\n",
            "CHRIS/MCX_GP\n",
            "CHRIS/MCX_GD\n",
            "CHRIS/CBOE_GV\n",
            "CHRIS/ASX_GW\n",
            "(Status 404) (Quandl Error QECx02) You have submitted an incorrect Dataset code. Please check your Dataset codes and try again.\n",
            "CHRIS/CME_A6\n",
            "CHRIS/MCX_GRM\n",
            "(Status 404) (Quandl Error QECx02) You have submitted an incorrect Dataset code. Please check your Dataset codes and try again.\n",
            "CHRIS/MCX_GRS\n",
            "(Status 404) (Quandl Error QECx02) You have submitted an incorrect Dataset code. Please check your Dataset codes and try again.\n",
            "CHRIS/CME_ME\n",
            "CHRIS/CME_GE\n",
            "CHRIS/CME_MG\n",
            "CHRIS/CME_MF\n",
            "CHRIS/CME_GCU\n",
            "CHRIS/CME_GCI\n",
            "CHRIS/CME_LY\n",
            "CHRIS/CME_GY\n",
            "CHRIS/CME_LT\n",
            "CHRIS/CME_ARW\n",
            "CHRIS/CME_RV\n",
            "CHRIS/MGEX_MW\n",
            "CHRIS/MGEX_IP\n",
            "CHRIS/MGEX_IH\n",
            "CHRIS/CME_HO\n",
            "CHRIS/ICE_O\n",
            "CHRIS/CME_IN\n",
            "CHRIS/CME_HB\n",
            "CHRIS/CME_NP\n",
            "CHRIS/CME_NN\n",
            "CHRIS/EUREX_FHOG\n",
            "CHRIS/CME_NH\n",
            "CHRIS/CME_IBV\n",
            "CHRIS/SGX_CIF\n",
            "CHRIS/CME_6T\n",
            "CHRIS/SGX_IR\n",
            "CHRIS/CME_MCC\n",
            "CHRIS/SGX_FEF\n",
            "CHRIS/CME_TIO\n",
            "CHRIS/CME_U6\n",
            "CHRIS/CME_H2\n",
            "CHRIS/CME_NI\n",
            "CHRIS/CME_KI\n",
            "CHRIS/CME_U3\n",
            "CHRIS/CME_P8\n",
            "CHRIS/CME_P7\n",
            "CHRIS/CME_U5\n",
            "CHRIS/CME_U4\n",
            "CHRIS/CME_P5\n",
            "CHRIS/CME_L9\n",
            "CHRIS/CME_R6\n",
            "CHRIS/LIFFE_JGB\n",
            "(Status 404) (Quandl Error QECx02) You have submitted an incorrect Dataset code. Please check your Dataset codes and try again.\n",
            "CHRIS/CME_JY\n",
            "CHRIS/MCX_KPK\n",
            "CHRIS/MCX_KP\n",
            "CHRIS/CME_KW\n",
            "CHRIS/SHFE_PB\n",
            "CHRIS/MCX_PB\n",
            "CHRIS/MCX_PBM\n",
            "CHRIS/CME_LN\n",
            "CHRIS/CME_LC\n",
            "CHRIS/CME_WJ\n",
            "CHRIS/LIFFE_R\n",
            "CHRIS/EUREX_FBTP\n",
            "CHRIS/CME_JS\n",
            "CHRIS/ICE_ULS\n",
            "CHRIS/CME_LB\n",
            "CHRIS/SGX_MR\n",
            "CHRIS/LIFFE_EOB\n",
            "CHRIS/CME_YX\n",
            "CHRIS/EUREX_F2MX\n",
            "CHRIS/LIFFE_H\n",
            "CHRIS/MCX_MO\n",
            "CHRIS/CME_MP\n",
            "CHRIS/CME_NFN\n",
            "CHRIS/EUREX_FOAM\n",
            "CHRIS/LIFFE_EBM\n",
            "CHRIS/ICE_WA\n",
            "CHRIS/LIFFE_MFA\n",
            "CHRIS/LIFFE_MFC\n",
            "CHRIS/CME_0D\n",
            "CHRIS/CME_MNC\n",
            "CHRIS/CME_MEO\n",
            "CHRIS/CME_MJN\n",
            "CHRIS/MX_SXM\n",
            "CHRIS/MX_SCF\n",
            "CHRIS/CME_0F\n",
            "CHRIS/CME_MTS\n",
            "CHRIS/CME_YK\n",
            "CHRIS/CME_YW\n",
            "CHRIS/CME_YC\n",
            "CHRIS/CME_H3\n",
            "CHRIS/CME_K2\n",
            "CHRIS/CME_H5\n",
            "CHRIS/CME_EJ\n",
            "CHRIS/CME_H4\n",
            "CHRIS/CME_MEL\n",
            "CHRIS/CME_FDM\n",
            "CHRIS/CME_PDM\n",
            "CHRIS/CME_FTM\n",
            "CHRIS/CME_PTM\n",
            "CHRIS/CME_HMO\n",
            "CHRIS/CME_HMW\n",
            "CHRIS/CME_C0\n",
            "CHRIS/CME_MBN\n",
            "CHRIS/CME_8I\n",
            "CHRIS/CME_B0\n",
            "CHRIS/CME_7Q\n",
            "CHRIS/CME_D0\n",
            "CHRIS/CME_MNB\n",
            "CHRIS/CME_MBE\n",
            "CHRIS/EUREX_FMAS\n",
            "CHRIS/SGX_AP\n",
            "CHRIS/EUREX_FMCL\n",
            "CHRIS/EUREX_FMCN\n",
            "CHRIS/EUREX_FMCO\n",
            "CHRIS/EUREX_FMCZ\n",
            "CHRIS/EUREX_FMEY\n",
            "CHRIS/EUREX_FMEA\n",
            "CHRIS/EUREX_FMEE\n",
            "CHRIS/EUREX_FMEM\n",
            "CHRIS/EUREX_FMEL\n",
            "CHRIS/EUREX_FMEU\n",
            "CHRIS/LIFFE_MPE\n",
            "CHRIS/EUREX_FMFM\n",
            "CHRIS/SGX_HK\n",
            "CHRIS/EUREX_FMHU\n",
            "CHRIS/EUREX_FMIN\n",
            "CHRIS/SGX_ID\n",
            "CHRIS/EUREX_FMJP\n",
            "CHRIS/EUREX_FMMY\n",
            "CHRIS/EUREX_FMMX\n",
            "CHRIS/EUREX_FMMA\n",
            "CHRIS/EUREX_FMPE\n",
            "CHRIS/EUREX_FMPH\n",
            "CHRIS/EUREX_FMPL\n",
            "CHRIS/EUREX_FMRS\n",
            "CHRIS/EUREX_FMRU\n",
            "CHRIS/SGX_SG\n",
            "CHRIS/EUREX_FMZA\n",
            "CHRIS/SGX_TW\n",
            "CHRIS/EUREX_FMTH\n",
            "CHRIS/EUREX_FMWO\n",
            "CHRIS/CME_ND\n",
            "CHRIS/CBOE_VN\n",
            "CHRIS/MGEX_IC\n",
            "CHRIS/MGEX_IS\n",
            "CHRIS/CME_NG\n",
            "CHRIS/MCX_NG\n",
            "CHRIS/CME_HH\n",
            "CHRIS/CME_HP\n",
            "CHRIS/SHFE_RU\n",
            "CHRIS/CME_MM\n",
            "CHRIS/CME_NE\n",
            "CHRIS/ICE_ZJ\n",
            "CHRIS/ICE_NCF\n",
            "CHRIS/CME_NL\n",
            "CHRIS/CME_PD\n",
            "CHRIS/MCX_NI\n",
            "CHRIS/MCX_NIM\n",
            "CHRIS/SGX_IN\n",
            "CHRIS/OSE_NK225\n",
            "CHRIS/CME_NK\n",
            "CHRIS/SGX_NK\n",
            "CHRIS/OSE_NK225M\n",
            "CHRIS/OSE_NK300\n",
            "(Status 404) (Quandl Error QECx02) You have submitted an incorrect Dataset code. Please check your Dataset codes and try again.\n",
            "CHRIS/SGX_ND\n",
            "CHRIS/OSE_NKVI\n",
            "CHRIS/CME_N1Y\n",
            "CHRIS/CME_NF\n",
            "CHRIS/ASX_VW\n",
            "CHRIS/CME_VR\n",
            "CHRIS/CME_NYF\n",
            "CHRIS/CME_HOB\n",
            "CHRIS/CME_HK\n",
            "CHRIS/CME_MPX\n",
            "CHRIS/CME_HA\n",
            "CHRIS/CME_YH\n",
            "CHRIS/CME_1U\n",
            "CHRIS/CME_7Y\n",
            "CHRIS/ICE_N\n",
            "CHRIS/CME_K4\n",
            "CHRIS/CME_K3\n",
            "CHRIS/CME_KB\n",
            "CHRIS/CME_KA\n",
            "CHRIS/CME_A3\n",
            "CHRIS/CME_Q5\n",
            "CHRIS/CME_58\n",
            "CHRIS/CME_4M\n",
            "CHRIS/CME_4L\n",
            "CHRIS/CME_D2\n",
            "CHRIS/CME_T3\n",
            "CHRIS/CME_KH\n",
            "CHRIS/CME_KG\n",
            "CHRIS/CME_D4\n",
            "CHRIS/CME_D3\n",
            "CHRIS/CME_KK\n",
            "CHRIS/CME_KJ\n",
            "CHRIS/CME_O\n",
            "CHRIS/EUREX_FFOX\n",
            "CHRIS/CME_OFM\n",
            "CHRIS/CME_OPM\n",
            "CHRIS/ICE_OJ\n",
            "CHRIS/ODE_OR\n",
            "CHRIS/OSE_DJIA\n",
            "CHRIS/MX_OIS\n",
            "CHRIS/CME_PA\n",
            "CHRIS/CME_PH\n",
            "CHRIS/CME_PC\n",
            "CHRIS/EUREX_FPIG\n",
            "CHRIS/CME_X1\n",
            "CHRIS/CME_Y1\n",
            "CHRIS/CME_Z9\n",
            "CHRIS/CME_D7\n",
            "CHRIS/CME_R7\n",
            "CHRIS/CME_VP\n",
            "CHRIS/CME_V3\n",
            "CHRIS/CME_VM\n",
            "CHRIS/CME_W4\n",
            "CHRIS/CME_S4\n",
            "CHRIS/CME_MOD\n",
            "CHRIS/CME_R3\n",
            "CHRIS/CME_E3\n",
            "CHRIS/CME_D9\n",
            "CHRIS/CME_D8\n",
            "CHRIS/CME_E8\n",
            "CHRIS/CME_D6\n",
            "CHRIS/CME_F2\n",
            "CHRIS/CME_J2\n",
            "CHRIS/CME_46\n",
            "CHRIS/CME_47\n",
            "CHRIS/CME_B3\n",
            "CHRIS/CME_N3\n",
            "CHRIS/CME_L3\n",
            "CHRIS/CME_UO\n",
            "CHRIS/CME_B6\n",
            "CHRIS/CME_UM\n",
            "CHRIS/CME_JP\n",
            "CHRIS/CME_4P\n",
            "CHRIS/CME_4N\n",
            "CHRIS/CME_F5\n",
            "CHRIS/CME_L5\n",
            "CHRIS/CME_W6\n",
            "CHRIS/CME_L6\n",
            "CHRIS/CME_E4\n",
            "CHRIS/CME_J4\n",
            "CHRIS/CME_L1\n",
            "CHRIS/CME_N9\n",
            "CHRIS/CME_JM\n",
            "CHRIS/CME_PL\n",
            "CHRIS/SGX_GOF\n",
            "CHRIS/SGX_KRF\n",
            "CHRIS/SGX_NJF\n",
            "CHRIS/SGX_1MF\n",
            "CHRIS/SGX_3MF\n",
            "CHRIS/CME_PZ\n",
            "CHRIS/MCX_POT\n",
            "(Status 404) (Quandl Error QECx02) You have submitted an incorrect Dataset code. Please check your Dataset codes and try again.\n",
            "CHRIS/EUREX_FEPP\n",
            "CHRIS/CME_QP\n",
            "CHRIS/CME_1R\n",
            "CHRIS/LIFFE_PSI\n",
            "CHRIS/LIFFE_ECO\n",
            "CHRIS/ODE_RS\n",
            "(Status 404) (Quandl Error QECx02) You have submitted an incorrect Dataset code. Please check your Dataset codes and try again.\n",
            "CHRIS/CME_RBB\n",
            "CHRIS/CME_RM\n",
            "CHRIS/CME_RL\n",
            "CHRIS/EUREX_FRDX\n",
            "CHRIS/ICE_AFR\n",
            "CHRIS/CME_NR\n",
            "CHRIS/ICE_ATW\n",
            "CHRIS/CME_RR\n",
            "CHRIS/ICE_RF\n",
            "CHRIS/ICE_RG\n",
            "CHRIS/ICE_TF\n",
            "CHRIS/ICE_RV\n",
            "CHRIS/CME_RU\n",
            "CHRIS/ICE_KRU\n",
            "CHRIS/CME_GI\n",
            "CHRIS/CME_MD\n",
            "CHRIS/CBOE_VX\n",
            "CHRIS/MX_SXF\n",
            "CHRIS/MX_SXY\n",
            "CHRIS/MX_SXB\n",
            "CHRIS/MX_SXH\n",
            "CHRIS/MX_SXA\n",
            "CHRIS/CME_GA\n",
            "CHRIS/CME_NJ\n",
            "CHRIS/LIFFE_G\n",
            "CHRIS/LIFFE_L\n",
            "CHRIS/EUREX_FBTS\n",
            "CHRIS/SGX_RT\n",
            "CHRIS/SGX_TF\n",
            "CHRIS/SHFE_AG\n",
            "CHRIS/CME_SI\n",
            "CHRIS/MCX_SI\n",
            "CHRIS/MCX_AG\n",
            "CHRIS/MCX_AGM\n",
            "CHRIS/MCX_SIM\n",
            "CHRIS/CME_UA\n",
            "CHRIS/CME_SD\n",
            "CHRIS/CME_SE\n",
            "CHRIS/CME_SG\n",
            "CHRIS/CME_AGA\n",
            "CHRIS/CME_KS\n",
            "CHRIS/CME_RK\n",
            "CHRIS/CME_1N\n",
            "CHRIS/CME_1NB\n",
            "CHRIS/SGX_RGF\n",
            "CHRIS/SGX_VCF\n",
            "CHRIS/LIFFE_EPL\n",
            "CHRIS/EUREX_FSMP\n",
            "CHRIS/EUREX_FSLI\n",
            "CHRIS/ICE_MP\n",
            "CHRIS/EUREX_FSMI\n",
            "CHRIS/EUREX_FSMM\n",
            "CHRIS/CME_NS\n",
            "CHRIS/CME_XN\n",
            "CHRIS/MGEX_IW\n",
            "CHRIS/ASX_US\n",
            "CHRIS/CME_RA\n",
            "CHRIS/CME_SZ\n",
            "CHRIS/CME_8Z\n",
            "CHRIS/ICE_IS\n",
            "CHRIS/ICE_ISM\n",
            "CHRIS/CME_SM\n",
            "CHRIS/CME_BO\n",
            "CHRIS/ICE_IBO\n",
            "CHRIS/CME_S\n",
            "CHRIS/ASX_AP\n",
            "CHRIS/CME_CNH\n",
            "CHRIS/MCX_STLRPR\n",
            "(Status 404) (Quandl Error QECx02) You have submitted an incorrect Dataset code. Please check your Dataset codes and try again.\n",
            "CHRIS/SHFE_RB\n",
            "CHRIS/SHFE_WR\n",
            "CHRIS/EUREX_FSTX\n",
            "CHRIS/ICE_SF\n",
            "CHRIS/ICE_SB\n",
            "CHRIS/CME_NKN\n",
            "CHRIS/CME_SF\n",
            "CHRIS/EUREX_FDIV\n",
            "CHRIS/CME_Y7\n",
            "CHRIS/CME_L4\n",
            "CHRIS/CME_6Z\n",
            "CHRIS/CME_NX\n",
            "CHRIS/CME_9F\n",
            "CHRIS/SGX_TR\n",
            "CHRIS/ODE_TR\n",
            "CHRIS/LIFFE_TPI\n",
            "(Status 404) (Quandl Error QECx02) You have submitted an incorrect Dataset code. Please check your Dataset codes and try again.\n",
            "CHRIS/CME_CZ\n",
            "CHRIS/CME_TR\n",
            "CHRIS/CME_NZ\n",
            "CHRIS/CME_TZ6\n",
            "CHRIS/CME_TRY\n",
            "CHRIS/CME_HR\n",
            "CHRIS/ICE_Y\n",
            "CHRIS/ICE_M\n",
            "CHRIS/ICE_P\n",
            "CHRIS/CME_UL\n",
            "CHRIS/ICE_DX\n",
            "CHRIS/ICE_NT\n",
            "CHRIS/ICE_ZR\n",
            "CHRIS/ODE_SB\n",
            "CHRIS/SGX_NU\n",
            "CHRIS/CME_UX\n",
            "CHRIS/CME_PF\n",
            "CHRIS/EUREX_FVS\n",
            "CHRIS/ASX_WK\n",
            "CHRIS/CME_NW\n",
            "CHRIS/ICE_IW\n",
            "CHRIS/CME_W\n",
            "CHRIS/EUREX_FWHY\n",
            "CHRIS/LIFFE_W\n",
            "CHRIS/ICE_T\n",
            "CHRIS/CME_CL\n",
            "CHRIS/CME_CS\n",
            "CHRIS/CME_AFF\n",
            "CHRIS/ICE_TIB\n",
            "CHRIS/CME_ABY\n",
            "CHRIS/CME_BK\n",
            "CHRIS/CME_FH\n",
            "CHRIS/MCX_ZN\n",
            "CHRIS/SHFE_ZN\n",
            "CHRIS/MCX_ZNM\n",
            "done!\n"
          ]
        }
      ]
    },
    {
      "cell_type": "code",
      "source": [
        "!pip install gpflow"
      ],
      "metadata": {
        "id": "xRUQvd2Iv4A_",
        "outputId": "9cf5cddb-45a4-4a80-e26f-77445fcd845a",
        "colab": {
          "base_uri": "https://localhost:8080/"
        }
      },
      "id": "xRUQvd2Iv4A_",
      "execution_count": 23,
      "outputs": [
        {
          "output_type": "stream",
          "name": "stdout",
          "text": [
            "Collecting gpflow\n",
            "  Downloading gpflow-2.9.0-py3-none-any.whl (379 kB)\n",
            "\u001b[2K     \u001b[90m━━━━━━━━━━━━━━━━━━━━━━━━━━━━━━━━━━━━━━━\u001b[0m \u001b[32m379.8/379.8 kB\u001b[0m \u001b[31m6.4 MB/s\u001b[0m eta \u001b[36m0:00:00\u001b[0m\n",
            "\u001b[?25hCollecting check-shapes>=1.0.0 (from gpflow)\n",
            "  Downloading check_shapes-1.1.1-py3-none-any.whl (45 kB)\n",
            "\u001b[2K     \u001b[90m━━━━━━━━━━━━━━━━━━━━━━━━━━━━━━━━━━━━━━━━\u001b[0m \u001b[32m45.8/45.8 kB\u001b[0m \u001b[31m6.2 MB/s\u001b[0m eta \u001b[36m0:00:00\u001b[0m\n",
            "\u001b[?25hCollecting deprecated (from gpflow)\n",
            "  Downloading Deprecated-1.2.14-py2.py3-none-any.whl (9.6 kB)\n",
            "Requirement already satisfied: multipledispatch>=0.6 in /usr/local/lib/python3.10/dist-packages (from gpflow) (1.0.0)\n",
            "Requirement already satisfied: numpy in /usr/local/lib/python3.10/dist-packages (from gpflow) (1.23.5)\n",
            "Requirement already satisfied: packaging in /usr/local/lib/python3.10/dist-packages (from gpflow) (23.1)\n",
            "Requirement already satisfied: scipy in /usr/local/lib/python3.10/dist-packages (from gpflow) (1.10.1)\n",
            "Requirement already satisfied: setuptools>=41.0.0 in /usr/local/lib/python3.10/dist-packages (from gpflow) (67.7.2)\n",
            "Requirement already satisfied: tabulate in /usr/local/lib/python3.10/dist-packages (from gpflow) (0.9.0)\n",
            "Requirement already satisfied: tensorflow-probability>=0.12.0 in /usr/local/lib/python3.10/dist-packages (from gpflow) (0.20.1)\n",
            "Requirement already satisfied: typing-extensions in /usr/local/lib/python3.10/dist-packages (from gpflow) (4.7.1)\n",
            "Requirement already satisfied: tensorflow>=2.4.0 in /usr/local/lib/python3.10/dist-packages (from gpflow) (2.12.0)\n",
            "Collecting dropstackframe>=0.1.0 (from check-shapes>=1.0.0->gpflow)\n",
            "  Downloading dropstackframe-0.1.0-py3-none-any.whl (4.5 kB)\n",
            "Collecting lark<2.0.0,>=1.1.0 (from check-shapes>=1.0.0->gpflow)\n",
            "  Downloading lark-1.1.7-py3-none-any.whl (108 kB)\n",
            "\u001b[2K     \u001b[90m━━━━━━━━━━━━━━━━━━━━━━━━━━━━━━━━━━━━━━\u001b[0m \u001b[32m108.9/108.9 kB\u001b[0m \u001b[31m10.8 MB/s\u001b[0m eta \u001b[36m0:00:00\u001b[0m\n",
            "\u001b[?25hRequirement already satisfied: absl-py>=1.0.0 in /usr/local/lib/python3.10/dist-packages (from tensorflow>=2.4.0->gpflow) (1.4.0)\n",
            "Requirement already satisfied: astunparse>=1.6.0 in /usr/local/lib/python3.10/dist-packages (from tensorflow>=2.4.0->gpflow) (1.6.3)\n",
            "Requirement already satisfied: flatbuffers>=2.0 in /usr/local/lib/python3.10/dist-packages (from tensorflow>=2.4.0->gpflow) (23.5.26)\n",
            "Requirement already satisfied: gast<=0.4.0,>=0.2.1 in /usr/local/lib/python3.10/dist-packages (from tensorflow>=2.4.0->gpflow) (0.4.0)\n",
            "Requirement already satisfied: google-pasta>=0.1.1 in /usr/local/lib/python3.10/dist-packages (from tensorflow>=2.4.0->gpflow) (0.2.0)\n",
            "Requirement already satisfied: grpcio<2.0,>=1.24.3 in /usr/local/lib/python3.10/dist-packages (from tensorflow>=2.4.0->gpflow) (1.57.0)\n",
            "Requirement already satisfied: h5py>=2.9.0 in /usr/local/lib/python3.10/dist-packages (from tensorflow>=2.4.0->gpflow) (3.9.0)\n",
            "Requirement already satisfied: jax>=0.3.15 in /usr/local/lib/python3.10/dist-packages (from tensorflow>=2.4.0->gpflow) (0.4.14)\n",
            "Requirement already satisfied: keras<2.13,>=2.12.0 in /usr/local/lib/python3.10/dist-packages (from tensorflow>=2.4.0->gpflow) (2.12.0)\n",
            "Requirement already satisfied: libclang>=13.0.0 in /usr/local/lib/python3.10/dist-packages (from tensorflow>=2.4.0->gpflow) (16.0.6)\n",
            "Requirement already satisfied: opt-einsum>=2.3.2 in /usr/local/lib/python3.10/dist-packages (from tensorflow>=2.4.0->gpflow) (3.3.0)\n",
            "Requirement already satisfied: protobuf!=4.21.0,!=4.21.1,!=4.21.2,!=4.21.3,!=4.21.4,!=4.21.5,<5.0.0dev,>=3.20.3 in /usr/local/lib/python3.10/dist-packages (from tensorflow>=2.4.0->gpflow) (3.20.3)\n",
            "Requirement already satisfied: six>=1.12.0 in /usr/local/lib/python3.10/dist-packages (from tensorflow>=2.4.0->gpflow) (1.16.0)\n",
            "Requirement already satisfied: tensorboard<2.13,>=2.12 in /usr/local/lib/python3.10/dist-packages (from tensorflow>=2.4.0->gpflow) (2.12.3)\n",
            "Requirement already satisfied: tensorflow-estimator<2.13,>=2.12.0 in /usr/local/lib/python3.10/dist-packages (from tensorflow>=2.4.0->gpflow) (2.12.0)\n",
            "Requirement already satisfied: termcolor>=1.1.0 in /usr/local/lib/python3.10/dist-packages (from tensorflow>=2.4.0->gpflow) (2.3.0)\n",
            "Requirement already satisfied: wrapt<1.15,>=1.11.0 in /usr/local/lib/python3.10/dist-packages (from tensorflow>=2.4.0->gpflow) (1.14.1)\n",
            "Requirement already satisfied: tensorflow-io-gcs-filesystem>=0.23.1 in /usr/local/lib/python3.10/dist-packages (from tensorflow>=2.4.0->gpflow) (0.33.0)\n",
            "Requirement already satisfied: decorator in /usr/local/lib/python3.10/dist-packages (from tensorflow-probability>=0.12.0->gpflow) (4.4.2)\n",
            "Requirement already satisfied: cloudpickle>=1.3 in /usr/local/lib/python3.10/dist-packages (from tensorflow-probability>=0.12.0->gpflow) (2.2.1)\n",
            "Requirement already satisfied: dm-tree in /usr/local/lib/python3.10/dist-packages (from tensorflow-probability>=0.12.0->gpflow) (0.1.8)\n",
            "Requirement already satisfied: wheel<1.0,>=0.23.0 in /usr/local/lib/python3.10/dist-packages (from astunparse>=1.6.0->tensorflow>=2.4.0->gpflow) (0.41.1)\n",
            "Requirement already satisfied: ml-dtypes>=0.2.0 in /usr/local/lib/python3.10/dist-packages (from jax>=0.3.15->tensorflow>=2.4.0->gpflow) (0.2.0)\n",
            "Requirement already satisfied: google-auth<3,>=1.6.3 in /usr/local/lib/python3.10/dist-packages (from tensorboard<2.13,>=2.12->tensorflow>=2.4.0->gpflow) (2.17.3)\n",
            "Requirement already satisfied: google-auth-oauthlib<1.1,>=0.5 in /usr/local/lib/python3.10/dist-packages (from tensorboard<2.13,>=2.12->tensorflow>=2.4.0->gpflow) (1.0.0)\n",
            "Requirement already satisfied: markdown>=2.6.8 in /usr/local/lib/python3.10/dist-packages (from tensorboard<2.13,>=2.12->tensorflow>=2.4.0->gpflow) (3.4.4)\n",
            "Requirement already satisfied: requests<3,>=2.21.0 in /usr/local/lib/python3.10/dist-packages (from tensorboard<2.13,>=2.12->tensorflow>=2.4.0->gpflow) (2.31.0)\n",
            "Requirement already satisfied: tensorboard-data-server<0.8.0,>=0.7.0 in /usr/local/lib/python3.10/dist-packages (from tensorboard<2.13,>=2.12->tensorflow>=2.4.0->gpflow) (0.7.1)\n",
            "Requirement already satisfied: werkzeug>=1.0.1 in /usr/local/lib/python3.10/dist-packages (from tensorboard<2.13,>=2.12->tensorflow>=2.4.0->gpflow) (2.3.7)\n",
            "Requirement already satisfied: cachetools<6.0,>=2.0.0 in /usr/local/lib/python3.10/dist-packages (from google-auth<3,>=1.6.3->tensorboard<2.13,>=2.12->tensorflow>=2.4.0->gpflow) (5.3.1)\n",
            "Requirement already satisfied: pyasn1-modules>=0.2.1 in /usr/local/lib/python3.10/dist-packages (from google-auth<3,>=1.6.3->tensorboard<2.13,>=2.12->tensorflow>=2.4.0->gpflow) (0.3.0)\n",
            "Requirement already satisfied: rsa<5,>=3.1.4 in /usr/local/lib/python3.10/dist-packages (from google-auth<3,>=1.6.3->tensorboard<2.13,>=2.12->tensorflow>=2.4.0->gpflow) (4.9)\n",
            "Requirement already satisfied: requests-oauthlib>=0.7.0 in /usr/local/lib/python3.10/dist-packages (from google-auth-oauthlib<1.1,>=0.5->tensorboard<2.13,>=2.12->tensorflow>=2.4.0->gpflow) (1.3.1)\n",
            "Requirement already satisfied: charset-normalizer<4,>=2 in /usr/local/lib/python3.10/dist-packages (from requests<3,>=2.21.0->tensorboard<2.13,>=2.12->tensorflow>=2.4.0->gpflow) (3.2.0)\n",
            "Requirement already satisfied: idna<4,>=2.5 in /usr/local/lib/python3.10/dist-packages (from requests<3,>=2.21.0->tensorboard<2.13,>=2.12->tensorflow>=2.4.0->gpflow) (3.4)\n",
            "Requirement already satisfied: urllib3<3,>=1.21.1 in /usr/local/lib/python3.10/dist-packages (from requests<3,>=2.21.0->tensorboard<2.13,>=2.12->tensorflow>=2.4.0->gpflow) (2.0.4)\n",
            "Requirement already satisfied: certifi>=2017.4.17 in /usr/local/lib/python3.10/dist-packages (from requests<3,>=2.21.0->tensorboard<2.13,>=2.12->tensorflow>=2.4.0->gpflow) (2023.7.22)\n",
            "Requirement already satisfied: MarkupSafe>=2.1.1 in /usr/local/lib/python3.10/dist-packages (from werkzeug>=1.0.1->tensorboard<2.13,>=2.12->tensorflow>=2.4.0->gpflow) (2.1.3)\n",
            "Requirement already satisfied: pyasn1<0.6.0,>=0.4.6 in /usr/local/lib/python3.10/dist-packages (from pyasn1-modules>=0.2.1->google-auth<3,>=1.6.3->tensorboard<2.13,>=2.12->tensorflow>=2.4.0->gpflow) (0.5.0)\n",
            "Requirement already satisfied: oauthlib>=3.0.0 in /usr/local/lib/python3.10/dist-packages (from requests-oauthlib>=0.7.0->google-auth-oauthlib<1.1,>=0.5->tensorboard<2.13,>=2.12->tensorflow>=2.4.0->gpflow) (3.2.2)\n",
            "Installing collected packages: lark, dropstackframe, deprecated, check-shapes, gpflow\n",
            "Successfully installed check-shapes-1.1.1 deprecated-1.2.14 dropstackframe-0.1.0 gpflow-2.9.0 lark-1.1.7\n"
          ]
        }
      ]
    },
    {
      "cell_type": "code",
      "source": [
        "!pip install empyrical"
      ],
      "metadata": {
        "id": "CcO-wFyeN3ZO",
        "outputId": "ce36a69c-1b7b-435d-d1dc-096ac0539fd3",
        "colab": {
          "base_uri": "https://localhost:8080/"
        }
      },
      "id": "CcO-wFyeN3ZO",
      "execution_count": 25,
      "outputs": [
        {
          "output_type": "stream",
          "name": "stdout",
          "text": [
            "Collecting empyrical\n",
            "  Downloading empyrical-0.5.5.tar.gz (52 kB)\n",
            "\u001b[?25l     \u001b[90m━━━━━━━━━━━━━━━━━━━━━━━━━━━━━━━━━━━━━━━━\u001b[0m \u001b[32m0.0/52.8 kB\u001b[0m \u001b[31m?\u001b[0m eta \u001b[36m-:--:--\u001b[0m\r\u001b[2K     \u001b[90m━━━━━━━━━━━━━━━━━━━━━━━━━━━━━━━━━━━━━━━━\u001b[0m \u001b[32m52.8/52.8 kB\u001b[0m \u001b[31m1.6 MB/s\u001b[0m eta \u001b[36m0:00:00\u001b[0m\n",
            "\u001b[?25h  Preparing metadata (setup.py) ... \u001b[?25l\u001b[?25hdone\n",
            "Requirement already satisfied: numpy>=1.9.2 in /usr/local/lib/python3.10/dist-packages (from empyrical) (1.23.5)\n",
            "Requirement already satisfied: pandas>=0.16.1 in /usr/local/lib/python3.10/dist-packages (from empyrical) (1.5.3)\n",
            "Requirement already satisfied: scipy>=0.15.1 in /usr/local/lib/python3.10/dist-packages (from empyrical) (1.10.1)\n",
            "Requirement already satisfied: pandas-datareader>=0.2 in /usr/local/lib/python3.10/dist-packages (from empyrical) (0.10.0)\n",
            "Requirement already satisfied: python-dateutil>=2.8.1 in /usr/local/lib/python3.10/dist-packages (from pandas>=0.16.1->empyrical) (2.8.2)\n",
            "Requirement already satisfied: pytz>=2020.1 in /usr/local/lib/python3.10/dist-packages (from pandas>=0.16.1->empyrical) (2023.3)\n",
            "Requirement already satisfied: lxml in /usr/local/lib/python3.10/dist-packages (from pandas-datareader>=0.2->empyrical) (4.9.3)\n",
            "Requirement already satisfied: requests>=2.19.0 in /usr/local/lib/python3.10/dist-packages (from pandas-datareader>=0.2->empyrical) (2.31.0)\n",
            "Requirement already satisfied: six>=1.5 in /usr/local/lib/python3.10/dist-packages (from python-dateutil>=2.8.1->pandas>=0.16.1->empyrical) (1.16.0)\n",
            "Requirement already satisfied: charset-normalizer<4,>=2 in /usr/local/lib/python3.10/dist-packages (from requests>=2.19.0->pandas-datareader>=0.2->empyrical) (3.2.0)\n",
            "Requirement already satisfied: idna<4,>=2.5 in /usr/local/lib/python3.10/dist-packages (from requests>=2.19.0->pandas-datareader>=0.2->empyrical) (3.4)\n",
            "Requirement already satisfied: urllib3<3,>=1.21.1 in /usr/local/lib/python3.10/dist-packages (from requests>=2.19.0->pandas-datareader>=0.2->empyrical) (2.0.4)\n",
            "Requirement already satisfied: certifi>=2017.4.17 in /usr/local/lib/python3.10/dist-packages (from requests>=2.19.0->pandas-datareader>=0.2->empyrical) (2023.7.22)\n",
            "Building wheels for collected packages: empyrical\n",
            "  Building wheel for empyrical (setup.py) ... \u001b[?25l\u001b[?25hdone\n",
            "  Created wheel for empyrical: filename=empyrical-0.5.5-py3-none-any.whl size=39753 sha256=6f4f7b90ddc6c232a4c852b50ab951d46aecd406bd57de0370f94ec5e35767c1\n",
            "  Stored in directory: /root/.cache/pip/wheels/0e/2e/f2/d6d2d9a1eb8fbbd9949bb5d4c00f753e3b74e5bd7ed10b1d36\n",
            "Successfully built empyrical\n",
            "Installing collected packages: empyrical\n",
            "Successfully installed empyrical-0.5.5\n"
          ]
        }
      ]
    },
    {
      "cell_type": "code",
      "source": [
        "import multiprocessing\n",
        "import argparse\n",
        "import os\n",
        "\n",
        "import argparse\n",
        "import datetime as dt\n",
        "\n",
        "import pandas as pd\n",
        "\n",
        "import mom_trans.changepoint_detection as cpd\n",
        "from mom_trans.data_prep import calc_returns\n",
        "from data.pull_data import pull_quandl_sample_data\n",
        "\n",
        "#from settings.default import CPD_DEFAULT_LBW, USE_KM_HYP_TO_INITIALISE_KC\n",
        "\n",
        "\n",
        "from settings.default import (\n",
        "    QUANDL_TICKERS,\n",
        "    CPD_QUANDL_OUTPUT_FOLDER,\n",
        "    CPD_DEFAULT_LBW,\n",
        "    USE_KM_HYP_TO_INITIALISE_KC,\n",
        ")\n",
        "\n",
        "N_WORKERS = len(QUANDL_TICKERS)\n",
        "\n",
        "def main2(\n",
        "    ticker: str, output_file_path: str, start_date: dt.datetime, end_date: dt.datetime, lookback_window_length :int\n",
        "):\n",
        "    data = pull_quandl_sample_data(ticker)\n",
        "    data[\"daily_returns\"] = calc_returns(data[\"close\"])\n",
        "\n",
        "    cpd.run_module(\n",
        "        data, lookback_window_length, output_file_path, start_date, end_date, USE_KM_HYP_TO_INITIALISE_KC\n",
        "    )\n",
        "\n",
        "def main_concurent_cpd():\n",
        "    lookback_window_length = 21\n",
        "    if not os.path.exists(CPD_QUANDL_OUTPUT_FOLDER(lookback_window_length)):\n",
        "        os.mkdir(CPD_QUANDL_OUTPUT_FOLDER(lookback_window_length))\n",
        "\n",
        "    start_date = dt.datetime.fromisoformat( \"1990-01-01\")\n",
        "    end_date = dt.datetime.fromisoformat( \"2021-12-31\")\n",
        "    main2(\"ICE_NJ\", \"data\\\\quandl_cpd_21lbw\\\\ICE_NJ.csv\", start_date, end_date,21)\n",
        "    #main2(\"ICE_NJ\", \"data\\\\quandl_cpd_126lbw\\\\ICE_NJ.csv\", start_date, end_date, 126)\n",
        "\n",
        "    # all_processes = [\n",
        "    #     f'python -m examples.cpd_quandl \"{ticker}\" \"{os.path.join(CPD_QUANDL_OUTPUT_FOLDER(lookback_window_length), ticker + \".csv\")}\" \"1990-01-01\" \"2021-12-31\" \"{lookback_window_length}\"'\n",
        "    #     for ticker in QUANDL_TICKERS\n",
        "    # ]\n",
        "    # process_pool = multiprocessing.Pool(processes=N_WORKERS)\n",
        "    # process_pool.map(os.system, all_processes)\n",
        "\n",
        "main_concurent_cpd()\n",
        "\n",
        "# if __name__ == \"__main__\":\n",
        "\n",
        "#     def get_args():\n",
        "#         \"\"\"Returns settings from command line.\"\"\"\n",
        "\n",
        "#         parser = argparse.ArgumentParser(\n",
        "#             description=\"Run changepoint detection module for all tickers\"\n",
        "#         )\n",
        "#         parser.add_argument(\n",
        "#             \"lookback_window_length\",\n",
        "#             metavar=\"l\",\n",
        "#             type=int,\n",
        "#             nargs=\"?\",\n",
        "#             default=CPD_DEFAULT_LBW,\n",
        "#             help=\"CPD lookback window length\",\n",
        "#         )\n",
        "#         return [\n",
        "#             parser.parse_known_args()[0].lookback_window_length,\n",
        "#         ]\n",
        "\n",
        "#     main(*get_args())"
      ],
      "metadata": {
        "id": "sh18ewChv4Fw",
        "outputId": "df2779ba-7ecf-4c65-ec08-92ef90502218",
        "colab": {
          "base_uri": "https://localhost:8080/"
        }
      },
      "id": "sh18ewChv4Fw",
      "execution_count": null,
      "outputs": [
        {
          "output_type": "stream",
          "name": "stderr",
          "text": [
            "/content/drive/MyDrive/trading-momentum-transformer/trading-momentum-transformer/mom_trans/classical_strategies.py:131: FutureWarning: The default dtype for empty Series will be 'object' instead of 'float64' in a future version. Specify a dtype explicitly to silence this warning.\n",
            "  def calc_vol_scaled_returns(daily_returns, daily_vol=pd.Series(None)):\n",
            "ERROR:root:Internal Python error in the inspect module.\n",
            "Below is the traceback from this internal error.\n",
            "\n",
            "ERROR:root:Internal Python error in the inspect module.\n",
            "Below is the traceback from this internal error.\n",
            "\n",
            "ERROR:root:Internal Python error in the inspect module.\n",
            "Below is the traceback from this internal error.\n",
            "\n"
          ]
        },
        {
          "output_type": "stream",
          "name": "stdout",
          "text": [
            "Traceback (most recent call last):\n",
            "  File \"/usr/local/lib/python3.10/dist-packages/IPython/core/interactiveshell.py\", line 3553, in run_code\n",
            "    exec(code_obj, self.user_global_ns, self.user_ns)\n",
            "  File \"<ipython-input-26-34fe7961eecd>\", line 53, in <cell line: 53>\n",
            "    main_concurent_cpd()\n",
            "  File \"<ipython-input-26-34fe7961eecd>\", line 43, in main_concurent_cpd\n",
            "    main2(\"ICE_NJ\", \"data\\\\quandl_cpd_21lbw\\\\ICE_NJ.csv\", start_date, end_date,21)\n",
            "  File \"<ipython-input-26-34fe7961eecd>\", line 32, in main2\n",
            "    cpd.run_module(\n",
            "  File \"/content/drive/MyDrive/trading-momentum-transformer/trading-momentum-transformer/mom_trans/changepoint_detection.py\", line 385, in run_module\n",
            "OSError: [Errno 107] Transport endpoint is not connected: 'data\\\\quandl_cpd_21lbw\\\\ICE_NJ.csv'\n",
            "\n",
            "During handling of the above exception, another exception occurred:\n",
            "\n",
            "Traceback (most recent call last):\n",
            "  File \"/usr/local/lib/python3.10/dist-packages/IPython/core/interactiveshell.py\", line 2099, in showtraceback\n",
            "    stb = value._render_traceback_()\n",
            "AttributeError: 'OSError' object has no attribute '_render_traceback_'\n",
            "\n",
            "During handling of the above exception, another exception occurred:\n",
            "\n",
            "Traceback (most recent call last):\n",
            "  File \"/usr/local/lib/python3.10/dist-packages/IPython/core/ultratb.py\", line 1101, in get_records\n",
            "    return _fixed_getinnerframes(etb, number_of_lines_of_context, tb_offset)\n",
            "  File \"/usr/local/lib/python3.10/dist-packages/IPython/core/ultratb.py\", line 248, in wrapped\n",
            "    return f(*args, **kwargs)\n",
            "  File \"/usr/local/lib/python3.10/dist-packages/IPython/core/ultratb.py\", line 281, in _fixed_getinnerframes\n",
            "    records = fix_frame_records_filenames(inspect.getinnerframes(etb, context))\n",
            "  File \"/usr/lib/python3.10/inspect.py\", line 1662, in getinnerframes\n",
            "    frameinfo = (tb.tb_frame,) + getframeinfo(tb, context)\n",
            "  File \"/usr/lib/python3.10/inspect.py\", line 1620, in getframeinfo\n",
            "    filename = getsourcefile(frame) or getfile(frame)\n",
            "  File \"/usr/lib/python3.10/inspect.py\", line 829, in getsourcefile\n",
            "    module = getmodule(object, filename)\n",
            "  File \"/usr/lib/python3.10/inspect.py\", line 861, in getmodule\n",
            "    file = getabsfile(object, _filename)\n",
            "  File \"/usr/lib/python3.10/inspect.py\", line 845, in getabsfile\n",
            "    return os.path.normcase(os.path.abspath(_filename))\n",
            "  File \"/usr/lib/python3.10/posixpath.py\", line 384, in abspath\n",
            "    cwd = os.getcwd()\n",
            "OSError: [Errno 107] Transport endpoint is not connected\n",
            "Traceback (most recent call last):\n",
            "  File \"/usr/local/lib/python3.10/dist-packages/IPython/core/interactiveshell.py\", line 3553, in run_code\n",
            "    exec(code_obj, self.user_global_ns, self.user_ns)\n",
            "  File \"<ipython-input-26-34fe7961eecd>\", line 53, in <cell line: 53>\n",
            "    main_concurent_cpd()\n",
            "  File \"<ipython-input-26-34fe7961eecd>\", line 43, in main_concurent_cpd\n",
            "    main2(\"ICE_NJ\", \"data\\\\quandl_cpd_21lbw\\\\ICE_NJ.csv\", start_date, end_date,21)\n",
            "  File \"<ipython-input-26-34fe7961eecd>\", line 32, in main2\n",
            "    cpd.run_module(\n",
            "  File \"/content/drive/MyDrive/trading-momentum-transformer/trading-momentum-transformer/mom_trans/changepoint_detection.py\", line 385, in run_module\n",
            "OSError: [Errno 107] Transport endpoint is not connected: 'data\\\\quandl_cpd_21lbw\\\\ICE_NJ.csv'\n",
            "\n",
            "During handling of the above exception, another exception occurred:\n",
            "\n",
            "Traceback (most recent call last):\n",
            "  File \"/usr/local/lib/python3.10/dist-packages/IPython/core/interactiveshell.py\", line 2099, in showtraceback\n",
            "    stb = value._render_traceback_()\n",
            "AttributeError: 'OSError' object has no attribute '_render_traceback_'\n",
            "\n",
            "During handling of the above exception, another exception occurred:\n",
            "\n",
            "Traceback (most recent call last):\n",
            "  File \"/usr/local/lib/python3.10/dist-packages/IPython/core/interactiveshell.py\", line 3473, in run_ast_nodes\n",
            "    if (await self.run_code(code, result,  async_=asy)):\n",
            "  File \"/usr/local/lib/python3.10/dist-packages/IPython/core/interactiveshell.py\", line 3575, in run_code\n",
            "    self.showtraceback(running_compiled_code=True)\n",
            "  File \"/usr/local/lib/python3.10/dist-packages/IPython/core/interactiveshell.py\", line 2101, in showtraceback\n",
            "    stb = self.InteractiveTB.structured_traceback(etype,\n",
            "  File \"/usr/local/lib/python3.10/dist-packages/IPython/core/ultratb.py\", line 1367, in structured_traceback\n",
            "    return FormattedTB.structured_traceback(\n",
            "  File \"/usr/local/lib/python3.10/dist-packages/IPython/core/ultratb.py\", line 1267, in structured_traceback\n",
            "    return VerboseTB.structured_traceback(\n",
            "  File \"/usr/local/lib/python3.10/dist-packages/IPython/core/ultratb.py\", line 1124, in structured_traceback\n",
            "    formatted_exception = self.format_exception_as_a_whole(etype, evalue, etb, number_of_lines_of_context,\n",
            "  File \"/usr/local/lib/python3.10/dist-packages/IPython/core/ultratb.py\", line 1082, in format_exception_as_a_whole\n",
            "    last_unique, recursion_repeat = find_recursion(orig_etype, evalue, records)\n",
            "  File \"/usr/local/lib/python3.10/dist-packages/IPython/core/ultratb.py\", line 382, in find_recursion\n",
            "    return len(records), 0\n",
            "TypeError: object of type 'NoneType' has no len()\n",
            "\n",
            "During handling of the above exception, another exception occurred:\n",
            "\n",
            "Traceback (most recent call last):\n",
            "  File \"/usr/local/lib/python3.10/dist-packages/IPython/core/interactiveshell.py\", line 2099, in showtraceback\n",
            "    stb = value._render_traceback_()\n",
            "AttributeError: 'TypeError' object has no attribute '_render_traceback_'\n",
            "\n",
            "During handling of the above exception, another exception occurred:\n",
            "\n",
            "Traceback (most recent call last):\n",
            "  File \"/usr/local/lib/python3.10/dist-packages/IPython/core/ultratb.py\", line 1101, in get_records\n",
            "    return _fixed_getinnerframes(etb, number_of_lines_of_context, tb_offset)\n",
            "  File \"/usr/local/lib/python3.10/dist-packages/IPython/core/ultratb.py\", line 248, in wrapped\n",
            "    return f(*args, **kwargs)\n",
            "  File \"/usr/local/lib/python3.10/dist-packages/IPython/core/ultratb.py\", line 281, in _fixed_getinnerframes\n",
            "    records = fix_frame_records_filenames(inspect.getinnerframes(etb, context))\n",
            "  File \"/usr/lib/python3.10/inspect.py\", line 1662, in getinnerframes\n",
            "    frameinfo = (tb.tb_frame,) + getframeinfo(tb, context)\n",
            "  File \"/usr/lib/python3.10/inspect.py\", line 1620, in getframeinfo\n",
            "    filename = getsourcefile(frame) or getfile(frame)\n",
            "  File \"/usr/lib/python3.10/inspect.py\", line 829, in getsourcefile\n",
            "    module = getmodule(object, filename)\n",
            "  File \"/usr/lib/python3.10/inspect.py\", line 861, in getmodule\n",
            "    file = getabsfile(object, _filename)\n",
            "  File \"/usr/lib/python3.10/inspect.py\", line 845, in getabsfile\n",
            "    return os.path.normcase(os.path.abspath(_filename))\n",
            "  File \"/usr/lib/python3.10/posixpath.py\", line 384, in abspath\n",
            "    cwd = os.getcwd()\n",
            "OSError: [Errno 107] Transport endpoint is not connected\n",
            "Traceback (most recent call last):\n",
            "  File \"/usr/local/lib/python3.10/dist-packages/IPython/core/interactiveshell.py\", line 3553, in run_code\n",
            "    exec(code_obj, self.user_global_ns, self.user_ns)\n",
            "  File \"<ipython-input-26-34fe7961eecd>\", line 53, in <cell line: 53>\n",
            "    main_concurent_cpd()\n",
            "  File \"<ipython-input-26-34fe7961eecd>\", line 43, in main_concurent_cpd\n",
            "    main2(\"ICE_NJ\", \"data\\\\quandl_cpd_21lbw\\\\ICE_NJ.csv\", start_date, end_date,21)\n",
            "  File \"<ipython-input-26-34fe7961eecd>\", line 32, in main2\n",
            "    cpd.run_module(\n",
            "  File \"/content/drive/MyDrive/trading-momentum-transformer/trading-momentum-transformer/mom_trans/changepoint_detection.py\", line 385, in run_module\n",
            "OSError: [Errno 107] Transport endpoint is not connected: 'data\\\\quandl_cpd_21lbw\\\\ICE_NJ.csv'\n",
            "\n",
            "During handling of the above exception, another exception occurred:\n",
            "\n",
            "Traceback (most recent call last):\n",
            "  File \"/usr/local/lib/python3.10/dist-packages/IPython/core/interactiveshell.py\", line 2099, in showtraceback\n",
            "    stb = value._render_traceback_()\n",
            "AttributeError: 'OSError' object has no attribute '_render_traceback_'\n",
            "\n",
            "During handling of the above exception, another exception occurred:\n",
            "\n",
            "Traceback (most recent call last):\n",
            "  File \"/usr/local/lib/python3.10/dist-packages/IPython/core/interactiveshell.py\", line 3473, in run_ast_nodes\n",
            "    if (await self.run_code(code, result,  async_=asy)):\n",
            "  File \"/usr/local/lib/python3.10/dist-packages/IPython/core/interactiveshell.py\", line 3575, in run_code\n",
            "    self.showtraceback(running_compiled_code=True)\n",
            "  File \"/usr/local/lib/python3.10/dist-packages/IPython/core/interactiveshell.py\", line 2101, in showtraceback\n",
            "    stb = self.InteractiveTB.structured_traceback(etype,\n",
            "  File \"/usr/local/lib/python3.10/dist-packages/IPython/core/ultratb.py\", line 1367, in structured_traceback\n",
            "    return FormattedTB.structured_traceback(\n",
            "  File \"/usr/local/lib/python3.10/dist-packages/IPython/core/ultratb.py\", line 1267, in structured_traceback\n",
            "    return VerboseTB.structured_traceback(\n",
            "  File \"/usr/local/lib/python3.10/dist-packages/IPython/core/ultratb.py\", line 1124, in structured_traceback\n",
            "    formatted_exception = self.format_exception_as_a_whole(etype, evalue, etb, number_of_lines_of_context,\n",
            "  File \"/usr/local/lib/python3.10/dist-packages/IPython/core/ultratb.py\", line 1082, in format_exception_as_a_whole\n",
            "    last_unique, recursion_repeat = find_recursion(orig_etype, evalue, records)\n",
            "  File \"/usr/local/lib/python3.10/dist-packages/IPython/core/ultratb.py\", line 382, in find_recursion\n",
            "    return len(records), 0\n",
            "TypeError: object of type 'NoneType' has no len()\n",
            "\n",
            "During handling of the above exception, another exception occurred:\n",
            "\n",
            "Traceback (most recent call last):\n",
            "  File \"/usr/local/lib/python3.10/dist-packages/IPython/core/interactiveshell.py\", line 2099, in showtraceback\n",
            "    stb = value._render_traceback_()\n",
            "AttributeError: 'TypeError' object has no attribute '_render_traceback_'\n",
            "\n",
            "During handling of the above exception, another exception occurred:\n",
            "\n",
            "Traceback (most recent call last):\n",
            "  File \"/usr/local/lib/python3.10/dist-packages/IPython/core/interactiveshell.py\", line 3030, in _run_cell\n",
            "    return runner(coro)\n",
            "  File \"/usr/local/lib/python3.10/dist-packages/IPython/core/async_helpers.py\", line 78, in _pseudo_sync_runner\n",
            "    coro.send(None)\n",
            "  File \"/usr/local/lib/python3.10/dist-packages/IPython/core/interactiveshell.py\", line 3257, in run_cell_async\n",
            "    has_raised = await self.run_ast_nodes(code_ast.body, cell_name,\n",
            "  File \"/usr/local/lib/python3.10/dist-packages/IPython/core/interactiveshell.py\", line 3492, in run_ast_nodes\n",
            "    self.showtraceback()\n",
            "  File \"/usr/local/lib/python3.10/dist-packages/IPython/core/interactiveshell.py\", line 2101, in showtraceback\n",
            "    stb = self.InteractiveTB.structured_traceback(etype,\n",
            "  File \"/usr/local/lib/python3.10/dist-packages/IPython/core/ultratb.py\", line 1367, in structured_traceback\n",
            "    return FormattedTB.structured_traceback(\n",
            "  File \"/usr/local/lib/python3.10/dist-packages/IPython/core/ultratb.py\", line 1267, in structured_traceback\n",
            "    return VerboseTB.structured_traceback(\n",
            "  File \"/usr/local/lib/python3.10/dist-packages/IPython/core/ultratb.py\", line 1142, in structured_traceback\n",
            "    formatted_exceptions += self.format_exception_as_a_whole(etype, evalue, etb, lines_of_context,\n",
            "  File \"/usr/local/lib/python3.10/dist-packages/IPython/core/ultratb.py\", line 1082, in format_exception_as_a_whole\n",
            "    last_unique, recursion_repeat = find_recursion(orig_etype, evalue, records)\n",
            "  File \"/usr/local/lib/python3.10/dist-packages/IPython/core/ultratb.py\", line 382, in find_recursion\n",
            "    return len(records), 0\n",
            "TypeError: object of type 'NoneType' has no len()\n",
            "\n",
            "During handling of the above exception, another exception occurred:\n",
            "\n",
            "Traceback (most recent call last):\n",
            "  File \"/usr/local/lib/python3.10/dist-packages/IPython/core/interactiveshell.py\", line 2099, in showtraceback\n",
            "    stb = value._render_traceback_()\n",
            "AttributeError: 'TypeError' object has no attribute '_render_traceback_'\n",
            "\n",
            "During handling of the above exception, another exception occurred:\n",
            "\n",
            "Traceback (most recent call last):\n",
            "  File \"/usr/local/lib/python3.10/dist-packages/IPython/core/ultratb.py\", line 1101, in get_records\n",
            "    return _fixed_getinnerframes(etb, number_of_lines_of_context, tb_offset)\n",
            "  File \"/usr/local/lib/python3.10/dist-packages/IPython/core/ultratb.py\", line 248, in wrapped\n",
            "    return f(*args, **kwargs)\n",
            "  File \"/usr/local/lib/python3.10/dist-packages/IPython/core/ultratb.py\", line 281, in _fixed_getinnerframes\n",
            "    records = fix_frame_records_filenames(inspect.getinnerframes(etb, context))\n",
            "  File \"/usr/lib/python3.10/inspect.py\", line 1662, in getinnerframes\n",
            "    frameinfo = (tb.tb_frame,) + getframeinfo(tb, context)\n",
            "  File \"/usr/lib/python3.10/inspect.py\", line 1620, in getframeinfo\n",
            "    filename = getsourcefile(frame) or getfile(frame)\n",
            "  File \"/usr/lib/python3.10/inspect.py\", line 829, in getsourcefile\n",
            "    module = getmodule(object, filename)\n",
            "  File \"/usr/lib/python3.10/inspect.py\", line 861, in getmodule\n",
            "    file = getabsfile(object, _filename)\n",
            "  File \"/usr/lib/python3.10/inspect.py\", line 845, in getabsfile\n",
            "    return os.path.normcase(os.path.abspath(_filename))\n",
            "  File \"/usr/lib/python3.10/posixpath.py\", line 384, in abspath\n",
            "    cwd = os.getcwd()\n",
            "OSError: [Errno 107] Transport endpoint is not connected\n"
          ]
        }
      ]
    },
    {
      "cell_type": "code",
      "source": [],
      "metadata": {
        "id": "mlxXeeAUv4Lw"
      },
      "id": "mlxXeeAUv4Lw",
      "execution_count": null,
      "outputs": []
    },
    {
      "cell_type": "code",
      "source": [],
      "metadata": {
        "id": "doJ7hmV7v4T7"
      },
      "id": "doJ7hmV7v4T7",
      "execution_count": null,
      "outputs": []
    },
    {
      "cell_type": "code",
      "source": [
        "#create_features_quandl.py\n",
        "\n",
        "import argparse\n",
        "import datetime as dt\n",
        "from typing import List\n",
        "\n",
        "import pandas as pd\n",
        "\n",
        "from data.pull_data import pull_quandl_sample_data\n",
        "from settings.default import (\n",
        "    QUANDL_TICKERS,\n",
        "    CPD_QUANDL_OUTPUT_FOLDER,\n",
        "    FEATURES_QUANDL_FILE_PATH,\n",
        ")\n",
        "from mom_trans.data_prep import (\n",
        "    deep_momentum_strategy_features,\n",
        "    include_changepoint_features,\n",
        ")\n",
        "\n",
        "\n",
        "def main(\n",
        "    tickers: List[str],\n",
        "    cpd_module_folder: str,\n",
        "    lookback_window_length: int,\n",
        "    output_file_path: str,\n",
        "    extra_lbw: List[int],\n",
        "):\n",
        "    features = pd.concat(\n",
        "        [\n",
        "            deep_momentum_strategy_features(pull_quandl_sample_data(ticker)).assign(\n",
        "                ticker=ticker\n",
        "            )\n",
        "            for ticker in tickers\n",
        "        ]\n",
        "    )\n",
        "\n",
        "    features.date = features.index\n",
        "    features.index.name = \"Date\"\n",
        "\n",
        "    if lookback_window_length:\n",
        "        features_w_cpd = include_changepoint_features(\n",
        "            features, cpd_module_folder, lookback_window_length\n",
        "        )\n",
        "\n",
        "        if extra_lbw:\n",
        "            for extra in extra_lbw:\n",
        "                extra_data = pd.read_csv(\n",
        "                    output_file_path.replace(\n",
        "                        f\"quandl_cpd_{lookback_window_length}lbw.csv\",\n",
        "                        f\"quandl_cpd_{extra}lbw.csv\",\n",
        "                    ),\n",
        "                    index_col=0,\n",
        "                    parse_dates=True,\n",
        "                ).reset_index()[\n",
        "                    [\"date\", \"ticker\", f\"cp_rl_{extra}\", f\"cp_score_{extra}\"]\n",
        "                ]\n",
        "                extra_data[\"date\"] = pd.to_datetime(extra_data[\"date\"])\n",
        "\n",
        "                features_w_cpd = pd.merge(\n",
        "                    features_w_cpd.set_index([\"date\", \"ticker\"]),\n",
        "                    extra_data.set_index([\"date\", \"ticker\"]),\n",
        "                    left_index=True,\n",
        "                    right_index=True,\n",
        "                ).reset_index()\n",
        "                features_w_cpd.index = features_w_cpd[\"date\"]\n",
        "                features_w_cpd.index.name = \"Date\"\n",
        "        else:\n",
        "            features_w_cpd.index.name = \"Date\"\n",
        "        features_w_cpd.to_csv(output_file_path)\n",
        "    else:\n",
        "        features.to_csv(output_file_path)"
      ],
      "metadata": {
        "id": "8MyDVEVJhMHg"
      },
      "id": "8MyDVEVJhMHg",
      "execution_count": null,
      "outputs": []
    },
    {
      "cell_type": "code",
      "source": [],
      "metadata": {
        "id": "KscIpyEBhMLL"
      },
      "id": "KscIpyEBhMLL",
      "execution_count": null,
      "outputs": []
    },
    {
      "cell_type": "code",
      "source": [],
      "metadata": {
        "id": "ggv-Z-NshMPa"
      },
      "id": "ggv-Z-NshMPa",
      "execution_count": null,
      "outputs": []
    },
    {
      "cell_type": "code",
      "source": [],
      "metadata": {
        "id": "aOrtBWQyhMSG"
      },
      "id": "aOrtBWQyhMSG",
      "execution_count": null,
      "outputs": []
    },
    {
      "cell_type": "code",
      "source": [],
      "metadata": {
        "id": "PRX5rZy8hMVN"
      },
      "id": "PRX5rZy8hMVN",
      "execution_count": null,
      "outputs": []
    },
    {
      "cell_type": "code",
      "source": [
        "! cp /content/drive/MyDrive/강의자료2/part2/실습/MusicRecommendationRNN/song_data.csv song_data.csv"
      ],
      "metadata": {
        "id": "26i61OhedzJP"
      },
      "id": "26i61OhedzJP",
      "execution_count": null,
      "outputs": []
    },
    {
      "cell_type": "code",
      "source": [
        "!pip install finance-datareader"
      ],
      "metadata": {
        "colab": {
          "base_uri": "https://localhost:8080/"
        },
        "id": "IddSIzFngZsS",
        "outputId": "ebc68ce2-7d46-4b09-d21e-7bcb0025f7fb"
      },
      "id": "IddSIzFngZsS",
      "execution_count": null,
      "outputs": [
        {
          "output_type": "stream",
          "name": "stdout",
          "text": [
            "Collecting finance-datareader\n",
            "  Downloading finance_datareader-0.9.50-py3-none-any.whl (19 kB)\n",
            "Requirement already satisfied: pandas>=0.19.2 in /usr/local/lib/python3.10/dist-packages (from finance-datareader) (1.5.3)\n",
            "Requirement already satisfied: requests>=2.3.0 in /usr/local/lib/python3.10/dist-packages (from finance-datareader) (2.27.1)\n",
            "Collecting requests-file (from finance-datareader)\n",
            "  Downloading requests_file-1.5.1-py2.py3-none-any.whl (3.7 kB)\n",
            "Requirement already satisfied: lxml in /usr/local/lib/python3.10/dist-packages (from finance-datareader) (4.9.3)\n",
            "Requirement already satisfied: tqdm in /usr/local/lib/python3.10/dist-packages (from finance-datareader) (4.65.0)\n",
            "Requirement already satisfied: python-dateutil>=2.8.1 in /usr/local/lib/python3.10/dist-packages (from pandas>=0.19.2->finance-datareader) (2.8.2)\n",
            "Requirement already satisfied: pytz>=2020.1 in /usr/local/lib/python3.10/dist-packages (from pandas>=0.19.2->finance-datareader) (2022.7.1)\n",
            "Requirement already satisfied: numpy>=1.21.0 in /usr/local/lib/python3.10/dist-packages (from pandas>=0.19.2->finance-datareader) (1.22.4)\n",
            "Requirement already satisfied: urllib3<1.27,>=1.21.1 in /usr/local/lib/python3.10/dist-packages (from requests>=2.3.0->finance-datareader) (1.26.16)\n",
            "Requirement already satisfied: certifi>=2017.4.17 in /usr/local/lib/python3.10/dist-packages (from requests>=2.3.0->finance-datareader) (2023.7.22)\n",
            "Requirement already satisfied: charset-normalizer~=2.0.0 in /usr/local/lib/python3.10/dist-packages (from requests>=2.3.0->finance-datareader) (2.0.12)\n",
            "Requirement already satisfied: idna<4,>=2.5 in /usr/local/lib/python3.10/dist-packages (from requests>=2.3.0->finance-datareader) (3.4)\n",
            "Requirement already satisfied: six in /usr/local/lib/python3.10/dist-packages (from requests-file->finance-datareader) (1.16.0)\n",
            "Installing collected packages: requests-file, finance-datareader\n",
            "Successfully installed finance-datareader-0.9.50 requests-file-1.5.1\n"
          ]
        }
      ]
    },
    {
      "cell_type": "code",
      "source": [
        "import FinanceDataReader as fdr"
      ],
      "metadata": {
        "id": "I4deeW-HL9h7"
      },
      "id": "I4deeW-HL9h7",
      "execution_count": null,
      "outputs": []
    },
    {
      "cell_type": "code",
      "source": [
        "start_date = '2020-01-01'\n",
        "end_date = '2023-07-14'\n",
        "\n",
        "# 삼성전자 (종목 코드: 005930)과 코스피 (종목 코드: KOSPI) 데이터를 가져옵니다.\n",
        "# 수정 종가를 사용하여 수익률을 계산하도록 선택합니다.\n",
        "samsung = fdr.DataReader('005930', start=start_date, end=end_date)\n",
        "samsung\n"
      ],
      "metadata": {
        "colab": {
          "base_uri": "https://localhost:8080/",
          "height": 455
        },
        "id": "Ot0ZyB7NMEDr",
        "outputId": "2cb9d1e3-84a7-4fef-f9b1-3f7a11d7dee1"
      },
      "id": "Ot0ZyB7NMEDr",
      "execution_count": null,
      "outputs": [
        {
          "output_type": "execute_result",
          "data": {
            "text/plain": [
              "             Open   High    Low  Close    Volume    Change\n",
              "Date                                                      \n",
              "2020-01-02  55500  56000  55000  55200  12993228 -0.010753\n",
              "2020-01-03  56000  56600  54900  55500  15422255  0.005435\n",
              "2020-01-06  54900  55600  54600  55500  10278951  0.000000\n",
              "2020-01-07  55700  56400  55600  55800  10009778  0.005405\n",
              "2020-01-08  56200  57400  55900  56800  23501171  0.017921\n",
              "...           ...    ...    ...    ...       ...       ...\n",
              "2023-07-10  70000  70400  69200  69500  11713926 -0.005722\n",
              "2023-07-11  70200  71500  70100  71500  12177392  0.028777\n",
              "2023-07-12  71200  72000  71100  71900  10375581  0.005594\n",
              "2023-07-13  72400  72600  71900  71900  14417279  0.000000\n",
              "2023-07-14  72500  73400  72400  73400  15882519  0.020862\n",
              "\n",
              "[875 rows x 6 columns]"
            ],
            "text/html": [
              "\n",
              "\n",
              "  <div id=\"df-211d900d-b1c2-49c8-a123-725fd6a45510\">\n",
              "    <div class=\"colab-df-container\">\n",
              "      <div>\n",
              "<style scoped>\n",
              "    .dataframe tbody tr th:only-of-type {\n",
              "        vertical-align: middle;\n",
              "    }\n",
              "\n",
              "    .dataframe tbody tr th {\n",
              "        vertical-align: top;\n",
              "    }\n",
              "\n",
              "    .dataframe thead th {\n",
              "        text-align: right;\n",
              "    }\n",
              "</style>\n",
              "<table border=\"1\" class=\"dataframe\">\n",
              "  <thead>\n",
              "    <tr style=\"text-align: right;\">\n",
              "      <th></th>\n",
              "      <th>Open</th>\n",
              "      <th>High</th>\n",
              "      <th>Low</th>\n",
              "      <th>Close</th>\n",
              "      <th>Volume</th>\n",
              "      <th>Change</th>\n",
              "    </tr>\n",
              "    <tr>\n",
              "      <th>Date</th>\n",
              "      <th></th>\n",
              "      <th></th>\n",
              "      <th></th>\n",
              "      <th></th>\n",
              "      <th></th>\n",
              "      <th></th>\n",
              "    </tr>\n",
              "  </thead>\n",
              "  <tbody>\n",
              "    <tr>\n",
              "      <th>2020-01-02</th>\n",
              "      <td>55500</td>\n",
              "      <td>56000</td>\n",
              "      <td>55000</td>\n",
              "      <td>55200</td>\n",
              "      <td>12993228</td>\n",
              "      <td>-0.010753</td>\n",
              "    </tr>\n",
              "    <tr>\n",
              "      <th>2020-01-03</th>\n",
              "      <td>56000</td>\n",
              "      <td>56600</td>\n",
              "      <td>54900</td>\n",
              "      <td>55500</td>\n",
              "      <td>15422255</td>\n",
              "      <td>0.005435</td>\n",
              "    </tr>\n",
              "    <tr>\n",
              "      <th>2020-01-06</th>\n",
              "      <td>54900</td>\n",
              "      <td>55600</td>\n",
              "      <td>54600</td>\n",
              "      <td>55500</td>\n",
              "      <td>10278951</td>\n",
              "      <td>0.000000</td>\n",
              "    </tr>\n",
              "    <tr>\n",
              "      <th>2020-01-07</th>\n",
              "      <td>55700</td>\n",
              "      <td>56400</td>\n",
              "      <td>55600</td>\n",
              "      <td>55800</td>\n",
              "      <td>10009778</td>\n",
              "      <td>0.005405</td>\n",
              "    </tr>\n",
              "    <tr>\n",
              "      <th>2020-01-08</th>\n",
              "      <td>56200</td>\n",
              "      <td>57400</td>\n",
              "      <td>55900</td>\n",
              "      <td>56800</td>\n",
              "      <td>23501171</td>\n",
              "      <td>0.017921</td>\n",
              "    </tr>\n",
              "    <tr>\n",
              "      <th>...</th>\n",
              "      <td>...</td>\n",
              "      <td>...</td>\n",
              "      <td>...</td>\n",
              "      <td>...</td>\n",
              "      <td>...</td>\n",
              "      <td>...</td>\n",
              "    </tr>\n",
              "    <tr>\n",
              "      <th>2023-07-10</th>\n",
              "      <td>70000</td>\n",
              "      <td>70400</td>\n",
              "      <td>69200</td>\n",
              "      <td>69500</td>\n",
              "      <td>11713926</td>\n",
              "      <td>-0.005722</td>\n",
              "    </tr>\n",
              "    <tr>\n",
              "      <th>2023-07-11</th>\n",
              "      <td>70200</td>\n",
              "      <td>71500</td>\n",
              "      <td>70100</td>\n",
              "      <td>71500</td>\n",
              "      <td>12177392</td>\n",
              "      <td>0.028777</td>\n",
              "    </tr>\n",
              "    <tr>\n",
              "      <th>2023-07-12</th>\n",
              "      <td>71200</td>\n",
              "      <td>72000</td>\n",
              "      <td>71100</td>\n",
              "      <td>71900</td>\n",
              "      <td>10375581</td>\n",
              "      <td>0.005594</td>\n",
              "    </tr>\n",
              "    <tr>\n",
              "      <th>2023-07-13</th>\n",
              "      <td>72400</td>\n",
              "      <td>72600</td>\n",
              "      <td>71900</td>\n",
              "      <td>71900</td>\n",
              "      <td>14417279</td>\n",
              "      <td>0.000000</td>\n",
              "    </tr>\n",
              "    <tr>\n",
              "      <th>2023-07-14</th>\n",
              "      <td>72500</td>\n",
              "      <td>73400</td>\n",
              "      <td>72400</td>\n",
              "      <td>73400</td>\n",
              "      <td>15882519</td>\n",
              "      <td>0.020862</td>\n",
              "    </tr>\n",
              "  </tbody>\n",
              "</table>\n",
              "<p>875 rows × 6 columns</p>\n",
              "</div>\n",
              "      <button class=\"colab-df-convert\" onclick=\"convertToInteractive('df-211d900d-b1c2-49c8-a123-725fd6a45510')\"\n",
              "              title=\"Convert this dataframe to an interactive table.\"\n",
              "              style=\"display:none;\">\n",
              "\n",
              "  <svg xmlns=\"http://www.w3.org/2000/svg\" height=\"24px\"viewBox=\"0 0 24 24\"\n",
              "       width=\"24px\">\n",
              "    <path d=\"M0 0h24v24H0V0z\" fill=\"none\"/>\n",
              "    <path d=\"M18.56 5.44l.94 2.06.94-2.06 2.06-.94-2.06-.94-.94-2.06-.94 2.06-2.06.94zm-11 1L8.5 8.5l.94-2.06 2.06-.94-2.06-.94L8.5 2.5l-.94 2.06-2.06.94zm10 10l.94 2.06.94-2.06 2.06-.94-2.06-.94-.94-2.06-.94 2.06-2.06.94z\"/><path d=\"M17.41 7.96l-1.37-1.37c-.4-.4-.92-.59-1.43-.59-.52 0-1.04.2-1.43.59L10.3 9.45l-7.72 7.72c-.78.78-.78 2.05 0 2.83L4 21.41c.39.39.9.59 1.41.59.51 0 1.02-.2 1.41-.59l7.78-7.78 2.81-2.81c.8-.78.8-2.07 0-2.86zM5.41 20L4 18.59l7.72-7.72 1.47 1.35L5.41 20z\"/>\n",
              "  </svg>\n",
              "      </button>\n",
              "\n",
              "\n",
              "\n",
              "    <div id=\"df-6420886e-ff64-42bd-a954-4cd0313ab768\">\n",
              "      <button class=\"colab-df-quickchart\" onclick=\"quickchart('df-6420886e-ff64-42bd-a954-4cd0313ab768')\"\n",
              "              title=\"Suggest charts.\"\n",
              "              style=\"display:none;\">\n",
              "\n",
              "<svg xmlns=\"http://www.w3.org/2000/svg\" height=\"24px\"viewBox=\"0 0 24 24\"\n",
              "     width=\"24px\">\n",
              "    <g>\n",
              "        <path d=\"M19 3H5c-1.1 0-2 .9-2 2v14c0 1.1.9 2 2 2h14c1.1 0 2-.9 2-2V5c0-1.1-.9-2-2-2zM9 17H7v-7h2v7zm4 0h-2V7h2v10zm4 0h-2v-4h2v4z\"/>\n",
              "    </g>\n",
              "</svg>\n",
              "      </button>\n",
              "    </div>\n",
              "\n",
              "<style>\n",
              "  .colab-df-quickchart {\n",
              "    background-color: #E8F0FE;\n",
              "    border: none;\n",
              "    border-radius: 50%;\n",
              "    cursor: pointer;\n",
              "    display: none;\n",
              "    fill: #1967D2;\n",
              "    height: 32px;\n",
              "    padding: 0 0 0 0;\n",
              "    width: 32px;\n",
              "  }\n",
              "\n",
              "  .colab-df-quickchart:hover {\n",
              "    background-color: #E2EBFA;\n",
              "    box-shadow: 0px 1px 2px rgba(60, 64, 67, 0.3), 0px 1px 3px 1px rgba(60, 64, 67, 0.15);\n",
              "    fill: #174EA6;\n",
              "  }\n",
              "\n",
              "  [theme=dark] .colab-df-quickchart {\n",
              "    background-color: #3B4455;\n",
              "    fill: #D2E3FC;\n",
              "  }\n",
              "\n",
              "  [theme=dark] .colab-df-quickchart:hover {\n",
              "    background-color: #434B5C;\n",
              "    box-shadow: 0px 1px 3px 1px rgba(0, 0, 0, 0.15);\n",
              "    filter: drop-shadow(0px 1px 2px rgba(0, 0, 0, 0.3));\n",
              "    fill: #FFFFFF;\n",
              "  }\n",
              "</style>\n",
              "\n",
              "    <script>\n",
              "      async function quickchart(key) {\n",
              "        const containerElement = document.querySelector('#' + key);\n",
              "        const charts = await google.colab.kernel.invokeFunction(\n",
              "            'suggestCharts', [key], {});\n",
              "      }\n",
              "    </script>\n",
              "\n",
              "      <script>\n",
              "\n",
              "function displayQuickchartButton(domScope) {\n",
              "  let quickchartButtonEl =\n",
              "    domScope.querySelector('#df-6420886e-ff64-42bd-a954-4cd0313ab768 button.colab-df-quickchart');\n",
              "  quickchartButtonEl.style.display =\n",
              "    google.colab.kernel.accessAllowed ? 'block' : 'none';\n",
              "}\n",
              "\n",
              "        displayQuickchartButton(document);\n",
              "      </script>\n",
              "      <style>\n",
              "    .colab-df-container {\n",
              "      display:flex;\n",
              "      flex-wrap:wrap;\n",
              "      gap: 12px;\n",
              "    }\n",
              "\n",
              "    .colab-df-convert {\n",
              "      background-color: #E8F0FE;\n",
              "      border: none;\n",
              "      border-radius: 50%;\n",
              "      cursor: pointer;\n",
              "      display: none;\n",
              "      fill: #1967D2;\n",
              "      height: 32px;\n",
              "      padding: 0 0 0 0;\n",
              "      width: 32px;\n",
              "    }\n",
              "\n",
              "    .colab-df-convert:hover {\n",
              "      background-color: #E2EBFA;\n",
              "      box-shadow: 0px 1px 2px rgba(60, 64, 67, 0.3), 0px 1px 3px 1px rgba(60, 64, 67, 0.15);\n",
              "      fill: #174EA6;\n",
              "    }\n",
              "\n",
              "    [theme=dark] .colab-df-convert {\n",
              "      background-color: #3B4455;\n",
              "      fill: #D2E3FC;\n",
              "    }\n",
              "\n",
              "    [theme=dark] .colab-df-convert:hover {\n",
              "      background-color: #434B5C;\n",
              "      box-shadow: 0px 1px 3px 1px rgba(0, 0, 0, 0.15);\n",
              "      filter: drop-shadow(0px 1px 2px rgba(0, 0, 0, 0.3));\n",
              "      fill: #FFFFFF;\n",
              "    }\n",
              "  </style>\n",
              "\n",
              "      <script>\n",
              "        const buttonEl =\n",
              "          document.querySelector('#df-211d900d-b1c2-49c8-a123-725fd6a45510 button.colab-df-convert');\n",
              "        buttonEl.style.display =\n",
              "          google.colab.kernel.accessAllowed ? 'block' : 'none';\n",
              "\n",
              "        async function convertToInteractive(key) {\n",
              "          const element = document.querySelector('#df-211d900d-b1c2-49c8-a123-725fd6a45510');\n",
              "          const dataTable =\n",
              "            await google.colab.kernel.invokeFunction('convertToInteractive',\n",
              "                                                     [key], {});\n",
              "          if (!dataTable) return;\n",
              "\n",
              "          const docLinkHtml = 'Like what you see? Visit the ' +\n",
              "            '<a target=\"_blank\" href=https://colab.research.google.com/notebooks/data_table.ipynb>data table notebook</a>'\n",
              "            + ' to learn more about interactive tables.';\n",
              "          element.innerHTML = '';\n",
              "          dataTable['output_type'] = 'display_data';\n",
              "          await google.colab.output.renderOutput(dataTable, element);\n",
              "          const docLink = document.createElement('div');\n",
              "          docLink.innerHTML = docLinkHtml;\n",
              "          element.appendChild(docLink);\n",
              "        }\n",
              "      </script>\n",
              "    </div>\n",
              "  </div>\n"
            ]
          },
          "metadata": {},
          "execution_count": 5
        }
      ]
    },
    {
      "cell_type": "code",
      "source": [
        "import pandas_datareader as pdr\n",
        "import pandas as pd\n",
        "import numpy as np\n",
        "from sklearn.decomposition import PCA\n",
        "import datetime\n",
        "import pandas_datareader.data as web"
      ],
      "metadata": {
        "id": "JJ4qtv9ogZwA"
      },
      "id": "JJ4qtv9ogZwA",
      "execution_count": null,
      "outputs": []
    },
    {
      "cell_type": "code",
      "source": [
        "# 주식 종목들 (예시로 애플, 마이크로소프트, 아마존, 구글, 페이스북)\n",
        "tickers = ['AAPL', 'MSFT', 'AMZN', 'GOOGL', 'META']\n",
        "\n",
        "# 시작 날짜와 종료 날짜\n",
        "start_date = '2020-01-01'\n",
        "end_date = '2023-08-04'\n",
        "\n",
        "print(end_date)"
      ],
      "metadata": {
        "colab": {
          "base_uri": "https://localhost:8080/"
        },
        "id": "xipA7nw4gZ1P",
        "outputId": "1299e561-aecb-4833-87f5-bc2ee876c9f3"
      },
      "id": "xipA7nw4gZ1P",
      "execution_count": null,
      "outputs": [
        {
          "output_type": "stream",
          "name": "stdout",
          "text": [
            "2023-08-04\n"
          ]
        }
      ]
    },
    {
      "cell_type": "code",
      "source": [
        "# 가격 데이터를 저장할 DataFrame 생성\n",
        "price_data = pd.DataFrame()\n",
        "\n",
        "# 각 주식 종목에 대한 가격 데이터 수집\n",
        "for ticker in tickers:\n",
        "    price_data[ticker] = fdr.DataReader(ticker, start=start_date, end=end_date)['Close']"
      ],
      "metadata": {
        "id": "p-QpupXaItgo"
      },
      "id": "p-QpupXaItgo",
      "execution_count": null,
      "outputs": []
    },
    {
      "cell_type": "code",
      "source": [
        "price_data.AAPL"
      ],
      "metadata": {
        "colab": {
          "base_uri": "https://localhost:8080/"
        },
        "id": "aQRQGQMXItk-",
        "outputId": "3ead808b-2219-41a5-dfae-78d72cf65c19"
      },
      "id": "aQRQGQMXItk-",
      "execution_count": null,
      "outputs": [
        {
          "output_type": "execute_result",
          "data": {
            "text/plain": [
              "Date\n",
              "2020-01-02     75.087502\n",
              "2020-01-03     74.357498\n",
              "2020-01-06     74.949997\n",
              "2020-01-07     74.597504\n",
              "2020-01-08     75.797501\n",
              "                 ...    \n",
              "2023-07-28    195.830002\n",
              "2023-07-31    196.449997\n",
              "2023-08-01    195.610001\n",
              "2023-08-02    192.580002\n",
              "2023-08-03    191.169998\n",
              "Name: AAPL, Length: 903, dtype: float64"
            ]
          },
          "metadata": {},
          "execution_count": 9
        }
      ]
    },
    {
      "cell_type": "code",
      "source": [
        "# 수익률 계산\n",
        "returns = price_data.pct_change().dropna()\n",
        "returns.head()\n"
      ],
      "metadata": {
        "colab": {
          "base_uri": "https://localhost:8080/",
          "height": 237
        },
        "id": "gWyPgqBEItpq",
        "outputId": "b4b88410-d9de-42a4-f2fa-5d0568915ede"
      },
      "id": "gWyPgqBEItpq",
      "execution_count": null,
      "outputs": [
        {
          "output_type": "execute_result",
          "data": {
            "text/plain": [
              "                AAPL      MSFT      AMZN     GOOGL      META\n",
              "Date                                                        \n",
              "2020-01-03 -0.009722 -0.012452 -0.012139 -0.005231 -0.005291\n",
              "2020-01-06  0.007968  0.002585  0.014886  0.026654  0.018834\n",
              "2020-01-07 -0.004703 -0.009118  0.002092 -0.001932  0.002164\n",
              "2020-01-08  0.016086  0.015928 -0.007809  0.007118  0.010138\n",
              "2020-01-09  0.021241  0.012493  0.004799  0.010498  0.014311"
            ],
            "text/html": [
              "\n",
              "\n",
              "  <div id=\"df-e649ffd6-3d42-456e-b3b0-72495366735b\">\n",
              "    <div class=\"colab-df-container\">\n",
              "      <div>\n",
              "<style scoped>\n",
              "    .dataframe tbody tr th:only-of-type {\n",
              "        vertical-align: middle;\n",
              "    }\n",
              "\n",
              "    .dataframe tbody tr th {\n",
              "        vertical-align: top;\n",
              "    }\n",
              "\n",
              "    .dataframe thead th {\n",
              "        text-align: right;\n",
              "    }\n",
              "</style>\n",
              "<table border=\"1\" class=\"dataframe\">\n",
              "  <thead>\n",
              "    <tr style=\"text-align: right;\">\n",
              "      <th></th>\n",
              "      <th>AAPL</th>\n",
              "      <th>MSFT</th>\n",
              "      <th>AMZN</th>\n",
              "      <th>GOOGL</th>\n",
              "      <th>META</th>\n",
              "    </tr>\n",
              "    <tr>\n",
              "      <th>Date</th>\n",
              "      <th></th>\n",
              "      <th></th>\n",
              "      <th></th>\n",
              "      <th></th>\n",
              "      <th></th>\n",
              "    </tr>\n",
              "  </thead>\n",
              "  <tbody>\n",
              "    <tr>\n",
              "      <th>2020-01-03</th>\n",
              "      <td>-0.009722</td>\n",
              "      <td>-0.012452</td>\n",
              "      <td>-0.012139</td>\n",
              "      <td>-0.005231</td>\n",
              "      <td>-0.005291</td>\n",
              "    </tr>\n",
              "    <tr>\n",
              "      <th>2020-01-06</th>\n",
              "      <td>0.007968</td>\n",
              "      <td>0.002585</td>\n",
              "      <td>0.014886</td>\n",
              "      <td>0.026654</td>\n",
              "      <td>0.018834</td>\n",
              "    </tr>\n",
              "    <tr>\n",
              "      <th>2020-01-07</th>\n",
              "      <td>-0.004703</td>\n",
              "      <td>-0.009118</td>\n",
              "      <td>0.002092</td>\n",
              "      <td>-0.001932</td>\n",
              "      <td>0.002164</td>\n",
              "    </tr>\n",
              "    <tr>\n",
              "      <th>2020-01-08</th>\n",
              "      <td>0.016086</td>\n",
              "      <td>0.015928</td>\n",
              "      <td>-0.007809</td>\n",
              "      <td>0.007118</td>\n",
              "      <td>0.010138</td>\n",
              "    </tr>\n",
              "    <tr>\n",
              "      <th>2020-01-09</th>\n",
              "      <td>0.021241</td>\n",
              "      <td>0.012493</td>\n",
              "      <td>0.004799</td>\n",
              "      <td>0.010498</td>\n",
              "      <td>0.014311</td>\n",
              "    </tr>\n",
              "  </tbody>\n",
              "</table>\n",
              "</div>\n",
              "      <button class=\"colab-df-convert\" onclick=\"convertToInteractive('df-e649ffd6-3d42-456e-b3b0-72495366735b')\"\n",
              "              title=\"Convert this dataframe to an interactive table.\"\n",
              "              style=\"display:none;\">\n",
              "\n",
              "  <svg xmlns=\"http://www.w3.org/2000/svg\" height=\"24px\"viewBox=\"0 0 24 24\"\n",
              "       width=\"24px\">\n",
              "    <path d=\"M0 0h24v24H0V0z\" fill=\"none\"/>\n",
              "    <path d=\"M18.56 5.44l.94 2.06.94-2.06 2.06-.94-2.06-.94-.94-2.06-.94 2.06-2.06.94zm-11 1L8.5 8.5l.94-2.06 2.06-.94-2.06-.94L8.5 2.5l-.94 2.06-2.06.94zm10 10l.94 2.06.94-2.06 2.06-.94-2.06-.94-.94-2.06-.94 2.06-2.06.94z\"/><path d=\"M17.41 7.96l-1.37-1.37c-.4-.4-.92-.59-1.43-.59-.52 0-1.04.2-1.43.59L10.3 9.45l-7.72 7.72c-.78.78-.78 2.05 0 2.83L4 21.41c.39.39.9.59 1.41.59.51 0 1.02-.2 1.41-.59l7.78-7.78 2.81-2.81c.8-.78.8-2.07 0-2.86zM5.41 20L4 18.59l7.72-7.72 1.47 1.35L5.41 20z\"/>\n",
              "  </svg>\n",
              "      </button>\n",
              "\n",
              "\n",
              "\n",
              "    <div id=\"df-6cd37d09-3c43-4302-9524-c4a44fd03883\">\n",
              "      <button class=\"colab-df-quickchart\" onclick=\"quickchart('df-6cd37d09-3c43-4302-9524-c4a44fd03883')\"\n",
              "              title=\"Suggest charts.\"\n",
              "              style=\"display:none;\">\n",
              "\n",
              "<svg xmlns=\"http://www.w3.org/2000/svg\" height=\"24px\"viewBox=\"0 0 24 24\"\n",
              "     width=\"24px\">\n",
              "    <g>\n",
              "        <path d=\"M19 3H5c-1.1 0-2 .9-2 2v14c0 1.1.9 2 2 2h14c1.1 0 2-.9 2-2V5c0-1.1-.9-2-2-2zM9 17H7v-7h2v7zm4 0h-2V7h2v10zm4 0h-2v-4h2v4z\"/>\n",
              "    </g>\n",
              "</svg>\n",
              "      </button>\n",
              "    </div>\n",
              "\n",
              "<style>\n",
              "  .colab-df-quickchart {\n",
              "    background-color: #E8F0FE;\n",
              "    border: none;\n",
              "    border-radius: 50%;\n",
              "    cursor: pointer;\n",
              "    display: none;\n",
              "    fill: #1967D2;\n",
              "    height: 32px;\n",
              "    padding: 0 0 0 0;\n",
              "    width: 32px;\n",
              "  }\n",
              "\n",
              "  .colab-df-quickchart:hover {\n",
              "    background-color: #E2EBFA;\n",
              "    box-shadow: 0px 1px 2px rgba(60, 64, 67, 0.3), 0px 1px 3px 1px rgba(60, 64, 67, 0.15);\n",
              "    fill: #174EA6;\n",
              "  }\n",
              "\n",
              "  [theme=dark] .colab-df-quickchart {\n",
              "    background-color: #3B4455;\n",
              "    fill: #D2E3FC;\n",
              "  }\n",
              "\n",
              "  [theme=dark] .colab-df-quickchart:hover {\n",
              "    background-color: #434B5C;\n",
              "    box-shadow: 0px 1px 3px 1px rgba(0, 0, 0, 0.15);\n",
              "    filter: drop-shadow(0px 1px 2px rgba(0, 0, 0, 0.3));\n",
              "    fill: #FFFFFF;\n",
              "  }\n",
              "</style>\n",
              "\n",
              "    <script>\n",
              "      async function quickchart(key) {\n",
              "        const containerElement = document.querySelector('#' + key);\n",
              "        const charts = await google.colab.kernel.invokeFunction(\n",
              "            'suggestCharts', [key], {});\n",
              "      }\n",
              "    </script>\n",
              "\n",
              "      <script>\n",
              "\n",
              "function displayQuickchartButton(domScope) {\n",
              "  let quickchartButtonEl =\n",
              "    domScope.querySelector('#df-6cd37d09-3c43-4302-9524-c4a44fd03883 button.colab-df-quickchart');\n",
              "  quickchartButtonEl.style.display =\n",
              "    google.colab.kernel.accessAllowed ? 'block' : 'none';\n",
              "}\n",
              "\n",
              "        displayQuickchartButton(document);\n",
              "      </script>\n",
              "      <style>\n",
              "    .colab-df-container {\n",
              "      display:flex;\n",
              "      flex-wrap:wrap;\n",
              "      gap: 12px;\n",
              "    }\n",
              "\n",
              "    .colab-df-convert {\n",
              "      background-color: #E8F0FE;\n",
              "      border: none;\n",
              "      border-radius: 50%;\n",
              "      cursor: pointer;\n",
              "      display: none;\n",
              "      fill: #1967D2;\n",
              "      height: 32px;\n",
              "      padding: 0 0 0 0;\n",
              "      width: 32px;\n",
              "    }\n",
              "\n",
              "    .colab-df-convert:hover {\n",
              "      background-color: #E2EBFA;\n",
              "      box-shadow: 0px 1px 2px rgba(60, 64, 67, 0.3), 0px 1px 3px 1px rgba(60, 64, 67, 0.15);\n",
              "      fill: #174EA6;\n",
              "    }\n",
              "\n",
              "    [theme=dark] .colab-df-convert {\n",
              "      background-color: #3B4455;\n",
              "      fill: #D2E3FC;\n",
              "    }\n",
              "\n",
              "    [theme=dark] .colab-df-convert:hover {\n",
              "      background-color: #434B5C;\n",
              "      box-shadow: 0px 1px 3px 1px rgba(0, 0, 0, 0.15);\n",
              "      filter: drop-shadow(0px 1px 2px rgba(0, 0, 0, 0.3));\n",
              "      fill: #FFFFFF;\n",
              "    }\n",
              "  </style>\n",
              "\n",
              "      <script>\n",
              "        const buttonEl =\n",
              "          document.querySelector('#df-e649ffd6-3d42-456e-b3b0-72495366735b button.colab-df-convert');\n",
              "        buttonEl.style.display =\n",
              "          google.colab.kernel.accessAllowed ? 'block' : 'none';\n",
              "\n",
              "        async function convertToInteractive(key) {\n",
              "          const element = document.querySelector('#df-e649ffd6-3d42-456e-b3b0-72495366735b');\n",
              "          const dataTable =\n",
              "            await google.colab.kernel.invokeFunction('convertToInteractive',\n",
              "                                                     [key], {});\n",
              "          if (!dataTable) return;\n",
              "\n",
              "          const docLinkHtml = 'Like what you see? Visit the ' +\n",
              "            '<a target=\"_blank\" href=https://colab.research.google.com/notebooks/data_table.ipynb>data table notebook</a>'\n",
              "            + ' to learn more about interactive tables.';\n",
              "          element.innerHTML = '';\n",
              "          dataTable['output_type'] = 'display_data';\n",
              "          await google.colab.output.renderOutput(dataTable, element);\n",
              "          const docLink = document.createElement('div');\n",
              "          docLink.innerHTML = docLinkHtml;\n",
              "          element.appendChild(docLink);\n",
              "        }\n",
              "      </script>\n",
              "    </div>\n",
              "  </div>\n"
            ]
          },
          "metadata": {},
          "execution_count": 10
        }
      ]
    },
    {
      "cell_type": "code",
      "source": [
        "\n",
        "# PCA 모델 생성 및 적합\n",
        "pca = PCA(n_components=2)\n",
        "pca.fit(returns)\n",
        "\n",
        "# PCA 결과 출력\n",
        "print(\"주성분 개수:\", pca.n_components_)\n",
        "print(\"주성분 변동성 비율:\", pca.explained_variance_ratio_)"
      ],
      "metadata": {
        "colab": {
          "base_uri": "https://localhost:8080/"
        },
        "id": "48AspUvDTC99",
        "outputId": "125fe2c6-4f5b-4cbf-d346-2b33c69ee0a6"
      },
      "id": "48AspUvDTC99",
      "execution_count": null,
      "outputs": [
        {
          "output_type": "stream",
          "name": "stdout",
          "text": [
            "주성분 개수: 2\n",
            "주성분 변동성 비율: [0.74006005 0.11426901]\n"
          ]
        }
      ]
    },
    {
      "cell_type": "code",
      "source": [
        "# 주성분 변환을 통해 factor return 계산\n",
        "factor_returns = pca.transform(returns)\n",
        "factor_returns.shape\n"
      ],
      "metadata": {
        "colab": {
          "base_uri": "https://localhost:8080/"
        },
        "id": "za-F0Y2IIttk",
        "outputId": "f6ef1013-316e-49d6-c077-ac788e93b570"
      },
      "id": "za-F0Y2IIttk",
      "execution_count": null,
      "outputs": [
        {
          "output_type": "execute_result",
          "data": {
            "text/plain": [
              "(902, 2)"
            ]
          },
          "metadata": {},
          "execution_count": 12
        }
      ]
    },
    {
      "cell_type": "code",
      "source": [
        "# 결과를 DataFrame으로 변환\n",
        "factor_returns_df = pd.DataFrame(factor_returns, index=returns.index, columns=[f'Factor {i+1}' for i in range(2)])\n",
        "\n",
        "print(factor_returns_df.head())"
      ],
      "metadata": {
        "colab": {
          "base_uri": "https://localhost:8080/"
        },
        "id": "4JhaawURSpI6",
        "outputId": "d3b0a8d0-6c05-486d-adb8-28ddcad2f10a"
      },
      "id": "4JhaawURSpI6",
      "execution_count": null,
      "outputs": [
        {
          "output_type": "stream",
          "name": "stdout",
          "text": [
            "            Factor 1  Factor 2\n",
            "Date                          \n",
            "2020-01-03  0.021339 -0.008154\n",
            "2020-01-06 -0.030205 -0.003368\n",
            "2020-01-07  0.006238 -0.006437\n",
            "2020-01-08 -0.016005  0.000926\n",
            "2020-01-09 -0.025896  0.002551\n"
          ]
        }
      ]
    },
    {
      "cell_type": "code",
      "source": [
        "pca.components_"
      ],
      "metadata": {
        "colab": {
          "base_uri": "https://localhost:8080/"
        },
        "id": "mTxZ8LtBItxf",
        "outputId": "18d4901f-7570-40b1-b321-72fa4c455f7c"
      },
      "id": "mTxZ8LtBItxf",
      "execution_count": null,
      "outputs": [
        {
          "output_type": "execute_result",
          "data": {
            "text/plain": [
              "array([[-0.39615265, -0.39989857, -0.43200303, -0.40663803, -0.57546773],\n",
              "       [ 0.33711943,  0.33932313,  0.31030176,  0.15102806, -0.80753554]])"
            ]
          },
          "metadata": {},
          "execution_count": 14
        }
      ]
    },
    {
      "cell_type": "code",
      "source": [
        "dummy = pca.inverse_transform(factor_returns_df)"
      ],
      "metadata": {
        "id": "_jUXIteba4Dm"
      },
      "id": "_jUXIteba4Dm",
      "execution_count": null,
      "outputs": []
    },
    {
      "cell_type": "code",
      "source": [
        "dummy.shape"
      ],
      "metadata": {
        "colab": {
          "base_uri": "https://localhost:8080/"
        },
        "id": "TZtfVUHca4P2",
        "outputId": "a15676c5-6e16-43a4-ad8e-b13dbadfaa84"
      },
      "id": "TZtfVUHca4P2",
      "execution_count": null,
      "outputs": [
        {
          "output_type": "execute_result",
          "data": {
            "text/plain": [
              "(902, 5)"
            ]
          },
          "metadata": {},
          "execution_count": 16
        }
      ]
    },
    {
      "cell_type": "code",
      "source": [
        "import numpy as np\n",
        "from sklearn.decomposition import PCA\n",
        "import matplotlib.pyplot as plt"
      ],
      "metadata": {
        "id": "2MSAPsYVcadw"
      },
      "id": "2MSAPsYVcadw",
      "execution_count": null,
      "outputs": []
    },
    {
      "cell_type": "code",
      "source": [
        "diff = returns - dummy\n",
        "type(diff)"
      ],
      "metadata": {
        "colab": {
          "base_uri": "https://localhost:8080/"
        },
        "id": "-Mvr88ZCcasC",
        "outputId": "efbfeb30-6b36-480e-ee41-b9d3f52adf36"
      },
      "id": "-Mvr88ZCcasC",
      "execution_count": null,
      "outputs": [
        {
          "output_type": "execute_result",
          "data": {
            "text/plain": [
              "pandas.core.frame.DataFrame"
            ]
          },
          "metadata": {},
          "execution_count": 18
        }
      ]
    },
    {
      "cell_type": "code",
      "source": [
        "returns.iloc[:, 0]"
      ],
      "metadata": {
        "colab": {
          "base_uri": "https://localhost:8080/"
        },
        "id": "vn2Is3eSdGfg",
        "outputId": "083c1f36-f4ee-488f-bc92-029ef5341f75"
      },
      "id": "vn2Is3eSdGfg",
      "execution_count": null,
      "outputs": [
        {
          "output_type": "execute_result",
          "data": {
            "text/plain": [
              "Date\n",
              "2020-01-03   -0.009722\n",
              "2020-01-06    0.007968\n",
              "2020-01-07   -0.004703\n",
              "2020-01-08    0.016086\n",
              "2020-01-09    0.021241\n",
              "                ...   \n",
              "2023-07-28    0.013508\n",
              "2023-07-31    0.003166\n",
              "2023-08-01   -0.004276\n",
              "2023-08-02   -0.015490\n",
              "2023-08-03   -0.007322\n",
              "Name: AAPL, Length: 902, dtype: float64"
            ]
          },
          "metadata": {},
          "execution_count": 19
        }
      ]
    },
    {
      "cell_type": "code",
      "source": [
        "plt.scatter(returns.iloc[:, 0], returns.iloc[:, 1], label='Original points')\n"
      ],
      "metadata": {
        "colab": {
          "base_uri": "https://localhost:8080/",
          "height": 448
        },
        "id": "uhu55blHcvT3",
        "outputId": "76b2ceba-8cc4-4ba0-cd15-cd76c2ccadb4"
      },
      "id": "uhu55blHcvT3",
      "execution_count": null,
      "outputs": [
        {
          "output_type": "execute_result",
          "data": {
            "text/plain": [
              "<matplotlib.collections.PathCollection at 0x7e330bb4d990>"
            ]
          },
          "metadata": {},
          "execution_count": 20
        },
        {
          "output_type": "display_data",
          "data": {
            "text/plain": [
              "<Figure size 640x480 with 1 Axes>"
            ],
            "image/png": "[encoded data removed]"
          },
          "metadata": {}
        }
      ]
    },
    {
      "cell_type": "code",
      "source": [
        "plt.scatter(dummy[:, 0], dummy[:, 1], label='InverseTransform')\n",
        "\n",
        "plt.legend()\n",
        "plt.show()"
      ],
      "metadata": {
        "colab": {
          "base_uri": "https://localhost:8080/",
          "height": 430
        },
        "id": "AEkRZroEdYo5",
        "outputId": "d96d950d-c800-4d36-8935-5b7d57ad2564"
      },
      "id": "AEkRZroEdYo5",
      "execution_count": null,
      "outputs": [
        {
          "output_type": "display_data",
          "data": {
            "text/plain": [
              "<Figure size 640x480 with 1 Axes>"
            ],
            "image/png": "[encoded data removed]"
          },
          "metadata": {}
        }
      ]
    },
    {
      "cell_type": "code",
      "source": [
        "plt.scatter(diff.iloc[:, 0], diff.iloc[:, 1], label='Original points')"
      ],
      "metadata": {
        "colab": {
          "base_uri": "https://localhost:8080/",
          "height": 448
        },
        "id": "cp6zD0SjdtnC",
        "outputId": "f9567c00-985f-40f5-c225-50f6d45416bb"
      },
      "id": "cp6zD0SjdtnC",
      "execution_count": null,
      "outputs": [
        {
          "output_type": "execute_result",
          "data": {
            "text/plain": [
              "<matplotlib.collections.PathCollection at 0x7e330baf6e30>"
            ]
          },
          "metadata": {},
          "execution_count": 22
        },
        {
          "output_type": "display_data",
          "data": {
            "text/plain": [
              "<Figure size 640x480 with 1 Axes>"
            ],
            "image/png": "[encoded data removed]"
          },
          "metadata": {}
        }
      ]
    },
    {
      "cell_type": "code",
      "source": [
        "import numpy as np\n",
        "from sklearn.decomposition import PCA\n",
        "import matplotlib.pyplot as plt\n",
        "\n",
        "\n",
        "pca1 = PCA(1)\n",
        "X_orig = np.random.rand(10, 2)\n",
        "factors = pca1.fit_transform(X_orig)\n",
        "#print(X_orig)\n",
        "#print(factors)\n",
        "#factors.shape\n",
        "pca1.components_\n",
        "\n",
        "\n",
        "\n"
      ],
      "metadata": {
        "colab": {
          "base_uri": "https://localhost:8080/"
        },
        "id": "f4_jvFj7It1F",
        "outputId": "2fdd1f4b-d418-4499-eaea-aac684508c5f"
      },
      "id": "f4_jvFj7It1F",
      "execution_count": null,
      "outputs": [
        {
          "output_type": "execute_result",
          "data": {
            "text/plain": [
              "array([[-0.7225967 , -0.69126985]])"
            ]
          },
          "metadata": {},
          "execution_count": 23
        }
      ]
    },
    {
      "cell_type": "code",
      "source": [
        "X_re_orig = pca1.inverse_transform(factors)\n",
        "\n",
        "X_re_orig"
      ],
      "metadata": {
        "colab": {
          "base_uri": "https://localhost:8080/"
        },
        "id": "SvubKcWwXwQe",
        "outputId": "9aaba5ff-5a65-4e04-bb50-dd96d48646cf"
      },
      "id": "SvubKcWwXwQe",
      "execution_count": null,
      "outputs": [
        {
          "output_type": "execute_result",
          "data": {
            "text/plain": [
              "array([[0.82441314, 0.81683566],\n",
              "       [0.74747014, 0.74322838],\n",
              "       [0.33397394, 0.34765855],\n",
              "       [0.81904565, 0.81170088],\n",
              "       [0.45315664, 0.4616743 ],\n",
              "       [0.78376818, 0.7779528 ],\n",
              "       [0.90706567, 0.89590495],\n",
              "       [0.25439266, 0.27152737],\n",
              "       [0.3367597 , 0.35032355],\n",
              "       [0.96867148, 0.95483995]])"
            ]
          },
          "metadata": {},
          "execution_count": 24
        }
      ]
    },
    {
      "cell_type": "code",
      "source": [
        "plt.scatter(X_orig[:, 0], X_orig[:, 1], label='Original points')\n",
        "plt.scatter(X_re_orig[:, 0], X_re_orig[:, 1], label='InverseTransform')\n",
        "[plt.plot([X_orig[i, 0], X_re_orig[i, 0]], [X_orig[i, 1], X_re_orig[i, 1]]) for i in range(10)]\n",
        "plt.legend()\n",
        "plt.show()"
      ],
      "metadata": {
        "colab": {
          "base_uri": "https://localhost:8080/",
          "height": 430
        },
        "id": "OgO0QyZPXZG3",
        "outputId": "099c26fc-8f17-4b0d-d5f2-6c64f64003b9"
      },
      "id": "OgO0QyZPXZG3",
      "execution_count": null,
      "outputs": [
        {
          "output_type": "display_data",
          "data": {
            "text/plain": [
              "<Figure size 640x480 with 1 Axes>"
            ],
            "image/png": "[encoded data removed]"
          },
          "metadata": {}
        }
      ]
    },
    {
      "cell_type": "code",
      "source": [
        "!pip install finance-datareader"
      ],
      "metadata": {
        "id": "oKFsoG38mgZc",
        "outputId": "d2b29bf4-6439-470d-c2ee-2bd4edbf8f20",
        "colab": {
          "base_uri": "https://localhost:8080/"
        }
      },
      "id": "oKFsoG38mgZc",
      "execution_count": null,
      "outputs": [
        {
          "output_type": "stream",
          "name": "stdout",
          "text": [
            "Requirement already satisfied: finance-datareader in /usr/local/lib/python3.10/dist-packages (0.9.50)\n",
            "Requirement already satisfied: pandas>=0.19.2 in /usr/local/lib/python3.10/dist-packages (from finance-datareader) (1.5.3)\n",
            "Requirement already satisfied: requests>=2.3.0 in /usr/local/lib/python3.10/dist-packages (from finance-datareader) (2.27.1)\n",
            "Requirement already satisfied: requests-file in /usr/local/lib/python3.10/dist-packages (from finance-datareader) (1.5.1)\n",
            "Requirement already satisfied: lxml in /usr/local/lib/python3.10/dist-packages (from finance-datareader) (4.9.3)\n",
            "Requirement already satisfied: tqdm in /usr/local/lib/python3.10/dist-packages (from finance-datareader) (4.65.0)\n",
            "Requirement already satisfied: python-dateutil>=2.8.1 in /usr/local/lib/python3.10/dist-packages (from pandas>=0.19.2->finance-datareader) (2.8.2)\n",
            "Requirement already satisfied: pytz>=2020.1 in /usr/local/lib/python3.10/dist-packages (from pandas>=0.19.2->finance-datareader) (2022.7.1)\n",
            "Requirement already satisfied: numpy>=1.21.0 in /usr/local/lib/python3.10/dist-packages (from pandas>=0.19.2->finance-datareader) (1.22.4)\n",
            "Requirement already satisfied: urllib3<1.27,>=1.21.1 in /usr/local/lib/python3.10/dist-packages (from requests>=2.3.0->finance-datareader) (1.26.16)\n",
            "Requirement already satisfied: certifi>=2017.4.17 in /usr/local/lib/python3.10/dist-packages (from requests>=2.3.0->finance-datareader) (2023.7.22)\n",
            "Requirement already satisfied: charset-normalizer~=2.0.0 in /usr/local/lib/python3.10/dist-packages (from requests>=2.3.0->finance-datareader) (2.0.12)\n",
            "Requirement already satisfied: idna<4,>=2.5 in /usr/local/lib/python3.10/dist-packages (from requests>=2.3.0->finance-datareader) (3.4)\n",
            "Requirement already satisfied: six in /usr/local/lib/python3.10/dist-packages (from requests-file->finance-datareader) (1.16.0)\n"
          ]
        }
      ]
    },
    {
      "cell_type": "code",
      "source": [
        "import yfinance as yf\n",
        "import pandas as pd\n",
        "from pandas_datareader import data as pdr\n",
        "import torch\n",
        "import torch.nn as nn\n",
        "from torch.utils.data import DataLoader, Dataset\n",
        "import numpy as np\n",
        "from sklearn.preprocessing import MinMaxScaler\n",
        "\n"
      ],
      "metadata": {
        "id": "D1TiQkRvmgcH"
      },
      "id": "D1TiQkRvmgcH",
      "execution_count": null,
      "outputs": []
    },
    {
      "cell_type": "code",
      "source": [
        "import FinanceDataReader as fdr"
      ],
      "metadata": {
        "id": "3DjsfkGBnwNC"
      },
      "id": "3DjsfkGBnwNC",
      "execution_count": null,
      "outputs": []
    },
    {
      "cell_type": "code",
      "source": [
        "# 야후 금융 API를 사용해서 주가 데이터 가져오기\n",
        "def get_stock_data(stock_name, start_date, end_date):\n",
        "    #yf.pdr_override()\n",
        "    #df = pdr.get_data_yahoo(stock_name, start=start_date, end=end_date)\n",
        "    df = fdr.DataReader(ticker, start=start_date, end=end_date)\n",
        "\n",
        "    return df"
      ],
      "metadata": {
        "id": "-YLZCpIQupyO"
      },
      "id": "-YLZCpIQupyO",
      "execution_count": null,
      "outputs": []
    },
    {
      "cell_type": "code",
      "source": [
        "import torch\n",
        "import torch.nn as nn\n",
        "import torch.optim as optim\n",
        "from torch.utils.data import Dataset, DataLoader\n",
        "import numpy as np\n",
        "import pandas as pd\n",
        "import matplotlib.pyplot as plt\n",
        "\n",
        "# 데이터 전처리\n",
        "stock_name = \"AAPL\"\n",
        "start_date = \"2010-01-01\"\n",
        "end_date = \"2020-12-31\"\n",
        "\n",
        "data = get_stock_data(stock_name, start_date, end_date)\n",
        "data = data[['Open']].values.astype('float32')\n",
        "data = torch.FloatTensor(data)\n",
        "\n",
        "# 하이퍼파라미터 설정\n",
        "num_layers = 6\n",
        "num_heads = 8\n",
        "hidden_size = 512\n",
        "dropout = 0.1\n",
        "num_epochs = 20\n",
        "batch_size = 32\n",
        "lr = 0.0005\n",
        "\n",
        "# Transformer델 정의\n",
        "class Transformer(nn.Module):\n",
        "  def __init__(self, input_dim, hidden_dim, output_dim, num_layers, num_heads, dropout):\n",
        "    super().__init__()\n",
        "    self.input_embedding = nn.Linear(input_dim, hidden_dim)\n",
        "    self.transformer = nn.Transformer(d_model=hidden_dim, nhead=num_heads, num_encoder_layers=num_layers, num_decoder_layers=num_layers, dim_feedforward=hidden_dim, dropout=dropout)\n",
        "    self.output_layer = nn.Linear(hidden_dim, output_dim)\n",
        "\n",
        "  def forward(self, x):\n",
        "    x = self.input_embedding(x)\n",
        "    x = self.transformer(x, x)\n",
        "    x = self.output_layer(x)\n",
        "    return x\n",
        "\n",
        "# 데이터셋과 데이터로더 설정\n",
        "class StockDataset(Dataset):\n",
        "    def __init__(self, data, seq_len=20):\n",
        "        self.data = data\n",
        "        self.seq_len = seq_len\n",
        "\n",
        "    def __len__(self):\n",
        "        return len(self.data) - self.seq_len\n",
        "\n",
        "    def __getitem__(self, idx):\n",
        "        x = self.data[idx:idx+self.seq_len]\n",
        "        y = self.data[idx+self.seq_len]\n",
        "        return x, y\n",
        "\n",
        "dataset = StockDataset(data)\n",
        "dataloader = DataLoader(dataset, batch_size=batch_size, shuffle=True)\n",
        "\n",
        "# 모델과 옵티마이저 설정\n",
        "model = Transformer(input_dim=1, hidden_dim=hidden_size, output_dim=1, num_layers=num_layers, num_heads=num_heads, dropout=dropout)\n",
        "optimizer = optim.Adam(model.parameters(), lr=lr)\n",
        "criterion = nn.MSELoss()\n",
        "\n",
        "# 학습 루프\n",
        "for epoch in range(num_epochs):\n",
        "    mse_loss = 0\n",
        "    for x, y in dataloader:\n",
        "        optimizer.zero_grad()\n",
        "        y_pred = model(x)\n",
        "        loss = criterion(y_pred.squeeze(), y)\n",
        "        loss.backward()\n",
        "        optimizer.step()\n",
        "        mse_loss += loss.item()\n",
        "\n",
        "    # 학습 결과 출력\n",
        "    print(f'Epoch: {epoch+1}, Train Loss: {mse_loss/len(dataloader):.6f}')\n",
        "\n",
        "# 테스트 데이터 예측\n",
        "model.eval()\n",
        "with torch.no_grad():\n",
        "    inputs = data[-20:].view(-1, 1, 1)\n",
        "    for i in range(10):\n",
        "        pred = model(inputs)[-1].item()\n",
        "        inputs = torch.cat([inputs.squeeze(), torch.FloatTensor([pred])]).view(-1, 1, 1)\n",
        "        print(f'Prediction {i+1}: {pred}')\n",
        "\n",
        "# 예측 결과 시각화\n",
        "inputs = data[-20:].view(-1, 1, 1)\n",
        "predictions = []\n",
        "for i in range(10):\n",
        "    pred = model(inputs)[-1].item()\n",
        "    inputs = torch.cat([inputs.squeeze(), torch.FloatTensor([pred])]).view(-1, 1, 1)\n",
        "    predictions.append(pred)\n",
        "plt.plot(data, label='Ground Truth')\n",
        "plt.plot(range(len(data)-10, len(data)), predictions, label='Predictions')\n",
        "plt.legend()\n",
        "plt.show()\n"
      ],
      "metadata": {
        "id": "4XVLvsp_urzA",
        "outputId": "a1830613-12c4-43a2-d5c4-20a112362284",
        "colab": {
          "base_uri": "https://localhost:8080/",
          "height": 1000
        }
      },
      "id": "4XVLvsp_urzA",
      "execution_count": null,
      "outputs": [
        {
          "output_type": "stream",
          "name": "stderr",
          "text": [
            "/usr/local/lib/python3.10/dist-packages/torch/nn/modules/loss.py:536: UserWarning: Using a target size (torch.Size([32, 1])) that is different to the input size (torch.Size([32, 20])). This will likely lead to incorrect results due to broadcasting. Please ensure they have the same size.\n",
            "  return F.mse_loss(input, target, reduction=self.reduction)\n",
            "/usr/local/lib/python3.10/dist-packages/torch/nn/modules/loss.py:536: UserWarning: Using a target size (torch.Size([5, 1])) that is different to the input size (torch.Size([5, 20])). This will likely lead to incorrect results due to broadcasting. Please ensure they have the same size.\n",
            "  return F.mse_loss(input, target, reduction=self.reduction)\n"
          ]
        },
        {
          "output_type": "stream",
          "name": "stdout",
          "text": [
            "Epoch: 1, Train Loss: 15580.233398\n",
            "Epoch: 2, Train Loss: 11943.371805\n",
            "Epoch: 3, Train Loss: 8545.561663\n",
            "Epoch: 4, Train Loss: 6524.602083\n",
            "Epoch: 5, Train Loss: 5212.904656\n",
            "Epoch: 6, Train Loss: 4753.024217\n",
            "Epoch: 7, Train Loss: 4599.788204\n",
            "Epoch: 8, Train Loss: 4666.437044\n",
            "Epoch: 9, Train Loss: 4585.880604\n",
            "Epoch: 10, Train Loss: 4574.610072\n",
            "Epoch: 11, Train Loss: 4558.259234\n",
            "Epoch: 12, Train Loss: 4624.927645\n",
            "Epoch: 13, Train Loss: 4600.990231\n",
            "Epoch: 14, Train Loss: 4608.856348\n",
            "Epoch: 15, Train Loss: 4588.399626\n",
            "Epoch: 16, Train Loss: 4620.202220\n",
            "Epoch: 17, Train Loss: 4589.011130\n",
            "Epoch: 18, Train Loss: 4608.828739\n",
            "Epoch: 19, Train Loss: 4569.107411\n",
            "Epoch: 20, Train Loss: 4614.137914\n",
            "Prediction 1: 128.29051208496094\n",
            "Prediction 2: 128.29051208496094\n",
            "Prediction 3: 128.29051208496094\n",
            "Prediction 4: 128.29051208496094\n",
            "Prediction 5: 128.29051208496094\n",
            "Prediction 6: 128.29049682617188\n",
            "Prediction 7: 128.29049682617188\n",
            "Prediction 8: 128.29049682617188\n",
            "Prediction 9: 128.29051208496094\n",
            "Prediction 10: 128.29051208496094\n"
          ]
        },
        {
          "output_type": "display_data",
          "data": {
            "text/plain": [
              "<Figure size 640x480 with 1 Axes>"
            ],
            "image/png": "[encoded data removed]"
          },
          "metadata": {}
        }
      ]
    },
    {
      "cell_type": "code",
      "source": [],
      "metadata": {
        "id": "Tvc1OpLEvBO-"
      },
      "id": "Tvc1OpLEvBO-",
      "execution_count": null,
      "outputs": []
    },
    {
      "cell_type": "code",
      "source": [
        "\n",
        "\n",
        "# 데이터 전처리\n",
        "def preprocess_data(data):\n",
        "    scaler = MinMaxScaler()\n",
        "    scaled_data = scaler.fit_transform(data[\"Close\"].values.reshape(-1, 1))\n",
        "\n",
        "    seq_length = 30\n",
        "    x = []\n",
        "    y = []\n",
        "\n",
        "    for i in range(len(scaled_data) - seq_length):\n",
        "        x.append(scaled_data[i:i+seq_length])\n",
        "        y.append(scaled_data[i+seq_length])\n",
        "\n",
        "    x = np.array(x)\n",
        "    y = np.array(y)\n",
        "\n",
        "    train_size = int(0.8 * len(x))\n",
        "    train_x, test_x = x[:train_size], x[train_size:]\n",
        "    train_y, test_y = y[:train_size], y[train_size:]\n",
        "\n",
        "    return train_x, train_y, test_x, test_y, scaler"
      ],
      "metadata": {
        "id": "3B0GXDbDoY2W"
      },
      "id": "3B0GXDbDoY2W",
      "execution_count": null,
      "outputs": []
    },
    {
      "cell_type": "code",
      "source": [
        "\n",
        "class TimeSeriesDataset(Dataset):\n",
        "    def __init__(self, x, y):\n",
        "        self.x = torch.tensor(x, dtype=torch.float32)\n",
        "        self.y = torch.tensor(y, dtype=torch.float32)\n",
        "\n",
        "    def __len__(self):\n",
        "        return len(self.x)\n",
        "\n",
        "    def __getitem__(self, idx):\n",
        "        return (self.x[idx], self.y[idx])\n"
      ],
      "metadata": {
        "id": "KkC-Lrs9oeDz"
      },
      "id": "KkC-Lrs9oeDz",
      "execution_count": null,
      "outputs": []
    },
    {
      "cell_type": "code",
      "source": [
        "class TransformerModel(nn.Module):\n",
        "    def __init__(self, d_model, nhead, num_layers):\n",
        "        super().__init__()\n",
        "        self.transformer = nn.Transformer(d_model, nhead, num_layers)\n",
        "        self.fc = nn.Linear(d_model, 1)\n",
        "\n",
        "    def forward(self, x):\n",
        "        x = self.transformer(x,x)\n",
        "        x = self.fc(x)\n",
        "        return x"
      ],
      "metadata": {
        "id": "peSz97Dxohvl"
      },
      "id": "peSz97Dxohvl",
      "execution_count": null,
      "outputs": []
    },
    {
      "cell_type": "code",
      "source": [
        "def train_model(model, dataloader, loss_function, optimizer, epochs):\n",
        "    for epoch in range(epochs):\n",
        "        for x, y in dataloader:\n",
        "            optimizer.zero_grad()\n",
        "            y_pred = model.forward(x)\n",
        "            loss = loss_function(y_pred.view(-1), y.view(-1))\n",
        "            loss.backward()\n",
        "            optimizer.step()"
      ],
      "metadata": {
        "id": "Smq-bgRyoml1"
      },
      "id": "Smq-bgRyoml1",
      "execution_count": null,
      "outputs": []
    },
    {
      "cell_type": "code",
      "source": [
        "# 주가 데이터 가져오기\n",
        "stock_name = \"AAPL\"\n",
        "start_date = \"2010-01-01\"\n",
        "end_date = \"2020-12-31\"\n",
        "\n",
        "data = get_stock_data(stock_name, start_date, end_date)\n",
        "\n",
        "# 데이터 전처리\n",
        "train_x, train_y, test_x, test_y, scaler = preprocess_data(data)\n",
        "\n",
        "# 훈련 데이터 불러오기\n",
        "train_dataset = TimeSeriesDataset(train_x, train_y)\n",
        "train_dataloader = DataLoader(train_dataset, batch_size=32, shuffle=True)\n",
        "\n",
        "# 모델 생성\n",
        "device = \"cuda\" if torch.cuda.is_available() else \"cpu\"\n",
        "d_model = 30\n",
        "nhead = 5\n",
        "num_layers = 2\n",
        "model = TransformerModel(d_model, nhead, num_layers).to(device)\n",
        "model"
      ],
      "metadata": {
        "id": "y7qwjkndr7JR",
        "outputId": "774816fc-ace0-4fbc-be30-0a7c696fa418",
        "colab": {
          "base_uri": "https://localhost:8080/"
        }
      },
      "id": "y7qwjkndr7JR",
      "execution_count": null,
      "outputs": [
        {
          "output_type": "execute_result",
          "data": {
            "text/plain": [
              "TransformerModel(\n",
              "  (transformer): Transformer(\n",
              "    (encoder): TransformerEncoder(\n",
              "      (layers): ModuleList(\n",
              "        (0-1): 2 x TransformerEncoderLayer(\n",
              "          (self_attn): MultiheadAttention(\n",
              "            (out_proj): NonDynamicallyQuantizableLinear(in_features=30, out_features=30, bias=True)\n",
              "          )\n",
              "          (linear1): Linear(in_features=30, out_features=2048, bias=True)\n",
              "          (dropout): Dropout(p=0.1, inplace=False)\n",
              "          (linear2): Linear(in_features=2048, out_features=30, bias=True)\n",
              "          (norm1): LayerNorm((30,), eps=1e-05, elementwise_affine=True)\n",
              "          (norm2): LayerNorm((30,), eps=1e-05, elementwise_affine=True)\n",
              "          (dropout1): Dropout(p=0.1, inplace=False)\n",
              "          (dropout2): Dropout(p=0.1, inplace=False)\n",
              "        )\n",
              "      )\n",
              "      (norm): LayerNorm((30,), eps=1e-05, elementwise_affine=True)\n",
              "    )\n",
              "    (decoder): TransformerDecoder(\n",
              "      (layers): ModuleList(\n",
              "        (0-5): 6 x TransformerDecoderLayer(\n",
              "          (self_attn): MultiheadAttention(\n",
              "            (out_proj): NonDynamicallyQuantizableLinear(in_features=30, out_features=30, bias=True)\n",
              "          )\n",
              "          (multihead_attn): MultiheadAttention(\n",
              "            (out_proj): NonDynamicallyQuantizableLinear(in_features=30, out_features=30, bias=True)\n",
              "          )\n",
              "          (linear1): Linear(in_features=30, out_features=2048, bias=True)\n",
              "          (dropout): Dropout(p=0.1, inplace=False)\n",
              "          (linear2): Linear(in_features=2048, out_features=30, bias=True)\n",
              "          (norm1): LayerNorm((30,), eps=1e-05, elementwise_affine=True)\n",
              "          (norm2): LayerNorm((30,), eps=1e-05, elementwise_affine=True)\n",
              "          (norm3): LayerNorm((30,), eps=1e-05, elementwise_affine=True)\n",
              "          (dropout1): Dropout(p=0.1, inplace=False)\n",
              "          (dropout2): Dropout(p=0.1, inplace=False)\n",
              "          (dropout3): Dropout(p=0.1, inplace=False)\n",
              "        )\n",
              "      )\n",
              "      (norm): LayerNorm((30,), eps=1e-05, elementwise_affine=True)\n",
              "    )\n",
              "  )\n",
              "  (fc): Linear(in_features=30, out_features=1, bias=True)\n",
              ")"
            ]
          },
          "metadata": {},
          "execution_count": 41
        }
      ]
    },
    {
      "cell_type": "code",
      "source": [
        "# 손실 함수 및 최적화 도구 생성\n",
        "loss_function = nn.MSELoss()\n",
        "optimizer = torch.optim.Adam(model.parameters(), lr=0.0001)"
      ],
      "metadata": {
        "id": "JZRi5iQ7sdJ0"
      },
      "id": "JZRi5iQ7sdJ0",
      "execution_count": null,
      "outputs": []
    },
    {
      "cell_type": "code",
      "source": [
        "# 학습\n",
        "epochs = 10\n",
        "train_model(model, train_dataloader, loss_function, optimizer, epochs)"
      ],
      "metadata": {
        "id": "6SPXsnPDsrhD",
        "outputId": "e69126c8-dd2d-4a6d-c4b7-8fbf3a5b65d5",
        "colab": {
          "base_uri": "https://localhost:8080/",
          "height": 380
        }
      },
      "id": "6SPXsnPDsrhD",
      "execution_count": null,
      "outputs": [
        {
          "output_type": "error",
          "ename": "RuntimeError",
          "evalue": "ignored",
          "traceback": [
            "\u001b[0;31m---------------------------------------------------------------------------\u001b[0m",
            "\u001b[0;31mRuntimeError\u001b[0m                              Traceback (most recent call last)",
            "\u001b[0;32m<ipython-input-43-463553f9dac4>\u001b[0m in \u001b[0;36m<cell line: 3>\u001b[0;34m()\u001b[0m\n\u001b[1;32m      1\u001b[0m \u001b[0;31m# 학습\u001b[0m\u001b[0;34m\u001b[0m\u001b[0;34m\u001b[0m\u001b[0m\n\u001b[1;32m      2\u001b[0m \u001b[0mepochs\u001b[0m \u001b[0;34m=\u001b[0m \u001b[0;36m10\u001b[0m\u001b[0;34m\u001b[0m\u001b[0;34m\u001b[0m\u001b[0m\n\u001b[0;32m----> 3\u001b[0;31m \u001b[0mtrain_model\u001b[0m\u001b[0;34m(\u001b[0m\u001b[0mmodel\u001b[0m\u001b[0;34m,\u001b[0m \u001b[0mtrain_dataloader\u001b[0m\u001b[0;34m,\u001b[0m \u001b[0mloss_function\u001b[0m\u001b[0;34m,\u001b[0m \u001b[0moptimizer\u001b[0m\u001b[0;34m,\u001b[0m \u001b[0mepochs\u001b[0m\u001b[0;34m)\u001b[0m\u001b[0;34m\u001b[0m\u001b[0;34m\u001b[0m\u001b[0m\n\u001b[0m",
            "\u001b[0;32m<ipython-input-40-ce5c06b38fea>\u001b[0m in \u001b[0;36mtrain_model\u001b[0;34m(model, dataloader, loss_function, optimizer, epochs)\u001b[0m\n\u001b[1;32m      3\u001b[0m         \u001b[0;32mfor\u001b[0m \u001b[0mx\u001b[0m\u001b[0;34m,\u001b[0m \u001b[0my\u001b[0m \u001b[0;32min\u001b[0m \u001b[0mdataloader\u001b[0m\u001b[0;34m:\u001b[0m\u001b[0;34m\u001b[0m\u001b[0;34m\u001b[0m\u001b[0m\n\u001b[1;32m      4\u001b[0m             \u001b[0moptimizer\u001b[0m\u001b[0;34m.\u001b[0m\u001b[0mzero_grad\u001b[0m\u001b[0;34m(\u001b[0m\u001b[0;34m)\u001b[0m\u001b[0;34m\u001b[0m\u001b[0;34m\u001b[0m\u001b[0m\n\u001b[0;32m----> 5\u001b[0;31m             \u001b[0my_pred\u001b[0m \u001b[0;34m=\u001b[0m \u001b[0mmodel\u001b[0m\u001b[0;34m.\u001b[0m\u001b[0mforward\u001b[0m\u001b[0;34m(\u001b[0m\u001b[0mx\u001b[0m\u001b[0;34m)\u001b[0m\u001b[0;34m\u001b[0m\u001b[0;34m\u001b[0m\u001b[0m\n\u001b[0m\u001b[1;32m      6\u001b[0m             \u001b[0mloss\u001b[0m \u001b[0;34m=\u001b[0m \u001b[0mloss_function\u001b[0m\u001b[0;34m(\u001b[0m\u001b[0my_pred\u001b[0m\u001b[0;34m.\u001b[0m\u001b[0mview\u001b[0m\u001b[0;34m(\u001b[0m\u001b[0;34m-\u001b[0m\u001b[0;36m1\u001b[0m\u001b[0;34m)\u001b[0m\u001b[0;34m,\u001b[0m \u001b[0my\u001b[0m\u001b[0;34m.\u001b[0m\u001b[0mview\u001b[0m\u001b[0;34m(\u001b[0m\u001b[0;34m-\u001b[0m\u001b[0;36m1\u001b[0m\u001b[0;34m)\u001b[0m\u001b[0;34m)\u001b[0m\u001b[0;34m\u001b[0m\u001b[0;34m\u001b[0m\u001b[0m\n\u001b[1;32m      7\u001b[0m             \u001b[0mloss\u001b[0m\u001b[0;34m.\u001b[0m\u001b[0mbackward\u001b[0m\u001b[0;34m(\u001b[0m\u001b[0;34m)\u001b[0m\u001b[0;34m\u001b[0m\u001b[0;34m\u001b[0m\u001b[0m\n",
            "\u001b[0;32m<ipython-input-39-93c96c978ff2>\u001b[0m in \u001b[0;36mforward\u001b[0;34m(self, x)\u001b[0m\n\u001b[1;32m      6\u001b[0m \u001b[0;34m\u001b[0m\u001b[0m\n\u001b[1;32m      7\u001b[0m     \u001b[0;32mdef\u001b[0m \u001b[0mforward\u001b[0m\u001b[0;34m(\u001b[0m\u001b[0mself\u001b[0m\u001b[0;34m,\u001b[0m \u001b[0mx\u001b[0m\u001b[0;34m)\u001b[0m\u001b[0;34m:\u001b[0m\u001b[0;34m\u001b[0m\u001b[0;34m\u001b[0m\u001b[0m\n\u001b[0;32m----> 8\u001b[0;31m         \u001b[0mx\u001b[0m \u001b[0;34m=\u001b[0m \u001b[0mself\u001b[0m\u001b[0;34m.\u001b[0m\u001b[0mtransformer\u001b[0m\u001b[0;34m(\u001b[0m\u001b[0mx\u001b[0m\u001b[0;34m,\u001b[0m\u001b[0mx\u001b[0m\u001b[0;34m)\u001b[0m\u001b[0;34m\u001b[0m\u001b[0;34m\u001b[0m\u001b[0m\n\u001b[0m\u001b[1;32m      9\u001b[0m         \u001b[0mx\u001b[0m \u001b[0;34m=\u001b[0m \u001b[0mself\u001b[0m\u001b[0;34m.\u001b[0m\u001b[0mfc\u001b[0m\u001b[0;34m(\u001b[0m\u001b[0mx\u001b[0m\u001b[0;34m)\u001b[0m\u001b[0;34m\u001b[0m\u001b[0;34m\u001b[0m\u001b[0m\n\u001b[1;32m     10\u001b[0m         \u001b[0;32mreturn\u001b[0m \u001b[0mx\u001b[0m\u001b[0;34m\u001b[0m\u001b[0;34m\u001b[0m\u001b[0m\n",
            "\u001b[0;32m/usr/local/lib/python3.10/dist-packages/torch/nn/modules/module.py\u001b[0m in \u001b[0;36m_call_impl\u001b[0;34m(self, *args, **kwargs)\u001b[0m\n\u001b[1;32m   1499\u001b[0m                 \u001b[0;32mor\u001b[0m \u001b[0m_global_backward_pre_hooks\u001b[0m \u001b[0;32mor\u001b[0m \u001b[0m_global_backward_hooks\u001b[0m\u001b[0;34m\u001b[0m\u001b[0;34m\u001b[0m\u001b[0m\n\u001b[1;32m   1500\u001b[0m                 or _global_forward_hooks or _global_forward_pre_hooks):\n\u001b[0;32m-> 1501\u001b[0;31m             \u001b[0;32mreturn\u001b[0m \u001b[0mforward_call\u001b[0m\u001b[0;34m(\u001b[0m\u001b[0;34m*\u001b[0m\u001b[0margs\u001b[0m\u001b[0;34m,\u001b[0m \u001b[0;34m**\u001b[0m\u001b[0mkwargs\u001b[0m\u001b[0;34m)\u001b[0m\u001b[0;34m\u001b[0m\u001b[0;34m\u001b[0m\u001b[0m\n\u001b[0m\u001b[1;32m   1502\u001b[0m         \u001b[0;31m# Do not call functions when jit is used\u001b[0m\u001b[0;34m\u001b[0m\u001b[0;34m\u001b[0m\u001b[0m\n\u001b[1;32m   1503\u001b[0m         \u001b[0mfull_backward_hooks\u001b[0m\u001b[0;34m,\u001b[0m \u001b[0mnon_full_backward_hooks\u001b[0m \u001b[0;34m=\u001b[0m \u001b[0;34m[\u001b[0m\u001b[0;34m]\u001b[0m\u001b[0;34m,\u001b[0m \u001b[0;34m[\u001b[0m\u001b[0;34m]\u001b[0m\u001b[0;34m\u001b[0m\u001b[0;34m\u001b[0m\u001b[0m\n",
            "\u001b[0;32m/usr/local/lib/python3.10/dist-packages/torch/nn/modules/transformer.py\u001b[0m in \u001b[0;36mforward\u001b[0;34m(self, src, tgt, src_mask, tgt_mask, memory_mask, src_key_padding_mask, tgt_key_padding_mask, memory_key_padding_mask)\u001b[0m\n\u001b[1;32m    141\u001b[0m \u001b[0;34m\u001b[0m\u001b[0m\n\u001b[1;32m    142\u001b[0m         \u001b[0;32mif\u001b[0m \u001b[0msrc\u001b[0m\u001b[0;34m.\u001b[0m\u001b[0msize\u001b[0m\u001b[0;34m(\u001b[0m\u001b[0;34m-\u001b[0m\u001b[0;36m1\u001b[0m\u001b[0;34m)\u001b[0m \u001b[0;34m!=\u001b[0m \u001b[0mself\u001b[0m\u001b[0;34m.\u001b[0m\u001b[0md_model\u001b[0m \u001b[0;32mor\u001b[0m \u001b[0mtgt\u001b[0m\u001b[0;34m.\u001b[0m\u001b[0msize\u001b[0m\u001b[0;34m(\u001b[0m\u001b[0;34m-\u001b[0m\u001b[0;36m1\u001b[0m\u001b[0;34m)\u001b[0m \u001b[0;34m!=\u001b[0m \u001b[0mself\u001b[0m\u001b[0;34m.\u001b[0m\u001b[0md_model\u001b[0m\u001b[0;34m:\u001b[0m\u001b[0;34m\u001b[0m\u001b[0;34m\u001b[0m\u001b[0m\n\u001b[0;32m--> 143\u001b[0;31m             \u001b[0;32mraise\u001b[0m \u001b[0mRuntimeError\u001b[0m\u001b[0;34m(\u001b[0m\u001b[0;34m\"the feature number of src and tgt must be equal to d_model\"\u001b[0m\u001b[0;34m)\u001b[0m\u001b[0;34m\u001b[0m\u001b[0;34m\u001b[0m\u001b[0m\n\u001b[0m\u001b[1;32m    144\u001b[0m \u001b[0;34m\u001b[0m\u001b[0m\n\u001b[1;32m    145\u001b[0m         \u001b[0mmemory\u001b[0m \u001b[0;34m=\u001b[0m \u001b[0mself\u001b[0m\u001b[0;34m.\u001b[0m\u001b[0mencoder\u001b[0m\u001b[0;34m(\u001b[0m\u001b[0msrc\u001b[0m\u001b[0;34m,\u001b[0m \u001b[0mmask\u001b[0m\u001b[0;34m=\u001b[0m\u001b[0msrc_mask\u001b[0m\u001b[0;34m,\u001b[0m \u001b[0msrc_key_padding_mask\u001b[0m\u001b[0;34m=\u001b[0m\u001b[0msrc_key_padding_mask\u001b[0m\u001b[0;34m)\u001b[0m\u001b[0;34m\u001b[0m\u001b[0;34m\u001b[0m\u001b[0m\n",
            "\u001b[0;31mRuntimeError\u001b[0m: the feature number of src and tgt must be equal to d_model"
          ]
        }
      ]
    },
    {
      "cell_type": "code",
      "source": [
        "\n",
        "\n",
        "\n",
        "# 예측 및 평가\n",
        "test_x_tensor = torch.tensor(test_x, dtype=torch.float32).to(device)\n",
        "predictions = model(test_x_tensor).detach().cpu().numpy()\n",
        "predictions_rescaled = scaler.inverse_transform(predictions)\n",
        "\n",
        "print(\"예측된 주가:\")\n",
        "print(predictions_rescaled)\n"
      ],
      "metadata": {
        "id": "Uj29ulR0mgib",
        "outputId": "2c72ceb0-ff10-4638-f742-bb044b48a16d",
        "colab": {
          "base_uri": "https://localhost:8080/",
          "height": 398
        }
      },
      "id": "Uj29ulR0mgib",
      "execution_count": null,
      "outputs": [
        {
          "output_type": "error",
          "ename": "TypeError",
          "evalue": "ignored",
          "traceback": [
            "\u001b[0;31m---------------------------------------------------------------------------\u001b[0m",
            "\u001b[0;31mTypeError\u001b[0m                                 Traceback (most recent call last)",
            "\u001b[0;32m<ipython-input-35-8a2710579f39>\u001b[0m in \u001b[0;36m<cell line: 28>\u001b[0;34m()\u001b[0m\n\u001b[1;32m     26\u001b[0m \u001b[0;31m# 학습\u001b[0m\u001b[0;34m\u001b[0m\u001b[0;34m\u001b[0m\u001b[0m\n\u001b[1;32m     27\u001b[0m \u001b[0mepochs\u001b[0m \u001b[0;34m=\u001b[0m \u001b[0;36m10\u001b[0m\u001b[0;34m\u001b[0m\u001b[0;34m\u001b[0m\u001b[0m\n\u001b[0;32m---> 28\u001b[0;31m \u001b[0mtrain_model\u001b[0m\u001b[0;34m(\u001b[0m\u001b[0mmodel\u001b[0m\u001b[0;34m,\u001b[0m \u001b[0mtrain_dataloader\u001b[0m\u001b[0;34m,\u001b[0m \u001b[0mloss_function\u001b[0m\u001b[0;34m,\u001b[0m \u001b[0moptimizer\u001b[0m\u001b[0;34m,\u001b[0m \u001b[0mepochs\u001b[0m\u001b[0;34m)\u001b[0m\u001b[0;34m\u001b[0m\u001b[0;34m\u001b[0m\u001b[0m\n\u001b[0m\u001b[1;32m     29\u001b[0m \u001b[0;34m\u001b[0m\u001b[0m\n\u001b[1;32m     30\u001b[0m \u001b[0;31m# 예측 및 평가\u001b[0m\u001b[0;34m\u001b[0m\u001b[0;34m\u001b[0m\u001b[0m\n",
            "\u001b[0;32m<ipython-input-34-ce5c06b38fea>\u001b[0m in \u001b[0;36mtrain_model\u001b[0;34m(model, dataloader, loss_function, optimizer, epochs)\u001b[0m\n\u001b[1;32m      3\u001b[0m         \u001b[0;32mfor\u001b[0m \u001b[0mx\u001b[0m\u001b[0;34m,\u001b[0m \u001b[0my\u001b[0m \u001b[0;32min\u001b[0m \u001b[0mdataloader\u001b[0m\u001b[0;34m:\u001b[0m\u001b[0;34m\u001b[0m\u001b[0;34m\u001b[0m\u001b[0m\n\u001b[1;32m      4\u001b[0m             \u001b[0moptimizer\u001b[0m\u001b[0;34m.\u001b[0m\u001b[0mzero_grad\u001b[0m\u001b[0;34m(\u001b[0m\u001b[0;34m)\u001b[0m\u001b[0;34m\u001b[0m\u001b[0;34m\u001b[0m\u001b[0m\n\u001b[0;32m----> 5\u001b[0;31m             \u001b[0my_pred\u001b[0m \u001b[0;34m=\u001b[0m \u001b[0mmodel\u001b[0m\u001b[0;34m.\u001b[0m\u001b[0mforward\u001b[0m\u001b[0;34m(\u001b[0m\u001b[0mx\u001b[0m\u001b[0;34m)\u001b[0m\u001b[0;34m\u001b[0m\u001b[0;34m\u001b[0m\u001b[0m\n\u001b[0m\u001b[1;32m      6\u001b[0m             \u001b[0mloss\u001b[0m \u001b[0;34m=\u001b[0m \u001b[0mloss_function\u001b[0m\u001b[0;34m(\u001b[0m\u001b[0my_pred\u001b[0m\u001b[0;34m.\u001b[0m\u001b[0mview\u001b[0m\u001b[0;34m(\u001b[0m\u001b[0;34m-\u001b[0m\u001b[0;36m1\u001b[0m\u001b[0;34m)\u001b[0m\u001b[0;34m,\u001b[0m \u001b[0my\u001b[0m\u001b[0;34m.\u001b[0m\u001b[0mview\u001b[0m\u001b[0;34m(\u001b[0m\u001b[0;34m-\u001b[0m\u001b[0;36m1\u001b[0m\u001b[0;34m)\u001b[0m\u001b[0;34m)\u001b[0m\u001b[0;34m\u001b[0m\u001b[0;34m\u001b[0m\u001b[0m\n\u001b[1;32m      7\u001b[0m             \u001b[0mloss\u001b[0m\u001b[0;34m.\u001b[0m\u001b[0mbackward\u001b[0m\u001b[0;34m(\u001b[0m\u001b[0;34m)\u001b[0m\u001b[0;34m\u001b[0m\u001b[0;34m\u001b[0m\u001b[0m\n",
            "\u001b[0;32m<ipython-input-31-4451129c69c1>\u001b[0m in \u001b[0;36mforward\u001b[0;34m(self, x)\u001b[0m\n\u001b[1;32m      6\u001b[0m \u001b[0;34m\u001b[0m\u001b[0m\n\u001b[1;32m      7\u001b[0m     \u001b[0;32mdef\u001b[0m \u001b[0mforward\u001b[0m\u001b[0;34m(\u001b[0m\u001b[0mself\u001b[0m\u001b[0;34m,\u001b[0m \u001b[0mx\u001b[0m\u001b[0;34m)\u001b[0m\u001b[0;34m:\u001b[0m\u001b[0;34m\u001b[0m\u001b[0;34m\u001b[0m\u001b[0m\n\u001b[0;32m----> 8\u001b[0;31m         \u001b[0mx\u001b[0m \u001b[0;34m=\u001b[0m \u001b[0mself\u001b[0m\u001b[0;34m.\u001b[0m\u001b[0mtransformer\u001b[0m\u001b[0;34m(\u001b[0m\u001b[0mx\u001b[0m\u001b[0;34m)\u001b[0m\u001b[0;34m\u001b[0m\u001b[0;34m\u001b[0m\u001b[0m\n\u001b[0m\u001b[1;32m      9\u001b[0m         \u001b[0mx\u001b[0m \u001b[0;34m=\u001b[0m \u001b[0mself\u001b[0m\u001b[0;34m.\u001b[0m\u001b[0mfc\u001b[0m\u001b[0;34m(\u001b[0m\u001b[0mx\u001b[0m\u001b[0;34m)\u001b[0m\u001b[0;34m\u001b[0m\u001b[0;34m\u001b[0m\u001b[0m\n\u001b[1;32m     10\u001b[0m         \u001b[0;32mreturn\u001b[0m \u001b[0mx\u001b[0m\u001b[0;34m\u001b[0m\u001b[0;34m\u001b[0m\u001b[0m\n",
            "\u001b[0;32m/usr/local/lib/python3.10/dist-packages/torch/nn/modules/module.py\u001b[0m in \u001b[0;36m_call_impl\u001b[0;34m(self, *args, **kwargs)\u001b[0m\n\u001b[1;32m   1499\u001b[0m                 \u001b[0;32mor\u001b[0m \u001b[0m_global_backward_pre_hooks\u001b[0m \u001b[0;32mor\u001b[0m \u001b[0m_global_backward_hooks\u001b[0m\u001b[0;34m\u001b[0m\u001b[0;34m\u001b[0m\u001b[0m\n\u001b[1;32m   1500\u001b[0m                 or _global_forward_hooks or _global_forward_pre_hooks):\n\u001b[0;32m-> 1501\u001b[0;31m             \u001b[0;32mreturn\u001b[0m \u001b[0mforward_call\u001b[0m\u001b[0;34m(\u001b[0m\u001b[0;34m*\u001b[0m\u001b[0margs\u001b[0m\u001b[0;34m,\u001b[0m \u001b[0;34m**\u001b[0m\u001b[0mkwargs\u001b[0m\u001b[0;34m)\u001b[0m\u001b[0;34m\u001b[0m\u001b[0;34m\u001b[0m\u001b[0m\n\u001b[0m\u001b[1;32m   1502\u001b[0m         \u001b[0;31m# Do not call functions when jit is used\u001b[0m\u001b[0;34m\u001b[0m\u001b[0;34m\u001b[0m\u001b[0m\n\u001b[1;32m   1503\u001b[0m         \u001b[0mfull_backward_hooks\u001b[0m\u001b[0;34m,\u001b[0m \u001b[0mnon_full_backward_hooks\u001b[0m \u001b[0;34m=\u001b[0m \u001b[0;34m[\u001b[0m\u001b[0;34m]\u001b[0m\u001b[0;34m,\u001b[0m \u001b[0;34m[\u001b[0m\u001b[0;34m]\u001b[0m\u001b[0;34m\u001b[0m\u001b[0;34m\u001b[0m\u001b[0m\n",
            "\u001b[0;31mTypeError\u001b[0m: Transformer.forward() missing 1 required positional argument: 'tgt'"
          ]
        }
      ]
    },
    {
      "cell_type": "code",
      "source": [],
      "metadata": {
        "id": "FQOOczX6mglU"
      },
      "id": "FQOOczX6mglU",
      "execution_count": null,
      "outputs": []
    },
    {
      "cell_type": "code",
      "source": [],
      "metadata": {
        "id": "BO0FFWz2mgp1"
      },
      "id": "BO0FFWz2mgp1",
      "execution_count": null,
      "outputs": []
    },
    {
      "cell_type": "markdown",
      "id": "11d788b0",
      "metadata": {
        "id": "11d788b0"
      },
      "source": [
        "*This cookbook is based off the [LangChain Conceptual Documentation](https://docs.langchain.com/docs/)*\n",
        "\n",
        "**Goal:** Provide an introductory understanding of the components and use cases of LangChain via [ELI5](https://www.dictionary.com/e/slang/eli5/#:~:text=ELI5%20is%20short%20for%20%E2%80%9CExplain,a%20complicated%20question%20or%20problem.) examples and code snippets. For use cases check out part 2 (coming soon).\n",
        "\n",
        "\n",
        "**Links:**\n",
        "* [LC Conceptual Documentation](https://docs.langchain.com/docs/)\n",
        "* [LC Python Documentation](https://python.langchain.com/en/latest/)\n",
        "* [LC Javascript/Typescript Documentation](https://js.langchain.com/docs/)\n",
        "* [LC Discord](https://discord.gg/6adMQxSpJS)\n",
        "* [www.langchain.com](https://langchain.com/)\n",
        "* [LC Twitter](https://twitter.com/LangChainAI)\n",
        "\n",
        "\n",
        "### **What is LangChain?**\n",
        "> LangChain is a framework for developing applications powered by language models.\n",
        "\n",
        "**~~TL~~DR**: LangChain makes the complicated parts of working & building with AI models easier. It helps do this in two ways:\n",
        "\n",
        "1. **Integration** - Bring external data, such as your files, other applications, and api data, to your LLMs\n",
        "2. **Agency** - Allow your LLMs to interact with it's environment via decision making. Use LLMs to help decide which action to take next\n",
        "\n",
        "### **Why LangChain?**\n",
        "1. **Components** - LangChain makes it easy to swap out abstractions and components necessary to work with language models.\n",
        "\n",
        "2. **Customized Chains** - LangChain provides out of the box support for using and customizing 'chains' - a series of actions strung together.\n",
        "\n",
        "3. **Speed 🚢** - This team ships insanely fast. You'll be up to date with the latest LLM features.\n",
        "\n",
        "4. **Community 👥** - Wonderful discord and community support, meet ups, hackathons, etc.\n",
        "\n",
        "Though LLMs can be straightforward (text-in, text-out) you'll quickly run into friction points that LangChain helps with once you develop more complicated applications.\n",
        "\n",
        "*Note: This cookbook will not cover all aspects of LangChain. It's contents have been curated to get you to building & impact as quick as possible. For more, please check out [LangChain Conceptual Documentation](https://docs.langchain.com/docs/)*"
      ]
    },
    {
      "cell_type": "code",
      "source": [],
      "metadata": {
        "id": "d-4JQtSkfSIQ"
      },
      "id": "d-4JQtSkfSIQ",
      "execution_count": null,
      "outputs": []
    },
    {
      "cell_type": "code",
      "source": [],
      "metadata": {
        "id": "eX68uRyLfSMO"
      },
      "id": "eX68uRyLfSMO",
      "execution_count": null,
      "outputs": []
    },
    {
      "cell_type": "code",
      "source": [],
      "metadata": {
        "id": "JekIb71mfSQC"
      },
      "id": "JekIb71mfSQC",
      "execution_count": null,
      "outputs": []
    },
    {
      "cell_type": "code",
      "source": [],
      "metadata": {
        "id": "Zgp4kwVcfSS5"
      },
      "id": "Zgp4kwVcfSS5",
      "execution_count": null,
      "outputs": []
    },
    {
      "cell_type": "code",
      "execution_count": null,
      "id": "e9815081",
      "metadata": {
        "hide_input": false,
        "id": "e9815081"
      },
      "outputs": [],
      "source": [
        "openai_api_key='YourAPIKey'"
      ]
    },
    {
      "cell_type": "markdown",
      "id": "05bb564d",
      "metadata": {
        "id": "05bb564d"
      },
      "source": [
        "# LangChain Components\n",
        "\n",
        "## Schema - Nuts and Bolts of working with LLMs\n",
        "\n",
        "### **Text**\n",
        "The natural language way to interact with LLMs"
      ]
    },
    {
      "cell_type": "code",
      "execution_count": null,
      "id": "8e0dc06c",
      "metadata": {
        "hide_input": false,
        "id": "8e0dc06c"
      },
      "outputs": [],
      "source": [
        "# You'll be working with simple strings (that'll soon grow in complexity!)\n",
        "my_text = \"What day comes after Friday?\""
      ]
    },
    {
      "cell_type": "markdown",
      "id": "2f39eb39",
      "metadata": {
        "id": "2f39eb39"
      },
      "source": [
        "### **Chat Messages**\n",
        "Like text, but specified with a message type (System, Human, AI)\n",
        "\n",
        "* **System** - Helpful background context that tell the AI what to do\n",
        "* **Human** - Messages that are intented to represent the user\n",
        "* **AI** - Messages that show what the AI responded with\n",
        "\n",
        "For more, see OpenAI's [documentation](https://platform.openai.com/docs/guides/chat/introduction)"
      ]
    },
    {
      "cell_type": "code",
      "execution_count": null,
      "id": "99b0935b",
      "metadata": {
        "id": "99b0935b"
      },
      "outputs": [],
      "source": [
        "from langchain.chat_models import ChatOpenAI\n",
        "from langchain.schema import HumanMessage, SystemMessage, AIMessage\n",
        "\n",
        "chat = ChatOpenAI(temperature=.7, openai_api_key=openai_api_key)"
      ]
    },
    {
      "cell_type": "code",
      "execution_count": null,
      "id": "878d6a36",
      "metadata": {
        "id": "878d6a36",
        "outputId": "6a398150-df41-40dc-c167-4fc41d89a799"
      },
      "outputs": [
        {
          "data": {
            "text/plain": [
              "AIMessage(content='You could eat a caprese salad with fresh mozzarella and basil.', additional_kwargs={}, example=False)"
            ]
          },
          "execution_count": 4,
          "metadata": {},
          "output_type": "execute_result"
        }
      ],
      "source": [
        "chat(\n",
        "    [\n",
        "        SystemMessage(content=\"You are a nice AI bot that helps a user figure out what to eat in one short sentence\"),\n",
        "        HumanMessage(content=\"I like tomatoes, what should I eat?\")\n",
        "    ]\n",
        ")"
      ]
    },
    {
      "cell_type": "markdown",
      "id": "0a425aaa",
      "metadata": {
        "id": "0a425aaa"
      },
      "source": [
        "You can also pass more chat history w/ responses from the AI"
      ]
    },
    {
      "cell_type": "code",
      "execution_count": null,
      "id": "8fd3fe88",
      "metadata": {
        "id": "8fd3fe88",
        "outputId": "f69d2a17-fdec-48ed-8e29-38667deff3fa"
      },
      "outputs": [
        {
          "data": {
            "text/plain": [
              "AIMessage(content='While in Nice, you can also explore the charming Old Town and enjoy some delicious Mediterranean cuisine.', additional_kwargs={}, example=False)"
            ]
          },
          "execution_count": 5,
          "metadata": {},
          "output_type": "execute_result"
        }
      ],
      "source": [
        "chat(\n",
        "    [\n",
        "        SystemMessage(content=\"You are a nice AI bot that helps a user figure out where to travel in one short sentence\"),\n",
        "        HumanMessage(content=\"I like the beaches where should I go?\"),\n",
        "        AIMessage(content=\"You should go to Nice, France\"),\n",
        "        HumanMessage(content=\"What else should I do when I'm there?\")\n",
        "    ]\n",
        ")"
      ]
    },
    {
      "cell_type": "markdown",
      "id": "66bf9634",
      "metadata": {
        "id": "66bf9634"
      },
      "source": [
        "### **Documents**\n",
        "An object that holds a piece of text and metadata (more information about that text)"
      ]
    },
    {
      "cell_type": "code",
      "execution_count": null,
      "id": "3bbf58b2",
      "metadata": {
        "id": "3bbf58b2"
      },
      "outputs": [],
      "source": [
        "from langchain.schema import Document"
      ]
    },
    {
      "cell_type": "code",
      "execution_count": null,
      "id": "150e8759",
      "metadata": {
        "scrolled": true,
        "id": "150e8759",
        "outputId": "93644dc4-3f05-4781-9180-db68e3f50560"
      },
      "outputs": [
        {
          "data": {
            "text/plain": [
              "Document(page_content=\"This is my document. It is full of text that I've gathered from other places\", metadata={'my_document_id': 234234, 'my_document_source': 'The LangChain Papers', 'my_document_create_time': 1680013019})"
            ]
          },
          "execution_count": 7,
          "metadata": {},
          "output_type": "execute_result"
        }
      ],
      "source": [
        "Document(page_content=\"This is my document. It is full of text that I've gathered from other places\",\n",
        "         metadata={\n",
        "             'my_document_id' : 234234,\n",
        "             'my_document_source' : \"The LangChain Papers\",\n",
        "             'my_document_create_time' : 1680013019\n",
        "         })"
      ]
    },
    {
      "cell_type": "markdown",
      "id": "2e462b5d",
      "metadata": {
        "id": "2e462b5d"
      },
      "source": [
        "## Models - The interface to the AI brains"
      ]
    },
    {
      "cell_type": "markdown",
      "id": "b27fe982",
      "metadata": {
        "id": "b27fe982"
      },
      "source": [
        "###  **Language Model**\n",
        "A model that does text in ➡️ text out!\n",
        "\n",
        "*Check out how I changed the model I was using from the default one to ada-001. See more models [here](https://platform.openai.com/docs/models)*"
      ]
    },
    {
      "cell_type": "code",
      "execution_count": null,
      "id": "74b1a72a",
      "metadata": {
        "id": "74b1a72a"
      },
      "outputs": [],
      "source": [
        "from langchain.llms import OpenAI\n",
        "\n",
        "llm = OpenAI(model_name=\"text-ada-001\", openai_api_key=openai_api_key)"
      ]
    },
    {
      "cell_type": "code",
      "execution_count": null,
      "id": "6399c295",
      "metadata": {
        "id": "6399c295",
        "outputId": "7f950df3-54a0-4f66-aeca-a8f70e96ba42"
      },
      "outputs": [
        {
          "data": {
            "text/plain": [
              "'\\n\\nSaturday'"
            ]
          },
          "execution_count": 9,
          "metadata": {},
          "output_type": "execute_result"
        }
      ],
      "source": [
        "llm(\"What day comes after Friday?\")"
      ]
    },
    {
      "cell_type": "markdown",
      "id": "3ef89bfa",
      "metadata": {
        "id": "3ef89bfa"
      },
      "source": [
        "### **Chat Model**\n",
        "A model that takes a series of messages and returns a message output"
      ]
    },
    {
      "cell_type": "code",
      "execution_count": null,
      "id": "bf091777",
      "metadata": {
        "id": "bf091777"
      },
      "outputs": [],
      "source": [
        "from langchain.chat_models import ChatOpenAI\n",
        "from langchain.schema import HumanMessage, SystemMessage, AIMessage\n",
        "\n",
        "chat = ChatOpenAI(temperature=1, openai_api_key=openai_api_key)"
      ]
    },
    {
      "cell_type": "code",
      "execution_count": null,
      "id": "f4260711",
      "metadata": {
        "id": "f4260711",
        "outputId": "d6d56a78-083c-4816-daa4-dcec6eaeddd9"
      },
      "outputs": [
        {
          "data": {
            "text/plain": [
              "AIMessage(content=\"Well, have you considered using your teleportation powers? Oh, wait, you don't have any? I guess you'll have to settle for an airplane or a really fast pogo stick. Good luck with that!\", additional_kwargs={}, example=False)"
            ]
          },
          "execution_count": 11,
          "metadata": {},
          "output_type": "execute_result"
        }
      ],
      "source": [
        "chat(\n",
        "    [\n",
        "        SystemMessage(content=\"You are an unhelpful AI bot that makes a joke at whatever the user says\"),\n",
        "        HumanMessage(content=\"I would like to go to New York, how should I do this?\")\n",
        "    ]\n",
        ")"
      ]
    },
    {
      "cell_type": "markdown",
      "id": "c2b70f23",
      "metadata": {
        "id": "c2b70f23"
      },
      "source": [
        "### **Text Embedding Model**\n",
        "Change your text into a vector (a series of numbers that hold the semantic 'meaning' of your text). Mainly used when comparing two pieces of text together.\n",
        "\n",
        "*BTW: Semantic means 'relating to meaning in language or logic.'*"
      ]
    },
    {
      "cell_type": "code",
      "execution_count": null,
      "id": "1655de82",
      "metadata": {
        "id": "1655de82"
      },
      "outputs": [],
      "source": [
        "from langchain.embeddings import OpenAIEmbeddings\n",
        "\n",
        "embeddings = OpenAIEmbeddings(openai_api_key=openai_api_key)"
      ]
    },
    {
      "cell_type": "code",
      "execution_count": null,
      "id": "a2c85e7e",
      "metadata": {
        "id": "a2c85e7e"
      },
      "outputs": [],
      "source": [
        "text = \"Hi! It's time for the beach\""
      ]
    },
    {
      "cell_type": "code",
      "execution_count": null,
      "id": "ddc5a368",
      "metadata": {
        "id": "ddc5a368",
        "outputId": "00d11720-c97c-44a1-b7ea-ae829f21d62d"
      },
      "outputs": [
        {
          "name": "stdout",
          "output_type": "stream",
          "text": [
            "Your embedding is length 1536\n",
            "Here's a sample: [-0.00020583387231454253, -0.003205398330464959, -0.0008301587076857686, -0.01946892775595188, -0.015162716619670391]...\n"
          ]
        }
      ],
      "source": [
        "text_embedding = embeddings.embed_query(text)\n",
        "print (f\"Your embedding is length {len(text_embedding)}\")\n",
        "print (f\"Here's a sample: {text_embedding[:5]}...\")"
      ]
    },
    {
      "cell_type": "markdown",
      "id": "c38fe99f",
      "metadata": {
        "id": "c38fe99f"
      },
      "source": [
        "## Prompts - Text generally used as instructions to your model"
      ]
    },
    {
      "cell_type": "markdown",
      "id": "8b9318ed",
      "metadata": {
        "id": "8b9318ed"
      },
      "source": [
        "### **Prompt**\n",
        "What you'll pass to the underlying model"
      ]
    },
    {
      "cell_type": "code",
      "execution_count": null,
      "id": "2d270239",
      "metadata": {
        "id": "2d270239",
        "outputId": "d1110fdf-e01d-43cf-ec17-a79f924863ca"
      },
      "outputs": [
        {
          "data": {
            "text/plain": [
              "'\\nThe statement is incorrect because tomorrow is Tuesday, not Wednesday.'"
            ]
          },
          "execution_count": 15,
          "metadata": {},
          "output_type": "execute_result"
        }
      ],
      "source": [
        "from langchain.llms import OpenAI\n",
        "\n",
        "llm = OpenAI(model_name=\"text-davinci-003\", openai_api_key=openai_api_key)\n",
        "\n",
        "# I like to use three double quotation marks for my prompts because it's easier to read\n",
        "prompt = \"\"\"\n",
        "Today is Monday, tomorrow is Wednesday.\n",
        "\n",
        "What is wrong with that statement?\n",
        "\"\"\"\n",
        "\n",
        "llm(prompt)"
      ]
    },
    {
      "cell_type": "markdown",
      "id": "74988254",
      "metadata": {
        "id": "74988254"
      },
      "source": [
        "### **Prompt Template**\n",
        "An object that helps create prompts based on a combination of user input, other non-static information and a fixed template string.\n",
        "\n",
        "Think of it as an [f-string](https://realpython.com/python-f-strings/) in python but for prompts"
      ]
    },
    {
      "cell_type": "code",
      "execution_count": null,
      "id": "abcc212d",
      "metadata": {
        "id": "abcc212d",
        "outputId": "1f6d9eea-c89d-4ee7-e8ee-0c7cf70aaa27"
      },
      "outputs": [
        {
          "name": "stdout",
          "output_type": "stream",
          "text": [
            "Final Prompt: \n",
            "I really want to travel to Rome. What should I do there?\n",
            "\n",
            "Respond in one short sentence\n",
            "\n",
            "-----------\n",
            "LLM Output: \n",
            "Explore the Colosseum, the Roman Forum, the Pantheon, and the Trevi Fountain.\n"
          ]
        }
      ],
      "source": [
        "from langchain.llms import OpenAI\n",
        "from langchain import PromptTemplate\n",
        "\n",
        "llm = OpenAI(model_name=\"text-davinci-003\", openai_api_key=openai_api_key)\n",
        "\n",
        "# Notice \"location\" below, that is a placeholder for another value later\n",
        "template = \"\"\"\n",
        "I really want to travel to {location}. What should I do there?\n",
        "\n",
        "Respond in one short sentence\n",
        "\"\"\"\n",
        "\n",
        "prompt = PromptTemplate(\n",
        "    input_variables=[\"location\"],\n",
        "    template=template,\n",
        ")\n",
        "\n",
        "final_prompt = prompt.format(location='Rome')\n",
        "\n",
        "print (f\"Final Prompt: {final_prompt}\")\n",
        "print (\"-----------\")\n",
        "print (f\"LLM Output: {llm(final_prompt)}\")"
      ]
    },
    {
      "cell_type": "markdown",
      "id": "ed40bac2",
      "metadata": {
        "id": "ed40bac2"
      },
      "source": [
        "### **Example Selectors**\n",
        "An easy way to select from a series of examples that allow you to dynamic place in-context information into your prompt. Often used when your task is nuanced or you have a large list of examples.\n",
        "\n",
        "Check out different types of example selectors [here](https://python.langchain.com/docs/modules/model_io/prompts/example_selectors/)\n",
        "\n",
        "If you want an overview on why examples are important (prompt engineering), check out [this video](https://www.youtube.com/watch?v=dOxUroR57xs)"
      ]
    },
    {
      "cell_type": "code",
      "execution_count": null,
      "id": "aaf36cd9",
      "metadata": {
        "id": "aaf36cd9"
      },
      "outputs": [],
      "source": [
        "from langchain.prompts.example_selector import SemanticSimilarityExampleSelector\n",
        "from langchain.vectorstores import FAISS\n",
        "from langchain.embeddings import OpenAIEmbeddings\n",
        "from langchain.prompts import FewShotPromptTemplate, PromptTemplate\n",
        "from langchain.llms import OpenAI\n",
        "\n",
        "llm = OpenAI(model_name=\"text-davinci-003\", openai_api_key=openai_api_key)\n",
        "\n",
        "example_prompt = PromptTemplate(\n",
        "    input_variables=[\"input\", \"output\"],\n",
        "    template=\"Example Input: {input}\\nExample Output: {output}\",\n",
        ")\n",
        "\n",
        "# Examples of locations that nouns are found\n",
        "examples = [\n",
        "    {\"input\": \"pirate\", \"output\": \"ship\"},\n",
        "    {\"input\": \"pilot\", \"output\": \"plane\"},\n",
        "    {\"input\": \"driver\", \"output\": \"car\"},\n",
        "    {\"input\": \"tree\", \"output\": \"ground\"},\n",
        "    {\"input\": \"bird\", \"output\": \"nest\"},\n",
        "]"
      ]
    },
    {
      "cell_type": "code",
      "execution_count": null,
      "id": "12b4798b",
      "metadata": {
        "id": "12b4798b"
      },
      "outputs": [],
      "source": [
        "# SemanticSimilarityExampleSelector will select examples that are similar to your input by semantic meaning\n",
        "\n",
        "example_selector = SemanticSimilarityExampleSelector.from_examples(\n",
        "    # This is the list of examples available to select from.\n",
        "    examples,\n",
        "\n",
        "    # This is the embedding class used to produce embeddings which are used to measure semantic similarity.\n",
        "    OpenAIEmbeddings(openai_api_key=openai_api_key),\n",
        "\n",
        "    # This is the VectorStore class that is used to store the embeddings and do a similarity search over.\n",
        "    FAISS,\n",
        "\n",
        "    # This is the number of examples to produce.\n",
        "    k=2\n",
        ")"
      ]
    },
    {
      "cell_type": "code",
      "execution_count": null,
      "id": "2cf30107",
      "metadata": {
        "id": "2cf30107"
      },
      "outputs": [],
      "source": [
        "similar_prompt = FewShotPromptTemplate(\n",
        "    # The object that will help select examples\n",
        "    example_selector=example_selector,\n",
        "\n",
        "    # Your prompt\n",
        "    example_prompt=example_prompt,\n",
        "\n",
        "    # Customizations that will be added to the top and bottom of your prompt\n",
        "    prefix=\"Give the location an item is usually found in\",\n",
        "    suffix=\"Input: {noun}\\nOutput:\",\n",
        "\n",
        "    # What inputs your prompt will receive\n",
        "    input_variables=[\"noun\"],\n",
        ")"
      ]
    },
    {
      "cell_type": "code",
      "execution_count": null,
      "id": "369442bb",
      "metadata": {
        "id": "369442bb",
        "outputId": "801bbdd1-4bd6-4aec-deea-6909032570fb"
      },
      "outputs": [
        {
          "name": "stdout",
          "output_type": "stream",
          "text": [
            "Give the location an item is usually found in\n",
            "\n",
            "Example Input: driver\n",
            "Example Output: car\n",
            "\n",
            "Example Input: pilot\n",
            "Example Output: plane\n",
            "\n",
            "Input: student\n",
            "Output:\n"
          ]
        }
      ],
      "source": [
        "# Select a noun!\n",
        "my_noun = \"student\"\n",
        "\n",
        "print(similar_prompt.format(noun=my_noun))"
      ]
    },
    {
      "cell_type": "code",
      "execution_count": null,
      "id": "9bb910f2",
      "metadata": {
        "id": "9bb910f2",
        "outputId": "d2a9e89d-9c76-4c4f-fb53-3bc2bab93693"
      },
      "outputs": [
        {
          "data": {
            "text/plain": [
              "' classroom'"
            ]
          },
          "execution_count": 21,
          "metadata": {},
          "output_type": "execute_result"
        }
      ],
      "source": [
        "llm(similar_prompt.format(noun=my_noun))"
      ]
    },
    {
      "cell_type": "markdown",
      "id": "8474c91d",
      "metadata": {
        "id": "8474c91d"
      },
      "source": [
        "### **Output Parsers**\n",
        "A helpful way to format the output of a model. Usually used for structured output.\n",
        "\n",
        "Two big concepts:\n",
        "\n",
        "**1. Format Instructions** - A autogenerated prompt that tells the LLM how to format it's response based off your desired result\n",
        "\n",
        "**2. Parser** - A method which will extract your model's text output into a desired structure (usually json)"
      ]
    },
    {
      "cell_type": "code",
      "execution_count": null,
      "id": "58353756",
      "metadata": {
        "id": "58353756"
      },
      "outputs": [],
      "source": [
        "from langchain.output_parsers import StructuredOutputParser, ResponseSchema\n",
        "from langchain.prompts import ChatPromptTemplate, HumanMessagePromptTemplate\n",
        "from langchain.llms import OpenAI"
      ]
    },
    {
      "cell_type": "code",
      "execution_count": null,
      "id": "ee36f881",
      "metadata": {
        "id": "ee36f881"
      },
      "outputs": [],
      "source": [
        "llm = OpenAI(model_name=\"text-davinci-003\", openai_api_key=openai_api_key)"
      ]
    },
    {
      "cell_type": "code",
      "execution_count": null,
      "id": "fa59be3f",
      "metadata": {
        "id": "fa59be3f"
      },
      "outputs": [],
      "source": [
        "# How you would like your response structured. This is basically a fancy prompt template\n",
        "response_schemas = [\n",
        "    ResponseSchema(name=\"bad_string\", description=\"This a poorly formatted user input string\"),\n",
        "    ResponseSchema(name=\"good_string\", description=\"This is your response, a reformatted response\")\n",
        "]\n",
        "\n",
        "# How you would like to parse your output\n",
        "output_parser = StructuredOutputParser.from_response_schemas(response_schemas)"
      ]
    },
    {
      "cell_type": "code",
      "execution_count": null,
      "id": "d1079f0a",
      "metadata": {
        "id": "d1079f0a",
        "outputId": "b31107d2-2fbb-462c-a68a-4d0e001424e3"
      },
      "outputs": [
        {
          "name": "stdout",
          "output_type": "stream",
          "text": [
            "The output should be a markdown code snippet formatted in the following schema, including the leading and trailing \"\\`\\`\\`json\" and \"\\`\\`\\`\":\n",
            "\n",
            "```json\n",
            "{\n",
            "\t\"bad_string\": string  // This a poorly formatted user input string\n",
            "\t\"good_string\": string  // This is your response, a reformatted response\n",
            "}\n",
            "```\n"
          ]
        }
      ],
      "source": [
        "# See the prompt template you created for formatting\n",
        "format_instructions = output_parser.get_format_instructions()\n",
        "print (format_instructions)"
      ]
    },
    {
      "cell_type": "code",
      "execution_count": null,
      "id": "9aaae5be",
      "metadata": {
        "id": "9aaae5be",
        "outputId": "593570ae-6413-4930-fa65-fc2466968e36"
      },
      "outputs": [
        {
          "name": "stdout",
          "output_type": "stream",
          "text": [
            "\n",
            "You will be given a poorly formatted string from a user.\n",
            "Reformat it and make sure all the words are spelled correctly\n",
            "\n",
            "The output should be a markdown code snippet formatted in the following schema, including the leading and trailing \"\\`\\`\\`json\" and \"\\`\\`\\`\":\n",
            "\n",
            "```json\n",
            "{\n",
            "\t\"bad_string\": string  // This a poorly formatted user input string\n",
            "\t\"good_string\": string  // This is your response, a reformatted response\n",
            "}\n",
            "```\n",
            "\n",
            "% USER INPUT:\n",
            "welcom to califonya!\n",
            "\n",
            "YOUR RESPONSE:\n",
            "\n"
          ]
        }
      ],
      "source": [
        "template = \"\"\"\n",
        "You will be given a poorly formatted string from a user.\n",
        "Reformat it and make sure all the words are spelled correctly\n",
        "\n",
        "{format_instructions}\n",
        "\n",
        "% USER INPUT:\n",
        "{user_input}\n",
        "\n",
        "YOUR RESPONSE:\n",
        "\"\"\"\n",
        "\n",
        "prompt = PromptTemplate(\n",
        "    input_variables=[\"user_input\"],\n",
        "    partial_variables={\"format_instructions\": format_instructions},\n",
        "    template=template\n",
        ")\n",
        "\n",
        "promptValue = prompt.format(user_input=\"welcom to califonya!\")\n",
        "\n",
        "print(promptValue)"
      ]
    },
    {
      "cell_type": "code",
      "execution_count": null,
      "id": "b116bb23",
      "metadata": {
        "id": "b116bb23",
        "outputId": "1b5bf99d-ee63-4f11-8992-bf4202b633dd"
      },
      "outputs": [
        {
          "data": {
            "text/plain": [
              "'```json\\n{\\n\\t\"bad_string\": \"welcom to califonya!\",\\n\\t\"good_string\": \"Welcome to California!\"\\n}\\n```'"
            ]
          },
          "execution_count": 27,
          "metadata": {},
          "output_type": "execute_result"
        }
      ],
      "source": [
        "llm_output = llm(promptValue)\n",
        "llm_output"
      ]
    },
    {
      "cell_type": "code",
      "execution_count": null,
      "id": "985aa814",
      "metadata": {
        "id": "985aa814",
        "outputId": "40a6a185-1d7a-4fe5-d3ea-b22c2f734345"
      },
      "outputs": [
        {
          "data": {
            "text/plain": [
              "{'bad_string': 'welcom to califonya!', 'good_string': 'Welcome to California!'}"
            ]
          },
          "execution_count": 28,
          "metadata": {},
          "output_type": "execute_result"
        }
      ],
      "source": [
        "output_parser.parse(llm_output)"
      ]
    },
    {
      "cell_type": "markdown",
      "id": "7b43cec2",
      "metadata": {
        "id": "7b43cec2"
      },
      "source": [
        "## Indexes - Structuring documents to LLMs can work with them"
      ]
    },
    {
      "cell_type": "markdown",
      "id": "d3f904e9",
      "metadata": {
        "id": "d3f904e9"
      },
      "source": [
        "### **Document Loaders**\n",
        "Easy ways to import data from other sources. Shared functionality with [OpenAI Plugins](https://openai.com/blog/chatgpt-plugins) [specifically retrieval plugins](https://github.com/openai/chatgpt-retrieval-plugin)\n",
        "\n",
        "See a [big list](https://python.langchain.com/en/latest/modules/indexes/document_loaders.html) of document loaders here. A bunch more on [Llama Index](https://llamahub.ai/) as well."
      ]
    },
    {
      "cell_type": "code",
      "execution_count": null,
      "id": "ba88e05b",
      "metadata": {
        "id": "ba88e05b"
      },
      "outputs": [],
      "source": [
        "from langchain.document_loaders import HNLoader"
      ]
    },
    {
      "cell_type": "code",
      "execution_count": null,
      "id": "ee693520",
      "metadata": {
        "id": "ee693520"
      },
      "outputs": [],
      "source": [
        "loader = HNLoader(\"https://news.ycombinator.com/item?id=34422627\")"
      ]
    },
    {
      "cell_type": "code",
      "execution_count": null,
      "id": "88d89ad7",
      "metadata": {
        "id": "88d89ad7"
      },
      "outputs": [],
      "source": [
        "data = loader.load()"
      ]
    },
    {
      "cell_type": "code",
      "execution_count": null,
      "id": "e814f930",
      "metadata": {
        "id": "e814f930",
        "outputId": "ae1758f3-9dfe-491c-cd57-7dcaa7589c48"
      },
      "outputs": [
        {
          "name": "stdout",
          "output_type": "stream",
          "text": [
            "Found 76 comments\n",
            "Here's a sample:\n",
            "\n",
            "Ozzie_osman 3 months ago  \n",
            "             | next [–] \n",
            "\n",
            "LangChain is awesome. For people not sure what it's doing, large language models (LLMs) are very Ozzie_osman 3 months ago  \n",
            "             | parent | next [–] \n",
            "\n",
            "Also, another library to check out is GPT Index (https://github.com/jerryjliu/gpt_index)\n"
          ]
        }
      ],
      "source": [
        "print (f\"Found {len(data)} comments\")\n",
        "print (f\"Here's a sample:\\n\\n{''.join([x.page_content[:150] for x in data[:2]])}\")"
      ]
    },
    {
      "cell_type": "markdown",
      "id": "0e9601db",
      "metadata": {
        "id": "0e9601db"
      },
      "source": [
        "### **Text Splitters**\n",
        "Often times your document is too long (like a book) for your LLM. You need to split it up into chunks. Text splitters help with this.\n",
        "\n",
        "There are many ways you could split your text into chunks, experiment with [different ones](https://python.langchain.com/en/latest/modules/indexes/text_splitters.html) to see which is best for you."
      ]
    },
    {
      "cell_type": "code",
      "execution_count": null,
      "id": "95713e57",
      "metadata": {
        "id": "95713e57"
      },
      "outputs": [],
      "source": [
        "from langchain.text_splitter import RecursiveCharacterTextSplitter"
      ]
    },
    {
      "cell_type": "code",
      "execution_count": null,
      "id": "a54455f5",
      "metadata": {
        "id": "a54455f5",
        "outputId": "8082c4c3-4ceb-4505-b3f7-2124e35a2dd9"
      },
      "outputs": [
        {
          "name": "stdout",
          "output_type": "stream",
          "text": [
            "You have 1 document\n"
          ]
        }
      ],
      "source": [
        "# This is a long document we can split up.\n",
        "with open('data/PaulGrahamEssays/worked.txt') as f:\n",
        "    pg_work = f.read()\n",
        "\n",
        "print (f\"You have {len([pg_work])} document\")"
      ]
    },
    {
      "cell_type": "code",
      "execution_count": null,
      "id": "d19acb18",
      "metadata": {
        "id": "d19acb18"
      },
      "outputs": [],
      "source": [
        "text_splitter = RecursiveCharacterTextSplitter(\n",
        "    # Set a really small chunk size, just to show.\n",
        "    chunk_size = 150,\n",
        "    chunk_overlap  = 20,\n",
        ")\n",
        "\n",
        "texts = text_splitter.create_documents([pg_work])"
      ]
    },
    {
      "cell_type": "code",
      "execution_count": null,
      "id": "e3090f05",
      "metadata": {
        "id": "e3090f05",
        "outputId": "2a8d2bf1-1321-4d60-e629-c3d94fb32d92"
      },
      "outputs": [
        {
          "name": "stdout",
          "output_type": "stream",
          "text": [
            "You have 606 documents\n"
          ]
        }
      ],
      "source": [
        "print (f\"You have {len(texts)} documents\")"
      ]
    },
    {
      "cell_type": "code",
      "execution_count": null,
      "id": "87a0f45a",
      "metadata": {
        "id": "87a0f45a",
        "outputId": "31927ead-7176-46cf-dc39-b341ada716a2"
      },
      "outputs": [
        {
          "name": "stdout",
          "output_type": "stream",
          "text": [
            "Preview:\n",
            "February 2021Before college the two main things I worked on, outside of school,\n",
            "were writing and programming. I didn't write essays. I wrote what \n",
            "\n",
            "beginning writers were supposed to write then, and probably still\n",
            "are: short stories. My stories were awful. They had hardly any plot,\n"
          ]
        }
      ],
      "source": [
        "print (\"Preview:\")\n",
        "print (texts[0].page_content, \"\\n\")\n",
        "print (texts[1].page_content)"
      ]
    },
    {
      "cell_type": "markdown",
      "id": "1f85defb",
      "metadata": {
        "id": "1f85defb"
      },
      "source": [
        "### **Retrievers**\n",
        "Easy way to combine documents with language models.\n",
        "\n",
        "There are many different types of retrievers, the most widely supported is the VectoreStoreRetriever"
      ]
    },
    {
      "cell_type": "code",
      "execution_count": null,
      "id": "8cccbd82",
      "metadata": {
        "id": "8cccbd82"
      },
      "outputs": [],
      "source": [
        "from langchain.document_loaders import TextLoader\n",
        "from langchain.text_splitter import RecursiveCharacterTextSplitter\n",
        "from langchain.vectorstores import FAISS\n",
        "from langchain.embeddings import OpenAIEmbeddings\n",
        "\n",
        "loader = TextLoader('data/PaulGrahamEssays/worked.txt')\n",
        "documents = loader.load()"
      ]
    },
    {
      "cell_type": "code",
      "execution_count": null,
      "id": "1dab1c20",
      "metadata": {
        "id": "1dab1c20"
      },
      "outputs": [],
      "source": [
        "# Get your splitter ready\n",
        "text_splitter = RecursiveCharacterTextSplitter(chunk_size=1000, chunk_overlap=50)\n",
        "\n",
        "# Split your docs into texts\n",
        "texts = text_splitter.split_documents(documents)\n",
        "\n",
        "# Get embedding engine ready\n",
        "embeddings = OpenAIEmbeddings(openai_api_key=openai_api_key)\n",
        "\n",
        "# Embedd your texts\n",
        "db = FAISS.from_documents(texts, embeddings)"
      ]
    },
    {
      "cell_type": "code",
      "execution_count": null,
      "id": "e62372be",
      "metadata": {
        "id": "e62372be"
      },
      "outputs": [],
      "source": [
        "# Init your retriever. Asking for just 1 document back\n",
        "retriever = db.as_retriever()"
      ]
    },
    {
      "cell_type": "code",
      "execution_count": null,
      "id": "e0534bbd",
      "metadata": {
        "id": "e0534bbd",
        "outputId": "e1ed966e-ad4e-4325-98c3-27faf68d3277"
      },
      "outputs": [
        {
          "data": {
            "text/plain": [
              "VectorStoreRetriever(vectorstore=<langchain.vectorstores.faiss.FAISS object at 0x7f8a68be6820>, search_type='similarity', search_kwargs={})"
            ]
          },
          "execution_count": 41,
          "metadata": {},
          "output_type": "execute_result"
        }
      ],
      "source": [
        "retriever"
      ]
    },
    {
      "cell_type": "code",
      "execution_count": null,
      "id": "3846a3b5",
      "metadata": {
        "id": "3846a3b5"
      },
      "outputs": [],
      "source": [
        "docs = retriever.get_relevant_documents(\"what types of things did the author want to build?\")"
      ]
    },
    {
      "cell_type": "code",
      "execution_count": null,
      "id": "db383cc8",
      "metadata": {
        "id": "db383cc8",
        "outputId": "06e97e16-713f-4ca8-db6e-f705087f263c"
      },
      "outputs": [
        {
          "name": "stdout",
          "output_type": "stream",
          "text": [
            "standards; what was the point? No one else wanted one either, so\n",
            "off they went. That was what happened to systems work.I wanted not just to build things, but to build things that would\n",
            "last.In this di\n",
            "\n",
            "much of it in grad school.Computer Science is an uneasy alliance between two halves, theory\n",
            "and systems. The theory people prove things, and the systems people\n",
            "build things. I wanted to build things. \n"
          ]
        }
      ],
      "source": [
        "print(\"\\n\\n\".join([x.page_content[:200] for x in docs[:2]]))"
      ]
    },
    {
      "cell_type": "markdown",
      "id": "24193139",
      "metadata": {
        "id": "24193139"
      },
      "source": [
        "### **VectorStores**\n",
        "Databases to store vectors. Most popular ones are [Pinecone](https://www.pinecone.io/) & [Weaviate](https://weaviate.io/). More examples on OpenAIs [retriever documentation](https://github.com/openai/chatgpt-retrieval-plugin#choosing-a-vector-database). [Chroma](https://www.trychroma.com/) & [FAISS](https://engineering.fb.com/2017/03/29/data-infrastructure/faiss-a-library-for-efficient-similarity-search/) are easy to work with locally.\n",
        "\n",
        "Conceptually, think of them as tables w/ a column for embeddings (vectors) and a column for metadata.\n",
        "\n",
        "Example\n",
        "\n",
        "| Embedding      | Metadata |\n",
        "| ----------- | ----------- |\n",
        "| [-0.00015641732898075134, -0.003165106289088726, ...]      | {'date' : '1/2/23}       |\n",
        "| [-0.00035465431654651654, 1.4654131651654516546, ...]   | {'date' : '1/3/23}        |"
      ]
    },
    {
      "cell_type": "code",
      "execution_count": null,
      "id": "3c5533ad",
      "metadata": {
        "id": "3c5533ad"
      },
      "outputs": [],
      "source": [
        "from langchain.document_loaders import TextLoader\n",
        "from langchain.text_splitter import RecursiveCharacterTextSplitter\n",
        "from langchain.vectorstores import FAISS\n",
        "from langchain.embeddings import OpenAIEmbeddings\n",
        "\n",
        "loader = TextLoader('data/PaulGrahamEssays/worked.txt')\n",
        "documents = loader.load()\n",
        "\n",
        "# Get your splitter ready\n",
        "text_splitter = RecursiveCharacterTextSplitter(chunk_size=1000, chunk_overlap=50)\n",
        "\n",
        "# Split your docs into texts\n",
        "texts = text_splitter.split_documents(documents)\n",
        "\n",
        "# Get embedding engine ready\n",
        "embeddings = OpenAIEmbeddings(openai_api_key=openai_api_key)"
      ]
    },
    {
      "cell_type": "code",
      "execution_count": null,
      "id": "661fdf19",
      "metadata": {
        "id": "661fdf19",
        "outputId": "ec848473-3f54-452e-ee6d-48389cd0cbd5"
      },
      "outputs": [
        {
          "name": "stdout",
          "output_type": "stream",
          "text": [
            "You have 78 documents\n"
          ]
        }
      ],
      "source": [
        "print (f\"You have {len(texts)} documents\")"
      ]
    },
    {
      "cell_type": "code",
      "execution_count": null,
      "id": "e99ac0ea",
      "metadata": {
        "id": "e99ac0ea"
      },
      "outputs": [],
      "source": [
        "embedding_list = embeddings.embed_documents([text.page_content for text in texts])"
      ]
    },
    {
      "cell_type": "code",
      "execution_count": null,
      "id": "89e7758c",
      "metadata": {
        "id": "89e7758c",
        "outputId": "a2a2498d-d476-403c-a631-5fcc009e58ae"
      },
      "outputs": [
        {
          "name": "stdout",
          "output_type": "stream",
          "text": [
            "You have 78 embeddings\n",
            "Here's a sample of one: [-0.0011257503838977907, -0.011114791224843646, -0.012860921430454107]...\n"
          ]
        }
      ],
      "source": [
        "print (f\"You have {len(embedding_list)} embeddings\")\n",
        "print (f\"Here's a sample of one: {embedding_list[0][:3]}...\")"
      ]
    },
    {
      "cell_type": "markdown",
      "id": "8ac358c5",
      "metadata": {
        "id": "8ac358c5"
      },
      "source": [
        "Your vectorstore store your embeddings (☝️) and make them easily searchable"
      ]
    },
    {
      "cell_type": "markdown",
      "id": "f9b9b79b",
      "metadata": {
        "id": "f9b9b79b"
      },
      "source": [
        "## Memory\n",
        "Helping LLMs remember information.\n",
        "\n",
        "Memory is a bit of a loose term. It could be as simple as remembering information you've chatted about in the past or more complicated information retrieval.\n",
        "\n",
        "We'll keep it towards the Chat Message use case. This would be used for chat bots.\n",
        "\n",
        "There are many types of memory, explore [the documentation](https://python.langchain.com/en/latest/modules/memory/how_to_guides.html) to see which one fits your use case."
      ]
    },
    {
      "cell_type": "markdown",
      "id": "f43b49da",
      "metadata": {
        "id": "f43b49da"
      },
      "source": [
        "### Chat Message History"
      ]
    },
    {
      "cell_type": "code",
      "execution_count": null,
      "id": "893a18c1",
      "metadata": {
        "id": "893a18c1"
      },
      "outputs": [],
      "source": [
        "from langchain.memory import ChatMessageHistory\n",
        "from langchain.chat_models import ChatOpenAI\n",
        "\n",
        "chat = ChatOpenAI(temperature=0, openai_api_key=openai_api_key)\n",
        "\n",
        "history = ChatMessageHistory()\n",
        "\n",
        "history.add_ai_message(\"hi!\")\n",
        "\n",
        "history.add_user_message(\"what is the capital of france?\")"
      ]
    },
    {
      "cell_type": "code",
      "execution_count": null,
      "id": "a2949fda",
      "metadata": {
        "id": "a2949fda",
        "outputId": "c47d943d-a8f6-443f-b626-38f8c74e42bd"
      },
      "outputs": [
        {
          "data": {
            "text/plain": [
              "[AIMessage(content='hi!', additional_kwargs={}, example=False),\n",
              " HumanMessage(content='what is the capital of france?', additional_kwargs={}, example=False)]"
            ]
          },
          "execution_count": 49,
          "metadata": {},
          "output_type": "execute_result"
        }
      ],
      "source": [
        "history.messages"
      ]
    },
    {
      "cell_type": "code",
      "execution_count": null,
      "id": "9b74d5cf",
      "metadata": {
        "id": "9b74d5cf",
        "outputId": "a09b11bd-97d7-4277-aadf-ebb660174de7"
      },
      "outputs": [
        {
          "data": {
            "text/plain": [
              "AIMessage(content='The capital of France is Paris.', additional_kwargs={}, example=False)"
            ]
          },
          "execution_count": 50,
          "metadata": {},
          "output_type": "execute_result"
        }
      ],
      "source": [
        "ai_response = chat(history.messages)\n",
        "ai_response"
      ]
    },
    {
      "cell_type": "code",
      "execution_count": null,
      "id": "529e168f",
      "metadata": {
        "id": "529e168f",
        "outputId": "a32c3310-5d85-42b9-9a0e-703ef74adf56"
      },
      "outputs": [
        {
          "data": {
            "text/plain": [
              "[AIMessage(content='hi!', additional_kwargs={}, example=False),\n",
              " HumanMessage(content='what is the capital of france?', additional_kwargs={}, example=False),\n",
              " AIMessage(content='The capital of France is Paris.', additional_kwargs={}, example=False)]"
            ]
          },
          "execution_count": 51,
          "metadata": {},
          "output_type": "execute_result"
        }
      ],
      "source": [
        "history.add_ai_message(ai_response.content)\n",
        "history.messages"
      ]
    },
    {
      "cell_type": "markdown",
      "id": "f29fc79c",
      "metadata": {
        "id": "f29fc79c"
      },
      "source": [
        "## Chains ⛓️⛓️⛓️\n",
        "Combining different LLM calls and action automatically\n",
        "\n",
        "Ex: Summary #1, Summary #2, Summary #3 > Final Summary\n",
        "\n",
        "Check out [this video](https://www.youtube.com/watch?v=f9_BWhCI4Zo&t=2s) explaining different summarization chain types\n",
        "\n",
        "There are [many applications of chains](https://python.langchain.com/en/latest/modules/chains/how_to_guides.html) search to see which are best for your use case.\n",
        "\n",
        "We'll cover two of them:"
      ]
    },
    {
      "cell_type": "markdown",
      "id": "c34ba415",
      "metadata": {
        "id": "c34ba415"
      },
      "source": [
        "### 1. Simple Sequential Chains\n",
        "\n",
        "Easy chains where you can use the output of an LLM as an input into another. Good for breaking up tasks (and keeping your LLM focused)"
      ]
    },
    {
      "cell_type": "code",
      "execution_count": null,
      "id": "79fc0950",
      "metadata": {
        "id": "79fc0950"
      },
      "outputs": [],
      "source": [
        "from langchain.llms import OpenAI\n",
        "from langchain.chains import LLMChain\n",
        "from langchain.prompts import PromptTemplate\n",
        "from langchain.chains import SimpleSequentialChain\n",
        "\n",
        "llm = OpenAI(temperature=1, openai_api_key=openai_api_key)"
      ]
    },
    {
      "cell_type": "code",
      "execution_count": null,
      "id": "43d4494a",
      "metadata": {
        "id": "43d4494a"
      },
      "outputs": [],
      "source": [
        "template = \"\"\"Your job is to come up with a classic dish from the area that the users suggests.\n",
        "% USER LOCATION\n",
        "{user_location}\n",
        "\n",
        "YOUR RESPONSE:\n",
        "\"\"\"\n",
        "prompt_template = PromptTemplate(input_variables=[\"user_location\"], template=template)\n",
        "\n",
        "# Holds my 'location' chain\n",
        "location_chain = LLMChain(llm=llm, prompt=prompt_template)"
      ]
    },
    {
      "cell_type": "code",
      "execution_count": null,
      "id": "b6c8e00f",
      "metadata": {
        "id": "b6c8e00f"
      },
      "outputs": [],
      "source": [
        "template = \"\"\"Given a meal, give a short and simple recipe on how to make that dish at home.\n",
        "% MEAL\n",
        "{user_meal}\n",
        "\n",
        "YOUR RESPONSE:\n",
        "\"\"\"\n",
        "prompt_template = PromptTemplate(input_variables=[\"user_meal\"], template=template)\n",
        "\n",
        "# Holds my 'meal' chain\n",
        "meal_chain = LLMChain(llm=llm, prompt=prompt_template)"
      ]
    },
    {
      "cell_type": "code",
      "execution_count": null,
      "id": "7e0b83f2",
      "metadata": {
        "id": "7e0b83f2"
      },
      "outputs": [],
      "source": [
        "overall_chain = SimpleSequentialChain(chains=[location_chain, meal_chain], verbose=True)"
      ]
    },
    {
      "cell_type": "code",
      "execution_count": null,
      "id": "7d19c64d",
      "metadata": {
        "id": "7d19c64d",
        "outputId": "47623094-fa71-4dd6-bae1-821d205da97f"
      },
      "outputs": [
        {
          "name": "stdout",
          "output_type": "stream",
          "text": [
            "\n",
            "\n",
            "\u001b[1m> Entering new SimpleSequentialChain chain...\u001b[0m\n",
            "\u001b[36;1m\u001b[1;3mA classic dish from Rome is Spaghetti alla Carbonara. This dish is a creamy pasta made with eggs, cured pork, Pecorino Romano cheese, black pepper, and Olive oil.\u001b[0m\n",
            "\u001b[33;1m\u001b[1;3m1. Bring a large pot of salted water to a boil.\n",
            "2. Add about a pound of spaghetti noodles and cook for 8-10 minutes, stirring occasionally.\n",
            "3. Drain noodles and set aside.\n",
            "4. In a separate bowl, whisk together 2 eggs and ½ cup of Pecorino Romano cheese.\n",
            "5. In a large skillet, heat 2 tablespoons of olive oil over medium heat.\n",
            "6. Add 4 ounces of cubed pancetta or guanciale and cook until lightly browned, stirring often.\n",
            "7. Reduce heat to low and add the spaghetti noodles.\n",
            "8. Pour the egg mixture over the noodles and vigorously stir together.\n",
            "9. Remove from heat, stir in a pinch of black pepper and serve.\u001b[0m\n",
            "\n",
            "\u001b[1m> Finished chain.\u001b[0m\n"
          ]
        }
      ],
      "source": [
        "review = overall_chain.run(\"Rome\")"
      ]
    },
    {
      "cell_type": "markdown",
      "id": "f6191bf5",
      "metadata": {
        "id": "f6191bf5"
      },
      "source": [
        "### 2. Summarization Chain\n",
        "\n",
        "Easily run through long numerous documents and get a summary. Check out [this video](https://www.youtube.com/watch?v=f9_BWhCI4Zo) for other chain types besides map-reduce"
      ]
    },
    {
      "cell_type": "code",
      "execution_count": null,
      "id": "6f218c3e",
      "metadata": {
        "id": "6f218c3e",
        "outputId": "83cff014-3a92-416a-f7b1-5df6d17b7007"
      },
      "outputs": [
        {
          "name": "stdout",
          "output_type": "stream",
          "text": [
            "\n",
            "\n",
            "\u001b[1m> Entering new MapReduceDocumentsChain chain...\u001b[0m\n",
            "\n",
            "\n",
            "\u001b[1m> Entering new LLMChain chain...\u001b[0m\n",
            "Prompt after formatting:\n",
            "\u001b[32;1m\u001b[1;3mWrite a concise summary of the following:\n",
            "\n",
            "\n",
            "\"January 2017Because biographies of famous scientists tend to \n",
            "edit out their mistakes, we underestimate the \n",
            "degree of risk they were willing to take.\n",
            "And because anything a famous scientist did that\n",
            "wasn't a mistake has probably now become the\n",
            "conventional wisdom, those choices don't\n",
            "seem risky either.Biographies of Newton, for example, understandably focus\n",
            "more on physics than alchemy or theology.\n",
            "The impression we get is that his unerring judgment\n",
            "led him straight to truths no one else had noticed.\n",
            "How to explain all the time he spent on alchemy\n",
            "and theology?  Well, smart people are often kind of\n",
            "crazy.But maybe there is a simpler explanation. Maybe\"\n",
            "\n",
            "\n",
            "CONCISE SUMMARY:\u001b[0m\n",
            "Prompt after formatting:\n",
            "\u001b[32;1m\u001b[1;3mWrite a concise summary of the following:\n",
            "\n",
            "\n",
            "\"the smartness and the craziness were not as separate\n",
            "as we think. Physics seems to us a promising thing\n",
            "to work on, and alchemy and theology obvious wastes\n",
            "of time. But that's because we know how things\n",
            "turned out. In Newton's day the three problems \n",
            "seemed roughly equally promising. No one knew yet\n",
            "what the payoff would be for inventing what we\n",
            "now call physics; if they had, more people would \n",
            "have been working on it. And alchemy and theology\n",
            "were still then in the category Marc Andreessen would \n",
            "describe as \"huge, if true.\"Newton made three bets. One of them worked. But \n",
            "they were all risky.\"\n",
            "\n",
            "\n",
            "CONCISE SUMMARY:\u001b[0m\n",
            "\n",
            "\u001b[1m> Finished chain.\u001b[0m\n",
            "\n",
            "\n",
            "\u001b[1m> Entering new StuffDocumentsChain chain...\u001b[0m\n",
            "\n",
            "\n",
            "\u001b[1m> Entering new LLMChain chain...\u001b[0m\n",
            "Prompt after formatting:\n",
            "\u001b[32;1m\u001b[1;3mWrite a concise summary of the following:\n",
            "\n",
            "\n",
            "\" Biographies of famous scientists fail to show the risks they took and the mistakes they made, leading to an unbalanced impression. Explaining the detours taken in their exploration of topics such as alchemy and theology, smart people are often thought of as crazy; however, there may be a simpler explanation.\n",
            "\n",
            " In Newton's day, no one knew how successful inventing physics, alchemy, and theology would be. But Newton made the decision to pursue all three topics, and one of them was a success. Even though our current view is that physics is the superior venture and alchemy and theology are waste of time, Newton's risky decision shows that these things were once considered equally important.\"\n",
            "\n",
            "\n",
            "CONCISE SUMMARY:\u001b[0m\n",
            "\n",
            "\u001b[1m> Finished chain.\u001b[0m\n",
            "\n",
            "\u001b[1m> Finished chain.\u001b[0m\n",
            "\n",
            "\u001b[1m> Finished chain.\u001b[0m\n"
          ]
        },
        {
          "data": {
            "text/plain": [
              "\" Biographies of famous scientists do not include the risks and mistakes taken when exploring unproven topics such as alchemy and theology, leading to an unbalanced view. Newton took a risk by exploring all three of these topics, and it paid off in success with physics. Despite the current view that alchemy and theology are a waste of time, Newton's decision shows that once they were regarded equally as important.\""
            ]
          },
          "execution_count": 57,
          "metadata": {},
          "output_type": "execute_result"
        }
      ],
      "source": [
        "from langchain.chains.summarize import load_summarize_chain\n",
        "from langchain.document_loaders import TextLoader\n",
        "from langchain.text_splitter import RecursiveCharacterTextSplitter\n",
        "\n",
        "loader = TextLoader('data/PaulGrahamEssays/disc.txt')\n",
        "documents = loader.load()\n",
        "\n",
        "# Get your splitter ready\n",
        "text_splitter = RecursiveCharacterTextSplitter(chunk_size=700, chunk_overlap=50)\n",
        "\n",
        "# Split your docs into texts\n",
        "texts = text_splitter.split_documents(documents)\n",
        "\n",
        "# There is a lot of complexity hidden in this one line. I encourage you to check out the video above for more detail\n",
        "chain = load_summarize_chain(llm, chain_type=\"map_reduce\", verbose=True)\n",
        "chain.run(texts)"
      ]
    },
    {
      "cell_type": "markdown",
      "id": "84f6193c",
      "metadata": {
        "id": "84f6193c"
      },
      "source": [
        "## Agents 🤖🤖\n",
        "\n",
        "Official LangChain Documentation describes agents perfectly (emphasis mine):\n",
        "> Some applications will require not just a predetermined chain of calls to LLMs/other tools, but potentially an **unknown chain** that depends on the user's input. In these types of chains, there is a “agent” which has access to a suite of tools. Depending on the user input, the agent can then **decide which, if any, of these tools to call**.\n",
        "\n",
        "\n",
        "Basically you use the LLM not just for text output, but also for decision making. The coolness and power of this functionality can't be overstated enough.\n",
        "\n",
        "Sam Altman emphasizes that the LLMs are good '[reasoning engine](https://www.youtube.com/watch?v=L_Guz73e6fw&t=867s)'. Agent take advantage of this."
      ]
    },
    {
      "cell_type": "markdown",
      "id": "3ce05d51",
      "metadata": {
        "id": "3ce05d51"
      },
      "source": [
        "### Agents\n",
        "\n",
        "The language model that drives decision making.\n",
        "\n",
        "More specifically, an agent takes in an input and returns a response corresponding to an action to take along with an action input. You can see different types of agents (which are better for different use cases) [here](https://python.langchain.com/en/latest/modules/agents/agents/agent_types.html)."
      ]
    },
    {
      "cell_type": "markdown",
      "id": "f696b65c",
      "metadata": {
        "id": "f696b65c"
      },
      "source": [
        "### Tools\n",
        "\n",
        "A 'capability' of an agent. This is an abstraction on top of a function that makes it easy for LLMs (and agents) to interact with it. Ex: Google search.\n",
        "\n",
        "This area shares commonalities with [OpenAI plugins](https://platform.openai.com/docs/plugins/introduction)."
      ]
    },
    {
      "cell_type": "markdown",
      "id": "a11f8231",
      "metadata": {
        "id": "a11f8231"
      },
      "source": [
        "### Toolkit\n",
        "\n",
        "Groups of tools that your agent can select from\n",
        "\n",
        "Let's bring them all together:"
      ]
    },
    {
      "cell_type": "code",
      "execution_count": null,
      "id": "67d5d82d",
      "metadata": {
        "id": "67d5d82d"
      },
      "outputs": [],
      "source": [
        "from langchain.agents import load_tools\n",
        "from langchain.agents import initialize_agent\n",
        "from langchain.llms import OpenAI\n",
        "import json\n",
        "\n",
        "llm = OpenAI(temperature=0, openai_api_key=openai_api_key)"
      ]
    },
    {
      "cell_type": "code",
      "execution_count": null,
      "id": "0ddcdbb9",
      "metadata": {
        "id": "0ddcdbb9"
      },
      "outputs": [],
      "source": [
        "serpapi_api_key='...'"
      ]
    },
    {
      "cell_type": "code",
      "execution_count": null,
      "id": "44fad67f",
      "metadata": {
        "id": "44fad67f"
      },
      "outputs": [],
      "source": [
        "toolkit = load_tools([\"serpapi\"], llm=llm, serpapi_api_key=serpapi_api_key)"
      ]
    },
    {
      "cell_type": "code",
      "execution_count": null,
      "id": "f544a74b",
      "metadata": {
        "id": "f544a74b"
      },
      "outputs": [],
      "source": [
        "agent = initialize_agent(toolkit, llm, agent=\"zero-shot-react-description\", verbose=True, return_intermediate_steps=True)"
      ]
    },
    {
      "cell_type": "code",
      "execution_count": null,
      "id": "c4882754",
      "metadata": {
        "id": "c4882754",
        "outputId": "cdb1c234-5fae-42df-e744-2859d13b3067"
      },
      "outputs": [
        {
          "name": "stdout",
          "output_type": "stream",
          "text": [
            "\n",
            "\n",
            "\u001b[1m> Entering new AgentExecutor chain...\u001b[0m\n",
            "\u001b[32;1m\u001b[1;3m I should try to find out what band Natalie Bergman is a part of.\n",
            "Action: Search\n",
            "Action Input: \"Natalie Bergman band\"\u001b[0m\n",
            "Observation: \u001b[36;1m\u001b[1;3mNatalie Bergman is an American singer-songwriter. She is one half of the duo Wild Belle, along with her brother Elliot Bergman. Her debut solo album, Mercy, was released on Third Man Records on May 7, 2021. She is based in Los Angeles.\u001b[0m\n",
            "Thought:\u001b[32;1m\u001b[1;3m I should search for the debut album of Wild Belle.\n",
            "Action: Search\n",
            "Action Input: \"Wild Belle debut album\"\u001b[0m\n",
            "Observation: \u001b[36;1m\u001b[1;3mIsles\u001b[0m\n",
            "Thought:\u001b[32;1m\u001b[1;3m I now know the final answer.\n",
            "Final Answer: Isles is the debut album of Wild Belle, the band that Natalie Bergman is a part of.\u001b[0m\n",
            "\n",
            "\u001b[1m> Finished chain.\u001b[0m\n"
          ]
        }
      ],
      "source": [
        "response = agent({\"input\":\"what was the first album of the\"\n",
        "                    \"band that Natalie Bergman is a part of?\"})"
      ]
    },
    {
      "cell_type": "code",
      "execution_count": null,
      "id": "ba438064",
      "metadata": {
        "id": "ba438064",
        "outputId": "a32586ee-7341-4420-c88e-13fb429e254e"
      },
      "outputs": [
        {
          "name": "stdout",
          "output_type": "stream",
          "text": [
            "[\n",
            "  [\n",
            "    [\n",
            "      \"Search\",\n",
            "      \"Natalie Bergman band\",\n",
            "      \" I should try to find out what band Natalie Bergman is a part of.\\nAction: Search\\nAction Input: \\\"Natalie Bergman band\\\"\"\n",
            "    ],\n",
            "    \"Natalie Bergman is an American singer-songwriter. She is one half of the duo Wild Belle, along with her brother Elliot Bergman. Her debut solo album, Mercy, was released on Third Man Records on May 7, 2021. She is based in Los Angeles.\"\n",
            "  ],\n",
            "  [\n",
            "    [\n",
            "      \"Search\",\n",
            "      \"Wild Belle debut album\",\n",
            "      \" I should search for the debut album of Wild Belle.\\nAction: Search\\nAction Input: \\\"Wild Belle debut album\\\"\"\n",
            "    ],\n",
            "    \"Isles\"\n",
            "  ]\n",
            "]\n"
          ]
        }
      ],
      "source": [
        "print(json.dumps(response[\"intermediate_steps\"], indent=2))"
      ]
    },
    {
      "cell_type": "markdown",
      "id": "3f9c30d2",
      "metadata": {
        "id": "3f9c30d2"
      },
      "source": [
        "![Wild Belle](https://github.com/abeliansw/langchain-tutorials/blob/main/data/WildBelle1.png?raw=1)"
      ]
    },
    {
      "cell_type": "markdown",
      "id": "14f4b368",
      "metadata": {
        "id": "14f4b368"
      },
      "source": [
        "🎵Enjoy🎵\n",
        "https://open.spotify.com/track/1eREJIBdqeCcqNCB1pbz7w?si=c014293b63c7478c"
      ]
    },
    {
      "cell_type": "code",
      "execution_count": null,
      "id": "3193b53e",
      "metadata": {
        "id": "3193b53e"
      },
      "outputs": [],
      "source": []
    }
  ],
  "metadata": {
    "kernelspec": {
      "display_name": "Python 3",
      "name": "python3"
    },
    "language_info": {
      "codemirror_mode": {
        "name": "ipython",
        "version": 3
      },
      "file_extension": ".py",
      "mimetype": "text/x-python",
      "name": "python",
      "nbconvert_exporter": "python",
      "pygments_lexer": "ipython3",
      "version": "3.9.13"
    },
    "colab": {
      "provenance": [],
      "gpuType": "T4"
    },
    "accelerator": "GPU"
  },
  "nbformat": 4,
  "nbformat_minor": 5
}